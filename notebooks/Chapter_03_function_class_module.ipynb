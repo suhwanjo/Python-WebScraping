{
 "cells": [
  {
   "attachments": {},
   "cell_type": "markdown",
   "metadata": {},
   "source": [
    "# 3장 함수, 클래스, 모듈"
   ]
  },
  {
   "attachments": {},
   "cell_type": "markdown",
   "metadata": {},
   "source": [
    "## 3.1 함수"
   ]
  },
  {
   "attachments": {},
   "cell_type": "markdown",
   "metadata": {},
   "source": [
    "### 3.1.1 함수의 정의와 호출"
   ]
  },
  {
   "attachments": {},
   "cell_type": "markdown",
   "metadata": {},
   "source": [
    "#### 함수의 기본 구조"
   ]
  },
  {
   "attachments": {},
   "cell_type": "markdown",
   "metadata": {},
   "source": [
    "#### 함수의 다양한 예"
   ]
  },
  {
   "attachments": {},
   "cell_type": "markdown",
   "metadata": {},
   "source": [
    "[3장: 84페이지]"
   ]
  },
  {
   "cell_type": "code",
   "execution_count": 55,
   "metadata": {},
   "outputs": [
    {
     "name": "stdout",
     "output_type": "stream",
     "text": [
      "=======\n",
      " (^o^)\n",
      "=======\n"
     ]
    }
   ],
   "source": [
    "# 함수의 정의(이모티콘 출력)\n",
    "def my_emoticon():\n",
    "    print(\"=======\")\n",
    "    print(\" (^o^)\")\n",
    "    print(\"=======\")\n",
    "    \n",
    "# 함수의 호출\n",
    "my_emoticon()"
   ]
  },
  {
   "cell_type": "code",
   "execution_count": 56,
   "metadata": {},
   "outputs": [
    {
     "name": "stdout",
     "output_type": "stream",
     "text": [
      "--- 게임 정보 ----\n",
      "이름: 고독한 방랑자\n",
      "버전: 2.02\n",
      "장르: MMORPG\n"
     ]
    }
   ],
   "source": [
    "# 함수의 정의(게임 정보 출력)\n",
    "def game_info_display(name, version, genre): # 3개의 매개변수를 갖는 함수\n",
    "    print(\"--- 게임 정보 ----\")\n",
    "    print(\"이름:\", name)\n",
    "    print(\"버전:\", version)\n",
    "    print(\"장르:\", genre)\n",
    "\n",
    "# 함수의 호출(매개변수의 개수와 같은 순서로 인수를 입력)\n",
    "game_info_display(\"고독한 방랑자\", \"2.02\", \"MMORPG\")"
   ]
  },
  {
   "cell_type": "code",
   "execution_count": 57,
   "metadata": {},
   "outputs": [
    {
     "data": {
      "text/plain": [
       "7"
      ]
     },
     "execution_count": 57,
     "metadata": {},
     "output_type": "execute_result"
    }
   ],
   "source": [
    "# 함수의 정의(y = 2*x + 1)\n",
    "def my_func(x):\n",
    "    y = 2*x + 1\n",
    "    return y\n",
    "\n",
    "# 함수의 호출(함수의 인수는 숫자로 입력)\n",
    "my_func(3)"
   ]
  },
  {
   "attachments": {},
   "cell_type": "markdown",
   "metadata": {},
   "source": [
    "[3장: 85페이지]"
   ]
  },
  {
   "cell_type": "code",
   "execution_count": 58,
   "metadata": {},
   "outputs": [
    {
     "data": {
      "text/plain": [
       "11"
      ]
     },
     "execution_count": 58,
     "metadata": {},
     "output_type": "execute_result"
    }
   ],
   "source": [
    "result = my_func(5)\n",
    "result"
   ]
  },
  {
   "cell_type": "code",
   "execution_count": 59,
   "metadata": {},
   "outputs": [
    {
     "data": {
      "text/plain": [
       "(45, 5.0)"
      ]
     },
     "execution_count": 59,
     "metadata": {},
     "output_type": "execute_result"
    }
   ],
   "source": [
    "# 함수의 정의(리스트를 입력 받아서 합계와 평균 반환) \n",
    "def calc_sum_mean(list_data):\n",
    "    e_count = 0  # 요소 개수(초기화)\n",
    "    e_sum = 0    # 요소 합계(초기화)\n",
    "    \n",
    "    for element in list_data:\n",
    "        e_count = e_count + 1    # 요소 개수 계산\n",
    "        e_sum = e_sum + element  # 요소 합계 계산\n",
    "    e_mean = e_sum / e_count     # 평균 = 합계/개수\n",
    "    \n",
    "    return e_sum, e_mean  # 계산 합계와 평균을 반환(자료형은 튜플)\n",
    "\n",
    "# 함수의 호출(인수는 리스트로 입력)\n",
    "calc_sum_mean([1, 2, 3, 4, 5, 6, 7, 8, 9])"
   ]
  },
  {
   "attachments": {},
   "cell_type": "markdown",
   "metadata": {},
   "source": [
    "[3장: 86페이지]"
   ]
  },
  {
   "cell_type": "code",
   "execution_count": 60,
   "metadata": {},
   "outputs": [
    {
     "name": "stdout",
     "output_type": "stream",
     "text": [
      "45\n",
      "5.0\n"
     ]
    }
   ],
   "source": [
    "list_sum, list_mean = calc_sum_mean([1, 2, 3, 4, 5, 6, 7, 8, 9])\n",
    "\n",
    "print(list_sum)\n",
    "print(list_mean)"
   ]
  },
  {
   "attachments": {},
   "cell_type": "markdown",
   "metadata": {},
   "source": [
    "#### 매개변수에 기본값을 할당한 함수"
   ]
  },
  {
   "cell_type": "code",
   "execution_count": 61,
   "metadata": {},
   "outputs": [],
   "source": [
    "def my_add(a=1, b=2, c=3):\n",
    "    y = a + b + c\n",
    "    print(\"{0} + {1} + {2} = {3}\".format(a, b, c, y))"
   ]
  },
  {
   "attachments": {},
   "cell_type": "markdown",
   "metadata": {},
   "source": [
    "[3장: 87페이지]"
   ]
  },
  {
   "cell_type": "code",
   "execution_count": 62,
   "metadata": {},
   "outputs": [
    {
     "name": "stdout",
     "output_type": "stream",
     "text": [
      "1 + 2 + 3 = 6\n",
      "11 + 2 + 3 = 16\n",
      "11 + 12 + 3 = 26\n",
      "11 + 12 + 13 = 36\n"
     ]
    }
   ],
   "source": [
    "# 모든 매개변수가 기본값을 사용\n",
    "my_add()     \n",
    "\n",
    "# 첫 번째 매개변수는 입력한 인수를 사용하고 나머지는 기본값을 사용\n",
    "my_add(11)      \n",
    "\n",
    "# 첫 번째와 두 번째 매개변수는 입력한 인수를 사용하고 나머지는 기본값을 사용\n",
    "my_add(11, 12) \n",
    "\n",
    "# 모든 매개변수가 입력한 인수를 사용\n",
    "my_add(11, 12, 13) "
   ]
  },
  {
   "cell_type": "code",
   "execution_count": 63,
   "metadata": {},
   "outputs": [
    {
     "name": "stdout",
     "output_type": "stream",
     "text": [
      "11 + 2 + 13 = 26\n",
      "1 + 12 + 13 = 26\n"
     ]
    }
   ],
   "source": [
    "# 첫 번째와 세 번째 매개변수는 입력한 인수를 사용하고 두 번째는 기본값을 사용 \n",
    "my_add(11, c=13) # 인수 입력이 매개변수에 의한 입력보다 먼저 와야 함 \n",
    "\n",
    "# 두 번째와 세 번째 매개변수는 입력한 인수를 사용하고 첫 번째는 기본값 사용 \n",
    "my_add(c=13, b=12) # 매개변수에 의한 입력끼리는 순서가 중요하지 않음"
   ]
  },
  {
   "cell_type": "code",
   "execution_count": 64,
   "metadata": {},
   "outputs": [],
   "source": [
    "def my_add2(a, b, c=3, d=4):\n",
    "    y = a + b + c + d\n",
    "    print(\"{0} + {1} + {2} + {3} = {4}\".format(a, b, c, d, y))"
   ]
  },
  {
   "attachments": {},
   "cell_type": "markdown",
   "metadata": {},
   "source": [
    "[3장: 88페이지]"
   ]
  },
  {
   "cell_type": "code",
   "execution_count": 65,
   "metadata": {},
   "outputs": [
    {
     "name": "stdout",
     "output_type": "stream",
     "text": [
      "1 + 2 + 3 + 4 = 10\n",
      "1 + 2 + 13 + 4 = 20\n",
      "1 + 2 + 13 + 14 = 30\n",
      "1 + 2 + 3 + 14 = 20\n"
     ]
    }
   ],
   "source": [
    "my_add2(1, 2)         # 기본값 없는 매개변수는 반드시 인수 필요. c와 d에는 기본값 입력\n",
    "my_add2(1, 2, 13)     # d에는 기본값이 입력됨\n",
    "my_add2(1, 2, 13, 14) # c와 d에 모두 인수로 지정한 값 입력\n",
    "my_add2(1, 2, d=14)   # c에는 기본값이 입력됨"
   ]
  },
  {
   "attachments": {},
   "cell_type": "markdown",
   "metadata": {},
   "source": [
    "#### 지역 변수와 전역 변수"
   ]
  },
  {
   "attachments": {},
   "cell_type": "markdown",
   "metadata": {},
   "source": [
    "[3장: 88페이지]"
   ]
  },
  {
   "cell_type": "code",
   "execution_count": 66,
   "metadata": {},
   "outputs": [],
   "source": [
    "a = 10 # 전역 변수. 어디서나 사용\n",
    "\n",
    "def func1():\n",
    "    a = 1 # 지역 변수. 함수 func1 내에서만 사용\n",
    "    print(\"[func1()] 지역 변수 a =\", a)\n",
    "    \n",
    "def func2():\n",
    "    a = 2 # 지역 변수. 함수 func2 내에서만 사용\n",
    "    print(\"[func2()] 지역 변수 a =\", a)    \n",
    "    \n",
    "def func3():\n",
    "    print(\"[func3()] 전역 변수 a =\", a) # 전역 변수를 변경 없이 사용\n",
    "    \n",
    "def func4():\n",
    "    global a # 함수 내에서 전역 변수를 변경하려면 반드시 'global 전역변수명' 선언 필요\n",
    "    a = 20    # 전역 변수의 값 변경\n",
    "    print(\"[func4()] 전역 변수 a =\", a)"
   ]
  },
  {
   "attachments": {},
   "cell_type": "markdown",
   "metadata": {},
   "source": [
    "[3장: 89페이지]"
   ]
  },
  {
   "cell_type": "code",
   "execution_count": 67,
   "metadata": {},
   "outputs": [
    {
     "name": "stdout",
     "output_type": "stream",
     "text": [
      "[func1()] 지역 변수 a = 1\n",
      "[func2()] 지역 변수 a = 2\n"
     ]
    }
   ],
   "source": [
    "func1()\n",
    "func2()"
   ]
  },
  {
   "cell_type": "code",
   "execution_count": 68,
   "metadata": {},
   "outputs": [
    {
     "name": "stdout",
     "output_type": "stream",
     "text": [
      "전역 변수 a =  10\n"
     ]
    }
   ],
   "source": [
    "print(\"전역 변수 a = \", a)"
   ]
  },
  {
   "cell_type": "code",
   "execution_count": 69,
   "metadata": {},
   "outputs": [
    {
     "name": "stdout",
     "output_type": "stream",
     "text": [
      "[func3()] 전역 변수 a = 10\n",
      "[func4()] 전역 변수 a = 20\n",
      "[func3()] 전역 변수 a = 20\n"
     ]
    }
   ],
   "source": [
    "func3() # 함수 내에서 전역 변수 a를 호출\n",
    "func4() # 함수 내에서 전역 변수 a의 값을 변경\n",
    "func3() # 함수 내에서 전역 변수 a를 호출"
   ]
  },
  {
   "attachments": {},
   "cell_type": "markdown",
   "metadata": {},
   "source": [
    "### 3.1.2 내장 함수"
   ]
  },
  {
   "attachments": {},
   "cell_type": "markdown",
   "metadata": {},
   "source": [
    "#### 자료형 변환 함수"
   ]
  },
  {
   "attachments": {},
   "cell_type": "markdown",
   "metadata": {},
   "source": [
    "[3장: 90페이지]"
   ]
  },
  {
   "cell_type": "code",
   "execution_count": 70,
   "metadata": {
    "scrolled": true
   },
   "outputs": [
    {
     "name": "stdout",
     "output_type": "stream",
     "text": [
      "정수로 변환: [12, 1234, 0, -56]\n",
      "실수로 변환: [12.0, 12.34, 56.0, -98.0]\n",
      "문자열로 변환: ['12', '12.34']\n"
     ]
    }
   ],
   "source": [
    "print(\"정수로 변환:\", [int(12.34), int(\"1234\"), int(0.56), int(-56.78)])\n",
    "print(\"실수로 변환:\", [float(12), float(\"12.34\"), float(\"56\"), float(-98)])\n",
    "print(\"문자열로 변환:\", [str(12), str(12.34)])"
   ]
  },
  {
   "attachments": {},
   "cell_type": "markdown",
   "metadata": {},
   "source": [
    "[3장: 91페이지]"
   ]
  },
  {
   "cell_type": "code",
   "execution_count": 71,
   "metadata": {},
   "outputs": [
    {
     "name": "stdout",
     "output_type": "stream",
     "text": [
      "튜플/세트 -> 리스트로 변환: [1, 2, 3] [1, 2, 3]\n",
      "리스트/세트 -> 튜플로 변환: (1, 2, 3) (1, 2, 3)\n",
      "리스트/튜플 -> 세트로 변환: {1, 2, 3} {1, 2, 3}\n"
     ]
    }
   ],
   "source": [
    "print(\"튜플/세트 -> 리스트로 변환:\", list((1,2,3)), list({1,2,3})) \n",
    "print(\"리스트/세트 -> 튜플로 변환:\", tuple([1,2,3]), tuple({1,2,3}))\n",
    "print(\"리스트/튜플 -> 세트로 변환:\", set([1,2,3]), set((1,2,3)))"
   ]
  },
  {
   "cell_type": "code",
   "execution_count": 72,
   "metadata": {},
   "outputs": [
    {
     "name": "stdout",
     "output_type": "stream",
     "text": [
      "[100, 2, 3, 4, 5, 5, 5]\n",
      "{2, 3, 100, 5, 4}\n"
     ]
    }
   ],
   "source": [
    "list_data = [100, 2, 3, 4, 5, 5, 5] # 리스트 데이터\n",
    "\n",
    "print(list_data)\n",
    "print(set(list_data))   # 리스트 데이터를 세트로 변환"
   ]
  },
  {
   "attachments": {},
   "cell_type": "markdown",
   "metadata": {},
   "source": [
    "#### 최솟값, 최댓값,  합계를 구하는 함수"
   ]
  },
  {
   "attachments": {},
   "cell_type": "markdown",
   "metadata": {},
   "source": [
    "[3장: 92페이지]"
   ]
  },
  {
   "cell_type": "code",
   "execution_count": 73,
   "metadata": {},
   "outputs": [
    {
     "name": "stdout",
     "output_type": "stream",
     "text": [
      "최소: -2\n",
      "최대: 5\n",
      "합계: 12\n"
     ]
    }
   ],
   "source": [
    "list_data = [-2, -1, 0, 1, 2, 3, 4, 5] # 리스트 데이터\n",
    "\n",
    "print(\"최소:\", min(list_data)) # 리스트 요소의 최솟값\n",
    "print(\"최대:\", max(list_data)) # 리스트 요소의 최댓값\n",
    "print(\"합계:\", sum(list_data)) # 리스트 요소의 합"
   ]
  },
  {
   "cell_type": "code",
   "execution_count": 74,
   "metadata": {},
   "outputs": [
    {
     "name": "stdout",
     "output_type": "stream",
     "text": [
      "평균: 1.5\n"
     ]
    }
   ],
   "source": [
    "mean = sum(list_data) / len(list_data) # 요소의 평균 = 요소의 합 / 요소의 개수\n",
    "\n",
    "print(\"평균:\", mean)"
   ]
  },
  {
   "cell_type": "code",
   "execution_count": 75,
   "metadata": {
    "scrolled": true
   },
   "outputs": [
    {
     "name": "stdout",
     "output_type": "stream",
     "text": [
      "세트 데이터: {0, 1, 2, 3, -1, -2}\n",
      "최소: -2, 최대: 3\n",
      "합계: 3, 데이터 개수: 6\n"
     ]
    }
   ],
   "source": [
    "set_data = {-2, -1, 0, 1, 2, 3, 3, 3} # 중복 요소는 제거하고 세트 생성\n",
    "\n",
    "print(\"세트 데이터:\", set_data)\n",
    "print(\"최소: {}, 최대: {}\".format(min(set_data), max(set_data)))\n",
    "print(\"합계: {}, 데이터 개수: {}\".format(sum(set_data), len(set_data)))"
   ]
  },
  {
   "attachments": {},
   "cell_type": "markdown",
   "metadata": {},
   "source": [
    "## 3.2 클래스"
   ]
  },
  {
   "attachments": {},
   "cell_type": "markdown",
   "metadata": {},
   "source": [
    "### 3.2.1 클래스와 객체"
   ]
  },
  {
   "attachments": {},
   "cell_type": "markdown",
   "metadata": {},
   "source": [
    "### 3.2.2 클래스 선언"
   ]
  },
  {
   "attachments": {},
   "cell_type": "markdown",
   "metadata": {},
   "source": [
    "[3장: 95페이지]"
   ]
  },
  {
   "cell_type": "code",
   "execution_count": 76,
   "metadata": {},
   "outputs": [],
   "source": [
    "class Robot():\n",
    "    def __init__(self, name, position):    # 초기화 함수\n",
    "        self.name = name                   # 인스턴스 변수(로봇 객체의 이름) 초기화\n",
    "        self.position = position           # 인스턴스 변수(로봇 객체의 초기 위치) 초기화 \n",
    "       \n",
    "    def move(self):                        # 앞으로 한 칸 이동을 위한 함수\n",
    "        self.position = self.position + 1  # 이전 위치에서 앞으로 한 칸 이동\n",
    "        print(f\"{self.name}의 현재 위치: {self.position}\")"
   ]
  },
  {
   "attachments": {},
   "cell_type": "markdown",
   "metadata": {},
   "source": [
    "### 3.2.3 객체 생성과 활용"
   ]
  },
  {
   "attachments": {},
   "cell_type": "markdown",
   "metadata": {},
   "source": [
    "[3장: 96페이지]"
   ]
  },
  {
   "cell_type": "code",
   "execution_count": 77,
   "metadata": {},
   "outputs": [],
   "source": [
    "robot1 = Robot('R1', 0)  # 클래스에서 객체 생성"
   ]
  },
  {
   "cell_type": "code",
   "execution_count": 78,
   "metadata": {},
   "outputs": [
    {
     "name": "stdout",
     "output_type": "stream",
     "text": [
      "로봇의 이름: R1, 초기 위치: 0\n"
     ]
    }
   ],
   "source": [
    "print(f\"로봇의 이름: {robot1.name}, 초기 위치: {robot1.position}\")"
   ]
  },
  {
   "attachments": {},
   "cell_type": "markdown",
   "metadata": {},
   "source": [
    "[3장: 97페이지]"
   ]
  },
  {
   "cell_type": "code",
   "execution_count": 79,
   "metadata": {},
   "outputs": [
    {
     "name": "stdout",
     "output_type": "stream",
     "text": [
      "R1의 현재 위치: 1\n"
     ]
    }
   ],
   "source": [
    "robot1.move() # 객체의 메서드 move 호출"
   ]
  },
  {
   "cell_type": "code",
   "execution_count": 80,
   "metadata": {},
   "outputs": [
    {
     "name": "stdout",
     "output_type": "stream",
     "text": [
      "로봇의 이름: R2, 초기 위치: 10\n",
      "R2의 현재 위치: 11\n",
      "R2의 현재 위치: 12\n"
     ]
    }
   ],
   "source": [
    "robot2 = Robot('R2', 10) # 클래스에서 객체 생성\n",
    "# 객체의 속성에 접근해 로봇의 이름과 초기 위치 출력 \n",
    "print(f\"로봇의 이름: {robot2.name}, 초기 위치: {robot2.position}\") \n",
    "\n",
    "robot2.move() # 객체의 메서드 move 호출(호출할 때마다 한 칸씩 이동)\n",
    "robot2.move() # 객체의 메서드 move 호출(호출할 때마다 한 칸씩 이동)"
   ]
  },
  {
   "attachments": {},
   "cell_type": "markdown",
   "metadata": {},
   "source": [
    "### 3.3.2 내장 모듈"
   ]
  },
  {
   "attachments": {},
   "cell_type": "markdown",
   "metadata": {},
   "source": [
    "#### 파일과 경로 처리 모듈"
   ]
  },
  {
   "attachments": {},
   "cell_type": "markdown",
   "metadata": {},
   "source": [
    "[3장: 104페이지]"
   ]
  },
  {
   "cell_type": "code",
   "execution_count": 82,
   "metadata": {
    "scrolled": true
   },
   "outputs": [
    {
     "name": "stdout",
     "output_type": "stream",
     "text": [
      "- 파일의 전체 경로: C:\\Users\\shjo\\Desktop\\전공\\Python-WebScraping-1\\code\\ch03\\car.py\n",
      "- 파일의 디렉터리: C:\\Users\\shjo\\Desktop\\전공\\Python-WebScraping-1\\code\\ch03\n",
      "- 파일명: car.py\n",
      "- 파일의 확장자: .py\n",
      "- 확장자 제외한 파일명: car\n"
     ]
    }
   ],
   "source": [
    "from pathlib import Path\n",
    "\n",
    "# 파일의 경로 입력해 Path 클래스에서 file_path 객체 생성\n",
    "file_path = Path('C:/Users/shjo/Desktop/전공/Python-WebScraping-1/code/ch03/car.py')\n",
    "\n",
    "print(\"- 파일의 전체 경로:\", file_path)          # 파일의 전체 경로 출력\n",
    "print(\"- 파일의 디렉터리:\", file_path.parent)    # 파일의 디렉터리 출력\n",
    "print(\"- 파일명:\", file_path.name)               # 파일의 이름 출력\n",
    "print(\"- 파일의 확장자:\", file_path.suffix)      # 파일의 확장자 출력\n",
    "print(\"- 확장자 제외한 파일명:\", file_path.stem) # 확장자를 제외한 파일명 출력"
   ]
  },
  {
   "cell_type": "code",
   "execution_count": 83,
   "metadata": {},
   "outputs": [
    {
     "name": "stdout",
     "output_type": "stream",
     "text": [
      "- 지정한 경로: C:\\Users\\shjo\\Desktop\\전공\\Python-WebScraping-1\\code\\ch03\n",
      "- 경로 존재 여부 확인: False\n",
      "- 경로가 디렉터리(폴더)인지 확인: False\n",
      "- 경로가 파일인지 확인: False\n",
      "- 홈 디렉터리: C:\\Users\\shjo\n"
     ]
    }
   ],
   "source": [
    "from pathlib import Path\n",
    "\n",
    "dir_path = Path('C:/Users/shjo/Desktop/전공/Python-WebScraping-1/code/ch03') # 디렉터리 경로를 입력해 dir_path 객체 생성\n",
    "\n",
    "print(\"- 지정한 경로:\", dir_path)\n",
    "print(\"- 경로 존재 여부 확인:\", dir_path.exists())\n",
    "print(\"- 경로가 디렉터리(폴더)인지 확인:\", dir_path.is_dir())\n",
    "print(\"- 경로가 파일인지 확인:\", dir_path.is_file())\n",
    "print(\"- 홈 디렉터리:\", dir_path.home())"
   ]
  },
  {
   "attachments": {},
   "cell_type": "markdown",
   "metadata": {},
   "source": [
    "[3장: 105페이지]"
   ]
  },
  {
   "cell_type": "code",
   "execution_count": 84,
   "metadata": {},
   "outputs": [
    {
     "name": "stdout",
     "output_type": "stream",
     "text": [
      "- 파일의 전체 경로: C:\\Users\\shjo\\Desktop\\전공\\Python-WebScraping-1\\code\\ch03\\car.py\n",
      "- 경로 존재 여부 확인: False\n",
      "- 경로가 디렉터리(폴더)인지 확인: False\n",
      "- 경로가 파일인지 확인: False\n"
     ]
    }
   ],
   "source": [
    "print(\"- 파일의 전체 경로:\", file_path)  \n",
    "print(\"- 경로 존재 여부 확인:\", file_path.exists())\n",
    "print(\"- 경로가 디렉터리(폴더)인지 확인:\", file_path.is_dir())\n",
    "print(\"- 경로가 파일인지 확인:\", file_path.is_file()) "
   ]
  },
  {
   "attachments": {},
   "cell_type": "markdown",
   "metadata": {},
   "source": [
    "#### 날짜와 시간 처리 모듈"
   ]
  },
  {
   "attachments": {},
   "cell_type": "markdown",
   "metadata": {},
   "source": [
    "[3장: 106페이지]"
   ]
  },
  {
   "cell_type": "code",
   "execution_count": 85,
   "metadata": {},
   "outputs": [
    {
     "name": "stdout",
     "output_type": "stream",
     "text": [
      "[date 클래스로 날짜 지정] 2020-10-09\n",
      "[date 클래스의 속성 이용] 2020/10/9\n",
      "[time 클래스로 시각 지정] 15:23:21\n",
      "[time 클래스의 속성 지정] 15/23/21\n",
      "[datetime 클래스로 날짜와 시각 지정] 2021-08-15 20:19:45\n"
     ]
    }
   ],
   "source": [
    "from datetime import date, time, datetime, timedelta\n",
    "\n",
    "date_obj = date(2020, 10, 9)\n",
    "time_obj = time(15, 23, 21)\n",
    "datetime_obj = datetime(2021, 8, 15, 20, 19, 45)\n",
    "\n",
    "print(\"[date 클래스로 날짜 지정]\", date_obj)\n",
    "print(\"[date 클래스의 속성 이용] {0}/{1}/{2}\".format(date_obj.year, \n",
    "                                                     date_obj.month, \n",
    "                                                     date_obj.day))\n",
    "\n",
    "print(\"[time 클래스로 시각 지정]\", time_obj)\n",
    "print(\"[time 클래스의 속성 지정] {0}/{1}/{2}\".format(time_obj.hour, \n",
    "                                                     time_obj.minute, \n",
    "                                                     time_obj.second))\n",
    "\n",
    "print(\"[datetime 클래스로 날짜와 시각 지정]\", datetime_obj)"
   ]
  },
  {
   "attachments": {},
   "cell_type": "markdown",
   "metadata": {},
   "source": [
    "[3장: 107페이지]"
   ]
  },
  {
   "cell_type": "code",
   "execution_count": 86,
   "metadata": {},
   "outputs": [
    {
     "data": {
      "text/plain": [
       "datetime.timedelta(days=6)"
      ]
     },
     "execution_count": 86,
     "metadata": {},
     "output_type": "execute_result"
    }
   ],
   "source": [
    "date_obj2 = date(2020, 10, 15)   # 날짜 지정\n",
    "diff_date = date_obj2 - date_obj # date 객체의 날짜 차이를 연산\n",
    "diff_date"
   ]
  },
  {
   "cell_type": "code",
   "execution_count": 87,
   "metadata": {},
   "outputs": [
    {
     "name": "stdout",
     "output_type": "stream",
     "text": [
      "두 날짜의 차이: 6일\n"
     ]
    }
   ],
   "source": [
    "print(\"두 날짜의 차이: {}일\".format(diff_date.days))"
   ]
  },
  {
   "cell_type": "code",
   "execution_count": 88,
   "metadata": {},
   "outputs": [
    {
     "name": "stdout",
     "output_type": "stream",
     "text": [
      "지정 날짜: 2022-05-15, 일주일 전 날짜: 2022-05-08\n"
     ]
    }
   ],
   "source": [
    "date_org = date(2022, 5, 15) # 날짜 지정\n",
    "date_result = date_org - timedelta(weeks=1) # 일주일 전의 날짜 계산\n",
    "print(\"지정 날짜: {0}, 일주일 전 날짜: {1}\".format(date_org, date_result))"
   ]
  },
  {
   "attachments": {},
   "cell_type": "markdown",
   "metadata": {},
   "source": [
    "[3장: 108페이지]"
   ]
  },
  {
   "cell_type": "code",
   "execution_count": 89,
   "metadata": {},
   "outputs": [
    {
     "name": "stdout",
     "output_type": "stream",
     "text": [
      "2021-11-15 00:30:00\n"
     ]
    }
   ],
   "source": [
    "# 날짜 및 시간 지정\n",
    "datetime_org = datetime(2021, 11, 14, 23, 0, 0) \n",
    "\n",
    "# 1시간 30분 후 날짜 및 시각 계산\n",
    "datetime_result = datetime_org + timedelta(hours=1, minutes=30) \n",
    "\n",
    "print(datetime_result)"
   ]
  },
  {
   "cell_type": "code",
   "execution_count": 90,
   "metadata": {},
   "outputs": [
    {
     "name": "stdout",
     "output_type": "stream",
     "text": [
      "- 오늘의 날짜: 2023-5-11\n",
      "- 현재의 날짜 및 시각(전체 표시): 2023-05-11 00:17:43.338442\n",
      "- 현재의 날짜: 2023-5-11\n",
      "- 현재의 시각: 0:17:43\n"
     ]
    }
   ],
   "source": [
    "today = date.today()\n",
    "now = datetime.now()\n",
    "\n",
    "print(\"- 오늘의 날짜: {0}-{1}-{2}\".format(today.year, today.month, today.day))\n",
    "print(\"- 현재의 날짜 및 시각(전체 표시):\", now)\n",
    "print(\"- 현재의 날짜: {0}-{1}-{2}\".format(now.year, now.month, now.day))\n",
    "print(\"- 현재의 시각: {0}:{1}:{2}\".format(now.hour, now.minute, now.second))"
   ]
  },
  {
   "cell_type": "code",
   "execution_count": 91,
   "metadata": {
    "scrolled": false
   },
   "outputs": [
    {
     "name": "stdout",
     "output_type": "stream",
     "text": [
      "- 날짜 표시: 2021년 04월 08일\n",
      "- 날짜 표시(다른 표현): 2021-04-08\n",
      "- 시각 표시: 13시 30분 00초 (PM)\n",
      "- 시각 표시(다른 표현): 13/30/00 (PM)\n",
      "- 요일 표시: Thursday, Thu, 4\n",
      "- 월 표시: April, Apr\n"
     ]
    }
   ],
   "source": [
    "special_day = datetime(2021, 4, 8, 13, 30, 0)\n",
    "\n",
    "print(\"- 날짜 표시: {0:%Y}년 {0:%m}월 {0:%d}일\".format(special_day))\n",
    "print(\"- 날짜 표시(다른 표현): {:%Y-%m-%d}\".format(special_day))\n",
    "print(\"- 시각 표시: {0:%H}시 {0:%M}분 {0:%S}초 ({0:%p})\".format(special_day))\n",
    "print(\"- 시각 표시(다른 표현): {:%H/%M/%S (%p)}\".format(special_day))\n",
    "print(\"- 요일 표시: {0:%A}, {0:%a}, {0:%w}\".format(special_day))\n",
    "print(\"- 월 표시: {0:%B}, {0:%b}\".format(special_day))"
   ]
  },
  {
   "attachments": {},
   "cell_type": "markdown",
   "metadata": {},
   "source": [
    "[3장: 109페이지]"
   ]
  },
  {
   "cell_type": "code",
   "execution_count": 92,
   "metadata": {},
   "outputs": [
    {
     "name": "stdout",
     "output_type": "stream",
     "text": [
      "* 설정한 로케일:  ('ko_KR', 'UTF-8')\n",
      "- 요일 표시(한글/한국): 목요일, 목\n",
      "- 월 표시(한글/한국): 4월, 4\n",
      "* 설정한 로케일:  ('en_US', 'UTF-8')\n",
      "- 요일 표시(영어/미국): Thursday, Thu\n",
      "- 월 표시(한글/한국): April, Apr\n"
     ]
    }
   ],
   "source": [
    "import locale\n",
    "\n",
    "# 한글, 한국, UTF-8 인코딩을 로케일로 지정\n",
    "locale.setlocale(locale.LC_ALL, 'ko_KR.UTF-8')  \n",
    "\n",
    "print(\"* 설정한 로케일: \", locale.getlocale())  # 설정한 로케일 가져오기\n",
    "print(\"- 요일 표시(한글/한국): {0:%A}, {0:%a}\".format(special_day))\n",
    "print(\"- 월 표시(한글/한국): {0:%B}, {0:%b}\".format(special_day))\n",
    "\n",
    "# 영어, 미국, UTF-8 인코딩을 로케일로 지정\n",
    "locale.setlocale(locale.LC_ALL, 'en_US.UTF-8') \n",
    "\n",
    "print(\"* 설정한 로케일: \", locale.getlocale()) # 설정한 로케일 가져오기\n",
    "print(\"- 요일 표시(영어/미국): {0:%A}, {0:%a}\".format(special_day))\n",
    "print(\"- 월 표시(한글/한국): {0:%B}, {0:%b}\".format(special_day))"
   ]
  },
  {
   "attachments": {},
   "cell_type": "markdown",
   "metadata": {},
   "source": [
    "[3장: 110페이지]"
   ]
  },
  {
   "cell_type": "code",
   "execution_count": 93,
   "metadata": {
    "scrolled": true
   },
   "outputs": [
    {
     "name": "stdout",
     "output_type": "stream",
     "text": [
      "[날짜] 2021-04-08, 목요일 [시간] 13:30:00 (오후)\n",
      "[Date] 2021-04-08, Thursday [Time] 13:30:00 (PM)\n"
     ]
    }
   ],
   "source": [
    "# 한글, 한국, UTF-8 인코딩을 로케일로 지정\n",
    "locale.setlocale(locale.LC_ALL, 'ko_KR.UTF-8')  \n",
    "print(special_day.strftime(\"[날짜] %Y-%m-%d, %A [시간] %H:%M:%S (%p)\"))\n",
    "\n",
    "# 영어, 미국, UTF-8 인코딩을 로케일로 지정\n",
    "locale.setlocale(locale.LC_ALL, 'en_US.UTF-8') \n",
    "print(special_day.strftime(\"[Date] %Y-%m-%d, %A [Time] %H:%M:%S (%p)\"))"
   ]
  },
  {
   "attachments": {},
   "cell_type": "markdown",
   "metadata": {},
   "source": [
    "### 3.3.3 패키지"
   ]
  },
  {
   "attachments": {},
   "cell_type": "markdown",
   "metadata": {},
   "source": [
    "#### 패키지 구조"
   ]
  },
  {
   "attachments": {},
   "cell_type": "markdown",
   "metadata": {},
   "source": [
    "#### 패키지 작성"
   ]
  },
  {
   "attachments": {},
   "cell_type": "markdown",
   "metadata": {},
   "source": [
    "[3장: 111페이지]"
   ]
  },
  {
   "cell_type": "code",
   "execution_count": 94,
   "metadata": {},
   "outputs": [
    {
     "name": "stdout",
     "output_type": "stream",
     "text": [
      "C:\\Users\\shjo\\Desktop\\전공\\Python-WebScraping-1\\code\\ch03\\image\\io_file 디렉터리의 존재 여부: True\n"
     ]
    }
   ],
   "source": [
    "from pathlib import Path\n",
    "\n",
    "# 디렉터리 경로를 입력해 path 객체를 생성\n",
    "dir_path = Path('C:/Users/shjo/Desktop/전공/Python-WebScraping-1/code/ch03/image/io_file')          \n",
    "\n",
    "# 디렉터리가 없다면 생성\n",
    "dir_path.mkdir(parents=True, exist_ok=True)\n",
    "\n",
    "# 생성한 디렉터리의 존재 여부 확인\n",
    "print(\"{0} 디렉터리의 존재 여부: {1}\".format(dir_path, dir_path.exists()))"
   ]
  },
  {
   "attachments": {},
   "cell_type": "markdown",
   "metadata": {},
   "source": [
    "[3장: 112페이지]"
   ]
  },
  {
   "cell_type": "code",
   "execution_count": 95,
   "metadata": {},
   "outputs": [
    {
     "name": "stdout",
     "output_type": "stream",
     "text": [
      "Writing C:/Users/shjo/Desktop/전공/Python-WebScraping-1/code/ch03/image/io_file/img_read.py\n"
     ]
    }
   ],
   "source": [
    "%%writefile C:/Users/shjo/Desktop/전공/Python-WebScraping-1/code/ch03/image/io_file/img_read.py\n",
    "# File name: img_read.py\n",
    "\n",
    "default_image = \"=> variable 'default_imag' in img_read module\"\n",
    "\n",
    "def png_read():\n",
    "    print(\"- png_read() in img_read module\")\n",
    "    \n",
    "def jpg_read():\n",
    "    print(\"- jpg_read() in img_read module\")    "
   ]
  },
  {
   "attachments": {},
   "cell_type": "markdown",
   "metadata": {},
   "source": [
    "#### 패키지 사용"
   ]
  },
  {
   "attachments": {},
   "cell_type": "markdown",
   "metadata": {},
   "source": [
    "[3장: 113페이지]"
   ]
  },
  {
   "cell_type": "code",
   "execution_count": 96,
   "metadata": {},
   "outputs": [
    {
     "name": "stdout",
     "output_type": "stream",
     "text": [
      "C:\\Users\\shjo\\Desktop\\전공\\Python-WebScraping-1\\code\\ch03\n"
     ]
    }
   ],
   "source": [
    "cd C:\\Users/shjo/Desktop/전공/Python-WebScraping-1\\code\\ch03"
   ]
  },
  {
   "cell_type": "code",
   "execution_count": 97,
   "metadata": {},
   "outputs": [
    {
     "name": "stdout",
     "output_type": "stream",
     "text": [
      "- png_read() in img_read module\n",
      "- jpg_read() in img_read module\n",
      "=> variable 'default_imag' in img_read module\n"
     ]
    }
   ],
   "source": [
    "# image 패키지 내에 io_file 폴더에 있는 img_read 모듈 임포트\n",
    "import image.io_file.img_read  \n",
    "\n",
    "# '패키지명.하위폴더명.모듈명.함수()' 형식으로 함수 호출\n",
    "image.io_file.img_read.png_read() \n",
    "image.io_file.img_read.jpg_read()\n",
    "\n",
    "# '패키지명.하위폴더명.모듈명.변수' 형식으로 변수를 사용\n",
    "print(image.io_file.img_read.default_image)"
   ]
  },
  {
   "attachments": {},
   "cell_type": "markdown",
   "metadata": {},
   "source": [
    "[3장: 114페이지]"
   ]
  },
  {
   "cell_type": "code",
   "execution_count": 98,
   "metadata": {},
   "outputs": [
    {
     "name": "stdout",
     "output_type": "stream",
     "text": [
      "- png_read() in img_read module\n",
      "- jpg_read() in img_read module\n",
      "=> variable 'default_imag' in img_read module\n"
     ]
    }
   ],
   "source": [
    "from image.io_file import img_read\n",
    "\n",
    "# 모듈명.함수() 형식으로 함수를 호출\n",
    "img_read.png_read() \n",
    "img_read.jpg_read()\n",
    "\n",
    "# 모듈명.변수 형식으로 변수를 사용\n",
    "print(img_read.default_image)"
   ]
  },
  {
   "cell_type": "code",
   "execution_count": 99,
   "metadata": {
    "scrolled": true
   },
   "outputs": [
    {
     "name": "stdout",
     "output_type": "stream",
     "text": [
      "- png_read() in img_read module\n",
      "- jpg_read() in img_read module\n",
      "=> variable 'default_imag' in img_read module\n"
     ]
    }
   ],
   "source": [
    "from image.io_file.img_read import png_read, jpg_read, default_image\n",
    "\n",
    "# 모듈의 함수를 바로 호출\n",
    "png_read() \n",
    "jpg_read()\n",
    "\n",
    "# 모듈의 변수를 바로 사용\n",
    "print(default_image)"
   ]
  },
  {
   "attachments": {},
   "cell_type": "markdown",
   "metadata": {},
   "source": [
    "[3장: 115페이지]"
   ]
  },
  {
   "cell_type": "code",
   "execution_count": 100,
   "metadata": {},
   "outputs": [
    {
     "name": "stdout",
     "output_type": "stream",
     "text": [
      "- png_read() in img_read module\n"
     ]
    }
   ],
   "source": [
    "# 'import 패키지명[.하위폴더명].모듈명 as 별명'\n",
    "import image.io_file.img_read as i_read\n",
    "\n",
    "# 모듈 별명으로 함수를 호출\n",
    "i_read.png_read() "
   ]
  },
  {
   "cell_type": "code",
   "execution_count": 101,
   "metadata": {},
   "outputs": [
    {
     "name": "stdout",
     "output_type": "stream",
     "text": [
      "- jpg_read() in img_read module\n"
     ]
    }
   ],
   "source": [
    "# 'from 패키지명[.하위폴더명] import 모듈명 as 별명'\n",
    "from image.io_file import img_read as img_r\n",
    "\n",
    "# 모듈 별명으로 함수를 호출\n",
    "img_r.jpg_read() "
   ]
  },
  {
   "attachments": {},
   "cell_type": "markdown",
   "metadata": {},
   "source": [
    "[3장: 116페이지]"
   ]
  },
  {
   "cell_type": "code",
   "execution_count": 102,
   "metadata": {},
   "outputs": [
    {
     "name": "stdout",
     "output_type": "stream",
     "text": [
      "- png_read() in img_read module\n",
      "- jpg_read() in img_read module\n",
      "=> variable 'default_imag' in img_read module\n"
     ]
    }
   ],
   "source": [
    "# 'from 패키지명[.하위폴더명].모듈명 import 변수명/함수명/클래스명 as 별명'\n",
    "from image.io_file.img_read import png_read as p_read\n",
    "from image.io_file.img_read import jpg_read as j_read\n",
    "from image.io_file.img_read import default_image as d_image\n",
    "\n",
    "# 별명으로 모듈의 함수를 바로 호출\n",
    "p_read() \n",
    "j_read()\n",
    "\n",
    "# 별명으로 모듈의 변수를 바로 사용\n",
    "print(d_image)"
   ]
  },
  {
   "attachments": {},
   "cell_type": "markdown",
   "metadata": {},
   "source": [
    "### 3.3.4 스케줄러 패키지"
   ]
  },
  {
   "attachments": {},
   "cell_type": "markdown",
   "metadata": {},
   "source": [
    "#### 설치 및 기본 활용"
   ]
  },
  {
   "attachments": {},
   "cell_type": "markdown",
   "metadata": {},
   "source": [
    "[3장: 119페이지]"
   ]
  },
  {
   "cell_type": "code",
   "execution_count": 104,
   "metadata": {},
   "outputs": [
    {
     "name": "stdout",
     "output_type": "stream",
     "text": [
      "Collecting schedule\n",
      "  Downloading schedule-1.2.0-py2.py3-none-any.whl (11 kB)\n",
      "Installing collected packages: schedule\n",
      "Successfully installed schedule-1.2.0\n",
      "Note: you may need to restart the kernel to use updated packages.\n"
     ]
    }
   ],
   "source": [
    "pip install schedule"
   ]
  },
  {
   "cell_type": "code",
   "execution_count": 105,
   "metadata": {
    "scrolled": false
   },
   "outputs": [
    {
     "name": "stdout",
     "output_type": "stream",
     "text": [
      "[작업 수행 시각] 00:18:25\n",
      "[작업 수행 시각] 00:18:27\n",
      "[작업 수행 시각] 00:18:29\n",
      "[작업 수행 시각] 00:18:31\n",
      "[작업 수행 시각] 00:18:33\n",
      "[작업 수행 시각] 00:18:35\n",
      "[작업 수행 시각] 00:18:37\n",
      "[작업 수행 시각] 00:18:39\n",
      "[작업 수행 시각] 00:18:41\n",
      "[작업 수행 시각] 00:18:43\n"
     ]
    },
    {
     "ename": "KeyboardInterrupt",
     "evalue": "",
     "output_type": "error",
     "traceback": [
      "\u001b[1;31m---------------------------------------------------------------------------\u001b[0m",
      "\u001b[1;31mKeyboardInterrupt\u001b[0m                         Traceback (most recent call last)",
      "\u001b[1;32mc:\\Users\\shjo\\Desktop\\전공\\Python-WebScraping-1\\notebooks\\Chapter_03_function_class_module.ipynb Cell 99\u001b[0m in \u001b[0;36m1\n\u001b[0;32m     <a href='vscode-notebook-cell:/c%3A/Users/shjo/Desktop/%EC%A0%84%EA%B3%B5/Python-WebScraping-1/notebooks/Chapter_03_function_class_module.ipynb#Y221sZmlsZQ%3D%3D?line=10'>11</a>\u001b[0m \u001b[39mwhile\u001b[39;00m \u001b[39mTrue\u001b[39;00m:\n\u001b[0;32m     <a href='vscode-notebook-cell:/c%3A/Users/shjo/Desktop/%EC%A0%84%EA%B3%B5/Python-WebScraping-1/notebooks/Chapter_03_function_class_module.ipynb#Y221sZmlsZQ%3D%3D?line=11'>12</a>\u001b[0m     schedule\u001b[39m.\u001b[39mrun_pending()\n\u001b[1;32m---> <a href='vscode-notebook-cell:/c%3A/Users/shjo/Desktop/%EC%A0%84%EA%B3%B5/Python-WebScraping-1/notebooks/Chapter_03_function_class_module.ipynb#Y221sZmlsZQ%3D%3D?line=12'>13</a>\u001b[0m     time\u001b[39m.\u001b[39msleep(\u001b[39m1\u001b[39m)\n",
      "\u001b[1;31mKeyboardInterrupt\u001b[0m: "
     ]
    }
   ],
   "source": [
    "import schedule\n",
    "import time\n",
    "from datetime import datetime\n",
    "\n",
    "def job():\n",
    "    now = datetime.now()\n",
    "    print(\"[작업 수행 시각] {:%H:%M:%S}\".format(now))\n",
    "\n",
    "schedule.every(2).seconds.do(job)  # 2초(second)마다 job() 함수 실행\n",
    "\n",
    "while True:\n",
    "    schedule.run_pending()\n",
    "    time.sleep(1)"
   ]
  },
  {
   "attachments": {},
   "cell_type": "markdown",
   "metadata": {},
   "source": [
    "[3장: 120페이지]"
   ]
  },
  {
   "cell_type": "code",
   "execution_count": 106,
   "metadata": {},
   "outputs": [],
   "source": [
    "schedule.clear() # 기본 스케줄러 객체를 제거"
   ]
  },
  {
   "cell_type": "code",
   "execution_count": null,
   "metadata": {},
   "outputs": [],
   "source": [
    "import schedule\n",
    "import time\n",
    "from datetime import datetime\n",
    "\n",
    "def job():\n",
    "    now = datetime.now()\n",
    "    print(\"[작업 수행 시각] {:%H:%M:%S}\".format(now))\n",
    "\n",
    "schedule.every(2).seconds.do(job)  # 2초(second)마다 job() 함수 실행\n",
    "\n",
    "while True:\n",
    "    try:\n",
    "        schedule.run_pending()\n",
    "        time.sleep(1)\n",
    "    except:\n",
    "        print(\"작업 강제 종료\")\n",
    "        schedule.clear()  # 기본 스케줄러 객체를 제거          \n",
    "        break            # while 문을 빠져나옴"
   ]
  },
  {
   "attachments": {},
   "cell_type": "markdown",
   "metadata": {},
   "source": [
    "[3장: 121페이지]"
   ]
  },
  {
   "cell_type": "code",
   "execution_count": null,
   "metadata": {},
   "outputs": [],
   "source": [
    "def job():\n",
    "    now = datetime.now()\n",
    "    print(\"[작업 수행 시각] {:%H:%M:%S}\".format(now))\n",
    "\n",
    "# --------- 스케줄 추가 -----------\n",
    "schedule.every().minute.at(\":15\").do(job) # 매분 15초에 job() 함수 실행\n",
    "schedule.every(2).minutes.do(job)         # 2분마다 job() 함수 실행\n",
    "\n",
    "now = datetime.now()\n",
    "print(\"[**작업 시작 시각**] {:%H:%M:%S}\".format(now))\n",
    "\n",
    "while True:\n",
    "    try:\n",
    "        schedule.run_pending()\n",
    "        time.sleep(1)\n",
    "    except:\n",
    "        print(\"작업 강제 종료\")\n",
    "        schedule.clear()  # 기본 스케줄러 객체를 제거\n",
    "        break            # while 문을 빠져나옴"
   ]
  },
  {
   "attachments": {},
   "cell_type": "markdown",
   "metadata": {},
   "source": [
    "[3장: 123페이지]"
   ]
  },
  {
   "cell_type": "code",
   "execution_count": null,
   "metadata": {},
   "outputs": [],
   "source": [
    "import schedule\n",
    "import time\n",
    "from datetime import datetime\n",
    "\n",
    "# 작업을 위한 함수 지정\n",
    "def send_message(district): # 매개 변수(district)가 있는 함수를 지정\n",
    "    now = datetime.now()\n",
    "    if(district == '서울'):\n",
    "        weather = \"맑음\"\n",
    "        print(\"**{}의 날씨: {} [현재 시각] {:%H:%M:%S}\".format(district, weather, now))\n",
    "    elif(district == '부산'):\n",
    "        weather = \"흐림\"\n",
    "        print(\"  >>{}의 날씨: {} [현재 시각] {:%H:%M:%S}\".format(district, weather, now))\n",
    "    else:\n",
    "        print(\"--> {}의 날씨: 없음. [현재 시각] {:%H:%M:%S}\".format(district, now))\n",
    "\n",
    "# --------- 스케줄 추가 -----------        \n",
    "# 함수의 매개 변수(district)에 값을 지정\n",
    "schedule.every(2).seconds.do(send_message, district='서울') \n",
    "schedule.every(4).seconds.do(send_message, district='부산')\n",
    "\n",
    "while True:\n",
    "    try:\n",
    "        schedule.run_pending()\n",
    "        time.sleep(1)\n",
    "    except:\n",
    "        print(\"작업 강제 종료\")\n",
    "        schedule.clear()  # 기본 스케줄러 객체를 제거\n",
    "        break            # while 문을 빠져나옴"
   ]
  },
  {
   "attachments": {},
   "cell_type": "markdown",
   "metadata": {},
   "source": [
    "[3장: 123페이지]"
   ]
  },
  {
   "cell_type": "code",
   "execution_count": null,
   "metadata": {},
   "outputs": [],
   "source": [
    "def job():\n",
    "    now = datetime.now()\n",
    "    print(\"[작업 수행 시각] {:%H:%M:%S}\".format(now))\n",
    "\n",
    "# 스케줄 지정    \n",
    "schedule.every().minute.at(\":17\").do(job) # 매분 17초에 job() 함수 실행\n",
    "\n",
    "now = datetime.now()\n",
    "print(\"[**작업 시작 시각**] {:%H:%M:%S}\".format(now))\n",
    "\n",
    "schedule.run_all() # 스케줄러의 모든 작업을 바로 수행\n",
    "\n",
    "while True:\n",
    "    try:\n",
    "        schedule.run_pending()\n",
    "        time.sleep(1)\n",
    "    except:\n",
    "        print(\"작업 강제 종료\")\n",
    "        schedule.clear()  # 기본 스케줄러 객체를 제거          \n",
    "        break            # while 문을 빠져나옴"
   ]
  },
  {
   "attachments": {},
   "cell_type": "markdown",
   "metadata": {},
   "source": [
    "#### 다중 작업과 다중 스케줄러 만들기"
   ]
  },
  {
   "attachments": {},
   "cell_type": "markdown",
   "metadata": {},
   "source": [
    "[3장: 124페이지]"
   ]
  },
  {
   "cell_type": "code",
   "execution_count": null,
   "metadata": {},
   "outputs": [],
   "source": [
    "import schedule\n",
    "import time\n",
    "\n",
    "# 다중 작업을 위한 함수 지정\n",
    "def job1():\n",
    "    now = datetime.now()\n",
    "    print(\"[** 작업1] {:%H:%M:%S}\".format(now))\n",
    "    \n",
    "def job2():\n",
    "    now = datetime.now()\n",
    "    print(\"   [>> 작업2] {:%H:%M:%S}\".format(now))\n",
    "\n",
    "# --------- 스케줄 추가 -----------\n",
    "schedule.every(1).seconds.do(job1) # 매초마다 job1() 함수 실행\n",
    "schedule.every(3).seconds.do(job2) # 3초마다 job2() 함수 실행\n",
    "\n",
    "while True:\n",
    "    try:\n",
    "        schedule.run_pending()\n",
    "        time.sleep(1)\n",
    "    except:\n",
    "        print(\"작업 강제 종료\")\n",
    "        schedule.clear()  # 기본 스케줄러 객체를 제거          \n",
    "        break            # while 문을 빠져나옴"
   ]
  },
  {
   "attachments": {},
   "cell_type": "markdown",
   "metadata": {},
   "source": [
    "[3장: 125페이지]"
   ]
  },
  {
   "cell_type": "code",
   "execution_count": null,
   "metadata": {},
   "outputs": [],
   "source": [
    "import time\n",
    "import schedule\n",
    "\n",
    "# 다중 작업을 위한 함수 지정\n",
    "def job1():\n",
    "    now = datetime.now()\n",
    "    print(\"[** 작업1] {:%H:%M:%S}\".format(now))\n",
    "\n",
    "def job2():\n",
    "    now = datetime.now()\n",
    "    print(\"   [>> 작업2] {:%H:%M:%S}\".format(now))  \n",
    "\n",
    "def job3():\n",
    "    now = datetime.now()\n",
    "    print(\"      [$$ 작업3] {:%H:%M:%S}\".format(now))\n",
    "        \n",
    "# 스케줄러 생성\n",
    "scheduler1 = schedule.Scheduler() # 스케줄러 객체(scheduler1) 생성\n",
    "scheduler2 = schedule.Scheduler() # 스케줄러 객체(scheduler2) 생성\n",
    "\n",
    "# --------- 스케줄 추가 -----------\n",
    "scheduler1.every().second.do(job1)   # 매초마다 job1() 함수 실행\n",
    "scheduler1.every().second.do(job2)   # 매초마다 job2() 함수 실행\n",
    "scheduler2.every(3).seconds.do(job3) # 3초마다 job3() 함수 실행\n",
    "\n",
    "while True:\n",
    "    try:\n",
    "        # 각 스케줄러 객체마다 run_pending()를 실행\n",
    "        scheduler1.run_pending() # scheduler1 객체에 대해 run_pending() 실행\n",
    "        scheduler2.run_pending() # scheduler2 객체에 대해 run_pending() 실행\n",
    "        time.sleep(1)\n",
    "    except:\n",
    "        print(\"작업 강제 종료\")\n",
    "        scheduler1.clear()  # 스케줄러 객체(scheduler1)를 제거  \n",
    "        scheduler2.clear()  # 스케줄러 객체(scheduler2)를 제거\n",
    "        break              # while 문을 빠져나옴    "
   ]
  },
  {
   "attachments": {},
   "cell_type": "markdown",
   "metadata": {},
   "source": [
    "## 3.4 정리"
   ]
  }
 ],
 "metadata": {
  "kernelspec": {
   "display_name": "Python 3 (ipykernel)",
   "language": "python",
   "name": "python3"
  },
  "language_info": {
   "codemirror_mode": {
    "name": "ipython",
    "version": 3
   },
   "file_extension": ".py",
   "mimetype": "text/x-python",
   "name": "python",
   "nbconvert_exporter": "python",
   "pygments_lexer": "ipython3",
   "version": "3.9.12"
  },
  "toc": {
   "base_numbering": "3",
   "nav_menu": {},
   "number_sections": false,
   "sideBar": true,
   "skip_h1_title": false,
   "title_cell": "Table of Contents",
   "title_sidebar": "Contents",
   "toc_cell": false,
   "toc_position": {
    "height": "calc(100% - 180px)",
    "left": "10px",
    "top": "150px",
    "width": "252.4px"
   },
   "toc_section_display": true,
   "toc_window_display": false
  }
 },
 "nbformat": 4,
 "nbformat_minor": 2
}
