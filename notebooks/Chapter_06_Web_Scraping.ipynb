{
 "cells": [
  {
   "attachments": {},
   "cell_type": "markdown",
   "metadata": {},
   "source": [
    "# 6장 웹 스크레이핑"
   ]
  },
  {
   "attachments": {},
   "cell_type": "markdown",
   "metadata": {},
   "source": [
    "## 6.1 웹 스크레이핑을 위한 기본 지식"
   ]
  },
  {
   "attachments": {},
   "cell_type": "markdown",
   "metadata": {},
   "source": [
    "### 6.1.1 웹 스크레이핑의 과정"
   ]
  },
  {
   "attachments": {},
   "cell_type": "markdown",
   "metadata": {},
   "source": [
    "### 6.1.2 웹 스크레이핑 시 주의 사항"
   ]
  },
  {
   "attachments": {},
   "cell_type": "markdown",
   "metadata": {},
   "source": [
    "#### 주요 주의 사항"
   ]
  },
  {
   "attachments": {},
   "cell_type": "markdown",
   "metadata": {},
   "source": [
    "#### 웹 사이트 이용 규약"
   ]
  },
  {
   "attachments": {},
   "cell_type": "markdown",
   "metadata": {},
   "source": [
    "### 6.1.3 웹 데이터의 요청과 응답 과정"
   ]
  },
  {
   "attachments": {},
   "cell_type": "markdown",
   "metadata": {},
   "source": [
    "### 6.1.4 웹 페이지 언어(HTML) 구조"
   ]
  },
  {
   "attachments": {},
   "cell_type": "markdown",
   "metadata": {},
   "source": [
    "[6장: 215페이지]"
   ]
  },
  {
   "cell_type": "code",
   "execution_count": 56,
   "metadata": {},
   "outputs": [
    {
     "name": "stdout",
     "output_type": "stream",
     "text": [
      "Overwriting C:/Users/shjo/Desktop/전공/Python-WebScraping-1/data/ch06/HTML_example.html\n"
     ]
    }
   ],
   "source": [
    "%%writefile C:/Users/shjo/Desktop/전공/Python-WebScraping-1/data/ch06/HTML_example.html         \n",
    "<!doctype html>\n",
    "<html>\n",
    " <head>\n",
    "  <meta charset=\"utf-8\">\n",
    "  <title>이것은 HTML 예제</title>\n",
    " </head>\n",
    " <body>\n",
    "  <h1>출간된 책 정보</h1>\n",
    "  <p id=\"book_title\">이해가 쏙쏙 되는 파이썬</p>\n",
    "  <p id=\"author\">홍길동</p>\n",
    "  <p id=\"publisher\">위키북스 출판사</p>\n",
    "  <p id=\"year\">2018</p>\n",
    " </body>\n",
    "</html>"
   ]
  },
  {
   "attachments": {},
   "cell_type": "markdown",
   "metadata": {},
   "source": [
    "[6장: 216페이지]"
   ]
  },
  {
   "cell_type": "code",
   "execution_count": 57,
   "metadata": {},
   "outputs": [
    {
     "name": "stdout",
     "output_type": "stream",
     "text": [
      "Overwriting C:/Users/shjo/Desktop/전공/Python-WebScraping-1/data/ch06/HTML_example2.html\n"
     ]
    }
   ],
   "source": [
    "%%writefile C:/Users/shjo/Desktop/전공/Python-WebScraping-1/data/ch06/HTML_example2.html \n",
    "<!doctype html>\n",
    "<html>\n",
    " <head>\n",
    "  <meta charset=\"utf-8\">\n",
    "  <title>이것은 HTML 예제</title>\n",
    " </head>\n",
    " <body>\n",
    "  <h1>출간된 책 정보</h1>\n",
    "  <p>이해가 쏙쏙 되는 파이썬</p>\n",
    "  <p>홍길동</p>\n",
    "  <p>위키북스 출판사</p>\n",
    "  <p>2018</p>\n",
    "  </body>\n",
    "</html>"
   ]
  },
  {
   "attachments": {},
   "cell_type": "markdown",
   "metadata": {},
   "source": [
    "### 6.1.5 웹 페이지의 소스 가져오기"
   ]
  },
  {
   "attachments": {},
   "cell_type": "markdown",
   "metadata": {},
   "source": [
    "#### 웹 브라우저로 웹 페이지 소스 보기"
   ]
  },
  {
   "attachments": {},
   "cell_type": "markdown",
   "metadata": {},
   "source": [
    "####  requests 라이브러리 활용"
   ]
  },
  {
   "attachments": {},
   "cell_type": "markdown",
   "metadata": {},
   "source": [
    "####  GET 메서드로 웹 사이트의 소스 가져오기"
   ]
  },
  {
   "attachments": {},
   "cell_type": "markdown",
   "metadata": {},
   "source": [
    "[6장: 220페이지]"
   ]
  },
  {
   "cell_type": "code",
   "execution_count": 58,
   "metadata": {},
   "outputs": [
    {
     "data": {
      "text/plain": [
       "<Response [200]>"
      ]
     },
     "execution_count": 58,
     "metadata": {},
     "output_type": "execute_result"
    }
   ],
   "source": [
    "import requests\n",
    "\n",
    "r = requests.get(\"https://www.google.co.kr\")\n",
    "r"
   ]
  },
  {
   "cell_type": "code",
   "execution_count": 59,
   "metadata": {},
   "outputs": [
    {
     "data": {
      "text/plain": [
       "200"
      ]
     },
     "execution_count": 59,
     "metadata": {},
     "output_type": "execute_result"
    }
   ],
   "source": [
    "r.status_code"
   ]
  },
  {
   "attachments": {},
   "cell_type": "markdown",
   "metadata": {},
   "source": [
    "[6장: 221페이지]"
   ]
  },
  {
   "cell_type": "code",
   "execution_count": 60,
   "metadata": {},
   "outputs": [
    {
     "data": {
      "text/plain": [
       "'<!doctype html><html itemscope=\"\" itemtype=\"http://schema.org/WebPage\" lang=\"ko\"><head><meta content'"
      ]
     },
     "execution_count": 60,
     "metadata": {},
     "output_type": "execute_result"
    }
   ],
   "source": [
    "r.text[0:100]"
   ]
  },
  {
   "cell_type": "code",
   "execution_count": 61,
   "metadata": {},
   "outputs": [
    {
     "data": {
      "text/plain": [
       "{'Date': 'Wed, 10 May 2023 15:31:14 GMT', 'Expires': '-1', 'Cache-Control': 'private, max-age=0', 'Content-Type': 'text/html; charset=EUC-KR', 'Content-Security-Policy-Report-Only': \"object-src 'none';base-uri 'self';script-src 'nonce-MnxexF9oCOqwW7g43iRTFw' 'strict-dynamic' 'report-sample' 'unsafe-eval' 'unsafe-inline' https: http:;report-uri https://csp.withgoogle.com/csp/gws/other-hp\", 'P3P': 'CP=\"This is not a P3P policy! See g.co/p3phelp for more info.\"', 'Content-Encoding': 'gzip', 'Server': 'gws', 'X-XSS-Protection': '0', 'X-Frame-Options': 'SAMEORIGIN', 'Set-Cookie': '1P_JAR=2023-05-10-15; expires=Fri, 09-Jun-2023 15:31:15 GMT; path=/; domain=.google.co.kr; Secure, AEC=AUEFqZdpk1dZ4_5FhcL6IZ4VptzrlaCysBn2x14W2MDp0BIiBDYscD2BDg; expires=Mon, 06-Nov-2023 15:31:15 GMT; path=/; domain=.google.co.kr; Secure; HttpOnly; SameSite=lax, NID=511=BDepU6whhvMVU1IA0vbMN84TVcIOyIjf4jkrVinHSUBZtObgXHfPDtnY-YWti6Z7vJ5mW1wG1OboQ5vHJPQZJE5LMlJRQavWO1IBd_AOzQaO_ApkFGms7hz2s0WWzpSRVmQUzCKdOvkD3jSQBdEEpJRyvLZXlrGnlNHw0vhfv8k; expires=Thu, 09-Nov-2023 15:31:14 GMT; path=/; domain=.google.co.kr; HttpOnly', 'Alt-Svc': 'h3=\":443\"; ma=2592000,h3-29=\":443\"; ma=2592000', 'Transfer-Encoding': 'chunked'}"
      ]
     },
     "execution_count": 61,
     "metadata": {},
     "output_type": "execute_result"
    }
   ],
   "source": [
    "r.headers"
   ]
  },
  {
   "cell_type": "code",
   "execution_count": 62,
   "metadata": {},
   "outputs": [
    {
     "data": {
      "text/plain": [
       "'<!doctype html><html itemscope=\"\" itemtype=\"http://schema.org/WebPage\" lang=\"ko\"><head><meta content'"
      ]
     },
     "execution_count": 62,
     "metadata": {},
     "output_type": "execute_result"
    }
   ],
   "source": [
    "import requests\n",
    "\n",
    "html = requests.get(\"https://www.google.co.kr\").text\n",
    "html[0:100]"
   ]
  },
  {
   "attachments": {},
   "cell_type": "markdown",
   "metadata": {},
   "source": [
    "### 6.1.6 웹 페이지의 소스 분석하고 처리하기"
   ]
  },
  {
   "attachments": {},
   "cell_type": "markdown",
   "metadata": {},
   "source": [
    "#### 데이터 찾고 추출하기"
   ]
  },
  {
   "attachments": {},
   "cell_type": "markdown",
   "metadata": {},
   "source": [
    "[6장: 222페이지]"
   ]
  },
  {
   "cell_type": "code",
   "execution_count": 63,
   "metadata": {},
   "outputs": [
    {
     "data": {
      "text/plain": [
       "<html><body><div><span> <a href=\"http://www.naver.com\">naver</a> <a href=\"https://www.google.com\">google</a> <a href=\"http://www.daum.net/\">daum</a> </span></div></body></html>"
      ]
     },
     "execution_count": 63,
     "metadata": {},
     "output_type": "execute_result"
    }
   ],
   "source": [
    "from bs4 import BeautifulSoup\n",
    "\n",
    "# 테스트용 html 소스\n",
    "html = \"\"\"<html><body><div><span>\\\n",
    "        <a href=http://www.naver.com>naver</a>\\\n",
    "        <a href=https://www.google.com>google</a>\\\n",
    "        <a href=http://www.daum.net/>daum</a>\\\n",
    "        </span></div></body></html>\"\"\" \n",
    "\n",
    "# BeautifulSoup를 이용해 HTML 소스를 파싱\n",
    "soup = BeautifulSoup(html, 'lxml') \n",
    "soup"
   ]
  },
  {
   "cell_type": "code",
   "execution_count": 64,
   "metadata": {
    "scrolled": true
   },
   "outputs": [
    {
     "name": "stdout",
     "output_type": "stream",
     "text": [
      "<html>\n",
      " <body>\n",
      "  <div>\n",
      "   <span>\n",
      "    <a href=\"http://www.naver.com\">\n",
      "     naver\n",
      "    </a>\n",
      "    <a href=\"https://www.google.com\">\n",
      "     google\n",
      "    </a>\n",
      "    <a href=\"http://www.daum.net/\">\n",
      "     daum\n",
      "    </a>\n",
      "   </span>\n",
      "  </div>\n",
      " </body>\n",
      "</html>\n"
     ]
    }
   ],
   "source": [
    "print(soup.prettify())"
   ]
  },
  {
   "attachments": {},
   "cell_type": "markdown",
   "metadata": {},
   "source": [
    "[6장: 224페이지]"
   ]
  },
  {
   "cell_type": "code",
   "execution_count": 65,
   "metadata": {},
   "outputs": [
    {
     "data": {
      "text/plain": [
       "<a href=\"http://www.naver.com\">naver</a>"
      ]
     },
     "execution_count": 65,
     "metadata": {},
     "output_type": "execute_result"
    }
   ],
   "source": [
    "soup.find('a')"
   ]
  },
  {
   "cell_type": "code",
   "execution_count": 66,
   "metadata": {},
   "outputs": [
    {
     "data": {
      "text/plain": [
       "'naver'"
      ]
     },
     "execution_count": 66,
     "metadata": {},
     "output_type": "execute_result"
    }
   ],
   "source": [
    "soup.find('a').get_text()"
   ]
  },
  {
   "cell_type": "code",
   "execution_count": 67,
   "metadata": {},
   "outputs": [
    {
     "data": {
      "text/plain": [
       "'http://www.naver.com'"
      ]
     },
     "execution_count": 67,
     "metadata": {},
     "output_type": "execute_result"
    }
   ],
   "source": [
    "soup.find('a')['href'] # soup.find('a').get('href') 도 동일"
   ]
  },
  {
   "attachments": {},
   "cell_type": "markdown",
   "metadata": {},
   "source": [
    "[6장: 225페이지]"
   ]
  },
  {
   "cell_type": "code",
   "execution_count": 68,
   "metadata": {},
   "outputs": [
    {
     "data": {
      "text/plain": [
       "[<a href=\"http://www.naver.com\">naver</a>,\n",
       " <a href=\"https://www.google.com\">google</a>,\n",
       " <a href=\"http://www.daum.net/\">daum</a>]"
      ]
     },
     "execution_count": 68,
     "metadata": {},
     "output_type": "execute_result"
    }
   ],
   "source": [
    "soup.find_all('a')"
   ]
  },
  {
   "cell_type": "code",
   "execution_count": 69,
   "metadata": {},
   "outputs": [
    {
     "data": {
      "text/plain": [
       "['naver', 'google', 'daum']"
      ]
     },
     "execution_count": 69,
     "metadata": {},
     "output_type": "execute_result"
    }
   ],
   "source": [
    "[x.get_text() for x in soup.find_all('a')]"
   ]
  },
  {
   "cell_type": "code",
   "execution_count": 70,
   "metadata": {},
   "outputs": [],
   "source": [
    "from bs4 import BeautifulSoup\n",
    "\n",
    "# 테스트용 HTML 코드\n",
    "html2 = \"\"\"\n",
    "<html>\n",
    " <head>\n",
    "  <title>작품과 작가 모음</title>\n",
    " </head>\n",
    " <body>\n",
    "  <h1>책 정보</h1>\n",
    "  <p id=\"book_title\">토지</p>\n",
    "  <p id=\"author\">박경리</p>\n",
    "  \n",
    "  <p id=\"book_title\">태백산맥</p>\n",
    "  <p id=\"author\">조정래</p>\n",
    "\n",
    "  <p id=\"book_title\">감옥으로부터의 사색</p>\n",
    "  <p id=\"author\">신영복</p>\n",
    "  </body>\n",
    "</html>\n",
    "\"\"\" \n",
    "\n",
    "soup2 = BeautifulSoup(html2, \"lxml\")"
   ]
  },
  {
   "attachments": {},
   "cell_type": "markdown",
   "metadata": {},
   "source": [
    "[6장: 226페이지]"
   ]
  },
  {
   "cell_type": "code",
   "execution_count": 71,
   "metadata": {},
   "outputs": [
    {
     "data": {
      "text/plain": [
       "<title>작품과 작가 모음</title>"
      ]
     },
     "execution_count": 71,
     "metadata": {},
     "output_type": "execute_result"
    }
   ],
   "source": [
    "soup2.title"
   ]
  },
  {
   "cell_type": "code",
   "execution_count": 72,
   "metadata": {
    "scrolled": true
   },
   "outputs": [
    {
     "data": {
      "text/plain": [
       "<body>\n",
       "<h1>책 정보</h1>\n",
       "<p id=\"book_title\">토지</p>\n",
       "<p id=\"author\">박경리</p>\n",
       "<p id=\"book_title\">태백산맥</p>\n",
       "<p id=\"author\">조정래</p>\n",
       "<p id=\"book_title\">감옥으로부터의 사색</p>\n",
       "<p id=\"author\">신영복</p>\n",
       "</body>"
      ]
     },
     "execution_count": 72,
     "metadata": {},
     "output_type": "execute_result"
    }
   ],
   "source": [
    "soup2.body"
   ]
  },
  {
   "attachments": {},
   "cell_type": "markdown",
   "metadata": {},
   "source": [
    "[6장: 227페이지]"
   ]
  },
  {
   "cell_type": "code",
   "execution_count": 73,
   "metadata": {},
   "outputs": [
    {
     "data": {
      "text/plain": [
       "<h1>책 정보</h1>"
      ]
     },
     "execution_count": 73,
     "metadata": {},
     "output_type": "execute_result"
    }
   ],
   "source": [
    "soup2.body.h1"
   ]
  },
  {
   "cell_type": "code",
   "execution_count": 74,
   "metadata": {},
   "outputs": [
    {
     "data": {
      "text/plain": [
       "<p id=\"book_title\">토지</p>"
      ]
     },
     "execution_count": 74,
     "metadata": {},
     "output_type": "execute_result"
    }
   ],
   "source": [
    "soup2.p"
   ]
  },
  {
   "cell_type": "code",
   "execution_count": 75,
   "metadata": {
    "scrolled": true
   },
   "outputs": [
    {
     "data": {
      "text/plain": [
       "[<p id=\"book_title\">토지</p>,\n",
       " <p id=\"author\">박경리</p>,\n",
       " <p id=\"book_title\">태백산맥</p>,\n",
       " <p id=\"author\">조정래</p>,\n",
       " <p id=\"book_title\">감옥으로부터의 사색</p>,\n",
       " <p id=\"author\">신영복</p>]"
      ]
     },
     "execution_count": 75,
     "metadata": {},
     "output_type": "execute_result"
    }
   ],
   "source": [
    "soup2.find_all('p')"
   ]
  },
  {
   "attachments": {},
   "cell_type": "markdown",
   "metadata": {},
   "source": [
    "[6장: 228페이지]"
   ]
  },
  {
   "cell_type": "code",
   "execution_count": 76,
   "metadata": {},
   "outputs": [
    {
     "data": {
      "text/plain": [
       "<p id=\"book_title\">토지</p>"
      ]
     },
     "execution_count": 76,
     "metadata": {},
     "output_type": "execute_result"
    }
   ],
   "source": [
    "soup2.find('p', {\"id\":\"book_title\"})"
   ]
  },
  {
   "cell_type": "code",
   "execution_count": 77,
   "metadata": {},
   "outputs": [
    {
     "data": {
      "text/plain": [
       "<p id=\"author\">박경리</p>"
      ]
     },
     "execution_count": 77,
     "metadata": {},
     "output_type": "execute_result"
    }
   ],
   "source": [
    "soup2.find('p', {\"id\":\"author\"})"
   ]
  },
  {
   "cell_type": "code",
   "execution_count": 78,
   "metadata": {},
   "outputs": [
    {
     "data": {
      "text/plain": [
       "[<p id=\"book_title\">토지</p>,\n",
       " <p id=\"book_title\">태백산맥</p>,\n",
       " <p id=\"book_title\">감옥으로부터의 사색</p>]"
      ]
     },
     "execution_count": 78,
     "metadata": {},
     "output_type": "execute_result"
    }
   ],
   "source": [
    "soup2.find_all('p', {\"id\":\"book_title\"})"
   ]
  },
  {
   "cell_type": "code",
   "execution_count": 79,
   "metadata": {},
   "outputs": [
    {
     "data": {
      "text/plain": [
       "[<p id=\"author\">박경리</p>, <p id=\"author\">조정래</p>, <p id=\"author\">신영복</p>]"
      ]
     },
     "execution_count": 79,
     "metadata": {},
     "output_type": "execute_result"
    }
   ],
   "source": [
    "soup2.find_all('p', {\"id\":\"author\"})"
   ]
  },
  {
   "cell_type": "code",
   "execution_count": 80,
   "metadata": {
    "scrolled": false
   },
   "outputs": [
    {
     "name": "stdout",
     "output_type": "stream",
     "text": [
      "토지/박경리\n",
      "태백산맥/조정래\n",
      "감옥으로부터의 사색/신영복\n"
     ]
    }
   ],
   "source": [
    "from bs4 import BeautifulSoup\n",
    "\n",
    "soup2 = BeautifulSoup(html2, \"lxml\")\n",
    "\n",
    "book_titles = soup2.find_all('p', {\"id\":\"book_title\"})\n",
    "authors = soup2.find_all('p', {\"id\":\"author\"})\n",
    "\n",
    "for book_title, author in zip(book_titles, authors):\n",
    "    print(book_title.get_text() + '/' + author.get_text())"
   ]
  },
  {
   "attachments": {},
   "cell_type": "markdown",
   "metadata": {},
   "source": [
    "[6장: 230페이지]"
   ]
  },
  {
   "cell_type": "code",
   "execution_count": 81,
   "metadata": {},
   "outputs": [
    {
     "data": {
      "text/plain": [
       "<h1>책 정보</h1>"
      ]
     },
     "execution_count": 81,
     "metadata": {},
     "output_type": "execute_result"
    }
   ],
   "source": [
    "soup2.select_one('body h1') # body 내의 h1 태그를 갖는 최초의 요소 찾기"
   ]
  },
  {
   "cell_type": "code",
   "execution_count": 82,
   "metadata": {},
   "outputs": [
    {
     "data": {
      "text/plain": [
       "[<h1>책 정보</h1>]"
      ]
     },
     "execution_count": 82,
     "metadata": {},
     "output_type": "execute_result"
    }
   ],
   "source": [
    "soup2.select('body h1') # body 내의 h1 태그를 갖는 모든 요소 찾기 "
   ]
  },
  {
   "cell_type": "code",
   "execution_count": 83,
   "metadata": {},
   "outputs": [
    {
     "data": {
      "text/plain": [
       "<p id=\"book_title\">토지</p>"
      ]
     },
     "execution_count": 83,
     "metadata": {},
     "output_type": "execute_result"
    }
   ],
   "source": [
    "soup2.select_one('body p')"
   ]
  },
  {
   "cell_type": "code",
   "execution_count": 84,
   "metadata": {},
   "outputs": [
    {
     "data": {
      "text/plain": [
       "[<p id=\"book_title\">토지</p>,\n",
       " <p id=\"author\">박경리</p>,\n",
       " <p id=\"book_title\">태백산맥</p>,\n",
       " <p id=\"author\">조정래</p>,\n",
       " <p id=\"book_title\">감옥으로부터의 사색</p>,\n",
       " <p id=\"author\">신영복</p>]"
      ]
     },
     "execution_count": 84,
     "metadata": {},
     "output_type": "execute_result"
    }
   ],
   "source": [
    "soup2.select('body p')"
   ]
  },
  {
   "cell_type": "code",
   "execution_count": 85,
   "metadata": {
    "scrolled": true
   },
   "outputs": [
    {
     "data": {
      "text/plain": [
       "[<p id=\"book_title\">토지</p>,\n",
       " <p id=\"author\">박경리</p>,\n",
       " <p id=\"book_title\">태백산맥</p>,\n",
       " <p id=\"author\">조정래</p>,\n",
       " <p id=\"book_title\">감옥으로부터의 사색</p>,\n",
       " <p id=\"author\">신영복</p>]"
      ]
     },
     "execution_count": 85,
     "metadata": {},
     "output_type": "execute_result"
    }
   ],
   "source": [
    "soup2.select('p')"
   ]
  },
  {
   "attachments": {},
   "cell_type": "markdown",
   "metadata": {},
   "source": [
    "[6장: 231페이지]"
   ]
  },
  {
   "cell_type": "code",
   "execution_count": 86,
   "metadata": {},
   "outputs": [
    {
     "data": {
      "text/plain": [
       "[<p id=\"book_title\">토지</p>,\n",
       " <p id=\"book_title\">태백산맥</p>,\n",
       " <p id=\"book_title\">감옥으로부터의 사색</p>]"
      ]
     },
     "execution_count": 86,
     "metadata": {},
     "output_type": "execute_result"
    }
   ],
   "source": [
    "soup2.select('p#book_title')"
   ]
  },
  {
   "cell_type": "code",
   "execution_count": 87,
   "metadata": {},
   "outputs": [
    {
     "data": {
      "text/plain": [
       "[<p id=\"author\">박경리</p>, <p id=\"author\">조정래</p>, <p id=\"author\">신영복</p>]"
      ]
     },
     "execution_count": 87,
     "metadata": {},
     "output_type": "execute_result"
    }
   ],
   "source": [
    "soup2.select('p#author')"
   ]
  },
  {
   "cell_type": "code",
   "execution_count": 88,
   "metadata": {},
   "outputs": [
    {
     "name": "stdout",
     "output_type": "stream",
     "text": [
      "Overwriting C:/Users/shjo/Desktop/전공/Python-WebScraping-1/data/ch06/HTML_example_my_site.html\n"
     ]
    }
   ],
   "source": [
    "%%writefile C:/Users/shjo/Desktop/전공/Python-WebScraping-1/data/ch06/HTML_example_my_site.html \n",
    "<!doctype html>\n",
    "<html>\n",
    "  <head>\n",
    "    <meta charset=\"utf-8\">\n",
    "    <title>사이트 모음</title>\n",
    "  </head>\n",
    "  <body>\n",
    "    <p id=\"title\"><b>자주 가는 사이트 모음</b></p>\n",
    "    <p id=\"contents\">이곳은 자주 가는 사이트를 모아둔 곳입니다.</p>\n",
    "    <a href=\"http://www.naver.com\" class=\"portal\" id=\"naver\">네이버</a> <br>\n",
    "    <a href=\"https://www.google.com\" class=\"search\" id=\"google\">구글</a> <br>\n",
    "    <a href=\"http://www.daum.net\" class=\"portal\" id=\"daum\">다음</a> <br>\n",
    "    <a href=\"http://www.nl.go.kr\" class=\"government\" id=\"nl\">국립중앙도서관</a>\n",
    "  </body>\n",
    "</html>"
   ]
  },
  {
   "attachments": {},
   "cell_type": "markdown",
   "metadata": {},
   "source": [
    "[6장: 232페이지]"
   ]
  },
  {
   "cell_type": "code",
   "execution_count": 89,
   "metadata": {},
   "outputs": [],
   "source": [
    "f = open('C:/Users/shjo/Desktop/전공/Python-WebScraping-1/data/ch06/HTML_example_my_site.html', encoding='utf-8')\n",
    "\n",
    "html3 = f.read()\n",
    "f.close()\n",
    "\n",
    "soup3 = BeautifulSoup(html3, \"lxml\")"
   ]
  },
  {
   "cell_type": "code",
   "execution_count": 90,
   "metadata": {
    "scrolled": true
   },
   "outputs": [
    {
     "data": {
      "text/plain": [
       "[<a class=\"portal\" href=\"http://www.naver.com\" id=\"naver\">네이버</a>,\n",
       " <a class=\"search\" href=\"https://www.google.com\" id=\"google\">구글</a>,\n",
       " <a class=\"portal\" href=\"http://www.daum.net\" id=\"daum\">다음</a>,\n",
       " <a class=\"government\" href=\"http://www.nl.go.kr\" id=\"nl\">국립중앙도서관</a>]"
      ]
     },
     "execution_count": 90,
     "metadata": {},
     "output_type": "execute_result"
    }
   ],
   "source": [
    "soup3.select('a')"
   ]
  },
  {
   "attachments": {},
   "cell_type": "markdown",
   "metadata": {},
   "source": [
    "[6장: 233페이지]"
   ]
  },
  {
   "cell_type": "code",
   "execution_count": 91,
   "metadata": {},
   "outputs": [
    {
     "data": {
      "text/plain": [
       "[<a class=\"portal\" href=\"http://www.naver.com\" id=\"naver\">네이버</a>,\n",
       " <a class=\"portal\" href=\"http://www.daum.net\" id=\"daum\">다음</a>]"
      ]
     },
     "execution_count": 91,
     "metadata": {},
     "output_type": "execute_result"
    }
   ],
   "source": [
    "soup3.select('a.portal')"
   ]
  },
  {
   "cell_type": "code",
   "execution_count": 92,
   "metadata": {},
   "outputs": [
    {
     "data": {
      "text/plain": [
       "'네이버'"
      ]
     },
     "execution_count": 92,
     "metadata": {},
     "output_type": "execute_result"
    }
   ],
   "source": [
    "soup3.select_one('a').get_text()"
   ]
  },
  {
   "cell_type": "code",
   "execution_count": 93,
   "metadata": {},
   "outputs": [
    {
     "data": {
      "text/plain": [
       "['네이버', '구글', '다음', '국립중앙도서관']"
      ]
     },
     "execution_count": 93,
     "metadata": {},
     "output_type": "execute_result"
    }
   ],
   "source": [
    "[x.get_text() for x in soup3.select('a')]"
   ]
  },
  {
   "attachments": {},
   "cell_type": "markdown",
   "metadata": {},
   "source": [
    "#### 웹 브라우저의 요소 검사"
   ]
  },
  {
   "attachments": {},
   "cell_type": "markdown",
   "metadata": {},
   "source": [
    "[6장: 235페이지]"
   ]
  },
  {
   "cell_type": "code",
   "execution_count": 94,
   "metadata": {},
   "outputs": [
    {
     "data": {
      "text/plain": [
       "[<a class=\"portal\" href=\"http://www.naver.com\" id=\"naver\">네이버</a>,\n",
       " <a class=\"search\" href=\"https://www.google.com\" id=\"google\">구글</a>,\n",
       " <a class=\"portal\" href=\"http://www.daum.net\" id=\"daum\">다음</a>,\n",
       " <a class=\"government\" href=\"http://www.nl.go.kr\" id=\"nl\">국립중앙도서관</a>]"
      ]
     },
     "execution_count": 94,
     "metadata": {},
     "output_type": "execute_result"
    }
   ],
   "source": [
    "soup3.select('a')"
   ]
  },
  {
   "cell_type": "code",
   "execution_count": 95,
   "metadata": {
    "scrolled": true
   },
   "outputs": [
    {
     "data": {
      "text/plain": [
       "[<a class=\"portal\" href=\"http://www.naver.com\" id=\"naver\">네이버</a>,\n",
       " <a class=\"portal\" href=\"http://www.daum.net\" id=\"daum\">다음</a>]"
      ]
     },
     "execution_count": 95,
     "metadata": {},
     "output_type": "execute_result"
    }
   ],
   "source": [
    "soup3.select('a.portal')"
   ]
  },
  {
   "attachments": {},
   "cell_type": "markdown",
   "metadata": {},
   "source": [
    "[6장: 236페이지]"
   ]
  },
  {
   "cell_type": "code",
   "execution_count": 96,
   "metadata": {},
   "outputs": [
    {
     "data": {
      "text/plain": [
       "[<a class=\"portal\" href=\"http://www.naver.com\" id=\"naver\">네이버</a>]"
      ]
     },
     "execution_count": 96,
     "metadata": {},
     "output_type": "execute_result"
    }
   ],
   "source": [
    "soup3.select('a#naver')"
   ]
  },
  {
   "cell_type": "code",
   "execution_count": 97,
   "metadata": {},
   "outputs": [
    {
     "data": {
      "text/plain": [
       "[<a class=\"portal\" href=\"http://www.naver.com\" id=\"naver\">네이버</a>]"
      ]
     },
     "execution_count": 97,
     "metadata": {},
     "output_type": "execute_result"
    }
   ],
   "source": [
    "soup3.select('a#naver.portal')"
   ]
  },
  {
   "cell_type": "code",
   "execution_count": 98,
   "metadata": {},
   "outputs": [
    {
     "data": {
      "text/plain": [
       "[<a class=\"portal\" href=\"http://www.naver.com\" id=\"naver\">네이버</a>]"
      ]
     },
     "execution_count": 98,
     "metadata": {},
     "output_type": "execute_result"
    }
   ],
   "source": [
    "soup3.select('a.portal#naver')"
   ]
  },
  {
   "attachments": {},
   "cell_type": "markdown",
   "metadata": {},
   "source": [
    "### 6.1.7 웹 사이트 주소에 부가 정보 추가하기"
   ]
  },
  {
   "attachments": {},
   "cell_type": "markdown",
   "metadata": {},
   "source": [
    "#### 웹 사이트 주소에 경로 추가하기"
   ]
  },
  {
   "attachments": {},
   "cell_type": "markdown",
   "metadata": {},
   "source": [
    "[6장: 237페이지]"
   ]
  },
  {
   "cell_type": "code",
   "execution_count": 99,
   "metadata": {},
   "outputs": [
    {
     "name": "stdout",
     "output_type": "stream",
     "text": [
      "https://api.github.com/events\n"
     ]
    }
   ],
   "source": [
    "base_url = \"https://api.github.com/\"\n",
    "sub_dir = \"events\"\n",
    "url = base_url + sub_dir\n",
    "print(url)"
   ]
  },
  {
   "cell_type": "code",
   "execution_count": 100,
   "metadata": {
    "scrolled": true
   },
   "outputs": [
    {
     "name": "stdout",
     "output_type": "stream",
     "text": [
      "https://api.github.com/events\n",
      "https://api.github.com/user\n",
      "https://api.github.com/emails\n"
     ]
    }
   ],
   "source": [
    "import requests\n",
    "\n",
    "base_url = \"https://api.github.com/\"\n",
    "sub_dirs = [\"events\", \"user\", \"emails\"]\n",
    "\n",
    "for sub_dir in sub_dirs:\n",
    "    url_dir = base_url + sub_dir\n",
    "    r = requests.get(url_dir)\n",
    "    print(r.url)"
   ]
  },
  {
   "attachments": {},
   "cell_type": "markdown",
   "metadata": {},
   "source": [
    "#### 웹 사이트 주소에 매개변수 추가하기"
   ]
  },
  {
   "attachments": {},
   "cell_type": "markdown",
   "metadata": {},
   "source": [
    "[6장: 238페이지]"
   ]
  },
  {
   "cell_type": "code",
   "execution_count": 101,
   "metadata": {},
   "outputs": [
    {
     "name": "stdout",
     "output_type": "stream",
     "text": [
      "https://search.naver.com/search.naver?where=nexearch&sm=top_hty&fbm=1&ie=utf8&query=python\n"
     ]
    }
   ],
   "source": [
    "import requests\n",
    "\n",
    "where_value = 'nexearch' \n",
    "sm_value = 'top_hty'\n",
    "fbm_value = 1\n",
    "ie_value = 'utf8'\n",
    "query_value = 'python'\n",
    "\n",
    "base_url = \"https://search.naver.com/search.naver\"\n",
    "parameter = \"?where={0}&sm={1}&fbm={2}&ie={3}&query={4}\".format(where_value, sm_value, fbm_value, ie_value, query_value)\n",
    "url_para = base_url + parameter\n",
    "r = requests.get(url_para)\n",
    "\n",
    "print(r.url)"
   ]
  },
  {
   "attachments": {},
   "cell_type": "markdown",
   "metadata": {},
   "source": [
    "[6장: 239페이지]"
   ]
  },
  {
   "cell_type": "code",
   "execution_count": 102,
   "metadata": {},
   "outputs": [
    {
     "name": "stdout",
     "output_type": "stream",
     "text": [
      "https://search.naver.com/search.naver?where=nexearch&sm=top_hty&fbm=1&ie=utf8&query=python\n"
     ]
    }
   ],
   "source": [
    "import requests  \n",
    "\n",
    "where_value = 'nexearch' \n",
    "sm_value = 'top_hty'\n",
    "fbm_value = 1\n",
    "ie_value = 'utf8'\n",
    "query_value = 'python'\n",
    "\n",
    "url = \"https://search.naver.com/search.naver\"\n",
    "parameters = {\"where\":where_value, \"sm\":sm_value, \"fbm\":fbm_value, \"ie\":ie_value, \"query\":query_value}\n",
    "r = requests.get(url, params=parameters)\n",
    "print(r.url)"
   ]
  },
  {
   "attachments": {},
   "cell_type": "markdown",
   "metadata": {},
   "source": [
    "## 6.2 웹 사이트에서 데이터 가져오기"
   ]
  },
  {
   "attachments": {},
   "cell_type": "markdown",
   "metadata": {},
   "source": [
    "### 6.2.1 날씨 정보 가져오기"
   ]
  },
  {
   "attachments": {},
   "cell_type": "markdown",
   "metadata": {},
   "source": [
    "#### 웹 사이트 분석해 날씨 정보 가져오기"
   ]
  },
  {
   "attachments": {},
   "cell_type": "markdown",
   "metadata": {},
   "source": [
    "[6장: 241페이지]"
   ]
  },
  {
   "cell_type": "code",
   "execution_count": 103,
   "metadata": {},
   "outputs": [
    {
     "name": "stdout",
     "output_type": "stream",
     "text": [
      "https://search.daum.net/search?w=tot&DA=YZR&t__nil_searchbox=btn&sug=&sugo=&sq=&o=&q=서울시 종로구 청운동 날씨\n"
     ]
    }
   ],
   "source": [
    "import requests  \n",
    "from bs4 import BeautifulSoup \n",
    "\n",
    "location = \"서울시 종로구 청운동\"\n",
    "search_query = location + \" 날씨\"\n",
    "search_url = \"https://search.daum.net/search?w=tot&DA=YZR&t__nil_searchbox=btn&sug=&sugo=&sq=&o=&q=\"\n",
    "url = search_url + search_query\n",
    "\n",
    "html_weather = requests.get(url).text\n",
    "soup_weather = BeautifulSoup(html_weather, \"lxml\")\n",
    "print(url)"
   ]
  },
  {
   "attachments": {},
   "cell_type": "markdown",
   "metadata": {},
   "source": [
    "[6장: 243페이지]"
   ]
  },
  {
   "cell_type": "code",
   "execution_count": 104,
   "metadata": {},
   "outputs": [
    {
     "data": {
      "text/plain": [
       "'16℃'"
      ]
     },
     "execution_count": 104,
     "metadata": {},
     "output_type": "execute_result"
    }
   ],
   "source": [
    "txt_temp = soup_weather.select_one('strong.txt_temp').get_text()\n",
    "txt_temp"
   ]
  },
  {
   "cell_type": "code",
   "execution_count": 105,
   "metadata": {},
   "outputs": [
    {
     "data": {
      "text/plain": [
       "'23시 현재, 맑음'"
      ]
     },
     "execution_count": 105,
     "metadata": {},
     "output_type": "execute_result"
    }
   ],
   "source": [
    "txt_weather = soup_weather.select_one('span.txt_weather').get_text()\n",
    "txt_weather"
   ]
  },
  {
   "cell_type": "code",
   "execution_count": 106,
   "metadata": {},
   "outputs": [
    {
     "data": {
      "text/plain": [
       "[<dd>2.5m/s</dd>, <dd>52%</dd>, <dd class=\"dust_type2\">보통 (42㎍/㎥)</dd>]"
      ]
     },
     "execution_count": 106,
     "metadata": {},
     "output_type": "execute_result"
    }
   ],
   "source": [
    "dl_weather_dds = soup_weather.select('dl.dl_weather dd')\n",
    "dl_weather_dds"
   ]
  },
  {
   "attachments": {},
   "cell_type": "markdown",
   "metadata": {},
   "source": [
    "[6장: 244페이지]"
   ]
  },
  {
   "cell_type": "code",
   "execution_count": 107,
   "metadata": {},
   "outputs": [
    {
     "name": "stdout",
     "output_type": "stream",
     "text": [
      "현재 풍속: 2.5m/s, 현재 습도: 52%, 미세 먼지: 보통 (42㎍/㎥)\n"
     ]
    }
   ],
   "source": [
    "[wind_speed, humidity, pm10] = [x.get_text() for x in dl_weather_dds]\n",
    "\n",
    "print(f\"현재 풍속: {wind_speed}, 현재 습도: {humidity}, 미세 먼지: {pm10}\")"
   ]
  },
  {
   "cell_type": "code",
   "execution_count": 108,
   "metadata": {},
   "outputs": [],
   "source": [
    "import requests  \n",
    "from bs4 import BeautifulSoup \n",
    "import time\n",
    "\n",
    "def get_weather_daum(location):\n",
    "    search_query = location + \" 날씨\"\n",
    "    search_url = \"https://search.daum.net/search?w=tot&DA=YZR&t__nil_searchbox=btn&sug=&sugo=&sq=&o=&q=\"\n",
    "    url = search_url + search_query\n",
    "    html_weather = requests.get(url).text\n",
    "    time.sleep(2)    \n",
    "    soup_weather = BeautifulSoup(html_weather, \"lxml\")\n",
    "    \n",
    "    txt_temp = soup_weather.select_one('strong.txt_temp').get_text()\n",
    "    txt_weather = soup_weather.select_one('span.txt_weather').get_text()\n",
    "\n",
    "    dl_weather_dds = soup_weather.select('dl.dl_weather dd')\n",
    "    [wind_speed, humidity, pm10] = [x.get_text() for x in dl_weather_dds]\n",
    "    \n",
    "    return (txt_temp, txt_weather, wind_speed, humidity, pm10)"
   ]
  },
  {
   "cell_type": "code",
   "execution_count": 109,
   "metadata": {},
   "outputs": [
    {
     "data": {
      "text/plain": [
       "('16℃', '23시 현재, 맑음', '2.5m/s', '52%', '보통 (42㎍/㎥)')"
      ]
     },
     "execution_count": 109,
     "metadata": {},
     "output_type": "execute_result"
    }
   ],
   "source": [
    "location = \"서울시 종로구 청운동\" # 날씨를 알고 싶은 지역 \n",
    "get_weather_daum(location)        # 함수 호출"
   ]
  },
  {
   "attachments": {},
   "cell_type": "markdown",
   "metadata": {},
   "source": [
    "[6장: 245페이지]"
   ]
  },
  {
   "cell_type": "code",
   "execution_count": 110,
   "metadata": {},
   "outputs": [
    {
     "name": "stdout",
     "output_type": "stream",
     "text": [
      "-------[오늘의 날씨 정보] (Daum) ----------\n",
      "- 설정 지역: 경기도 수원시\n",
      "- 기온: 13℃\n",
      "- 날씨 정보: 23시 현재, 맑음 \n",
      "- 현재 풍속: 0.3m/s, 현재 습도: 70%, 미세 먼지: 보통 (59㎍/㎥)\n"
     ]
    }
   ],
   "source": [
    "location = \"경기도 수원시\" # 날씨를 알고 싶은 지역 \n",
    "\n",
    "(txt_temp, txt_weather, wind_speed, humidity, pm10) = get_weather_daum(location)\n",
    "\n",
    "print(\"-------[오늘의 날씨 정보] (Daum) ----------\")\n",
    "print(f\"- 설정 지역: {location}\")\n",
    "print(f\"- 기온: {txt_temp}\")\n",
    "print(f\"- 날씨 정보: {txt_weather} \", )\n",
    "print(f\"- 현재 풍속: {wind_speed}, 현재 습도: {humidity}, 미세 먼지: {pm10}\")"
   ]
  },
  {
   "attachments": {},
   "cell_type": "markdown",
   "metadata": {},
   "source": [
    "#### 날씨 정보 주기적으로 가져오기"
   ]
  },
  {
   "attachments": {},
   "cell_type": "markdown",
   "metadata": {},
   "source": [
    "[6장: 245페이지]"
   ]
  },
  {
   "cell_type": "code",
   "execution_count": 111,
   "metadata": {},
   "outputs": [
    {
     "name": "stdout",
     "output_type": "stream",
     "text": [
      "[작업 수행 시각] 00:31:33\n",
      "-------[오늘의 날씨 정보] (Daum) ----------\n",
      "- 설정 지역: 경기도 수원시\n",
      "- 기온: 13℃\n",
      "- 날씨 정보: 23시 현재, 맑음 \n",
      "- 현재 풍속: 0.3m/s, 현재 습도: 70%, 미세 먼지: 보통 (59㎍/㎥)\n",
      "[작업 수행 시각] 00:31:40\n",
      "-------[오늘의 날씨 정보] (Daum) ----------\n",
      "- 설정 지역: 경기도 수원시\n",
      "- 기온: 13℃\n",
      "- 날씨 정보: 23시 현재, 맑음 \n",
      "- 현재 풍속: 0.3m/s, 현재 습도: 70%, 미세 먼지: 보통 (59㎍/㎥)\n",
      "[작업 수행 시각] 00:31:48\n",
      "-------[오늘의 날씨 정보] (Daum) ----------\n",
      "- 설정 지역: 경기도 수원시\n",
      "- 기온: 13℃\n",
      "- 날씨 정보: 23시 현재, 맑음 \n",
      "- 현재 풍속: 0.3m/s, 현재 습도: 70%, 미세 먼지: 보통 (59㎍/㎥)\n",
      "[작업 수행 시각] 00:31:55\n",
      "-------[오늘의 날씨 정보] (Daum) ----------\n",
      "- 설정 지역: 경기도 수원시\n",
      "- 기온: 13℃\n",
      "- 날씨 정보: 23시 현재, 맑음 \n",
      "- 현재 풍속: 0.3m/s, 현재 습도: 70%, 미세 먼지: 보통 (59㎍/㎥)\n",
      "[작업 수행 시각] 00:32:02\n",
      "작업 강제 종료\n"
     ]
    }
   ],
   "source": [
    "import schedule\n",
    "import time\n",
    "from datetime import datetime\n",
    "\n",
    "# 작업을 위한 함수 지정\n",
    "def job():\n",
    "    now = datetime.now()\n",
    "    print(\"[작업 수행 시각] {:%H:%M:%S}\".format(now))\n",
    "    location = \"경기도 수원시\" # 날씨를 알고 싶은 지역 \n",
    "\n",
    "    (txt_temp, txt_weather, wind_speed, humidity, pm10) = get_weather_daum(location)\n",
    "\n",
    "    print(\"-------[오늘의 날씨 정보] (Daum) ----------\")\n",
    "    print(f\"- 설정 지역: {location}\")\n",
    "    print(f\"- 기온: {txt_temp}\")\n",
    "    print(f\"- 날씨 정보: {txt_weather} \", )\n",
    "    print(f\"- 현재 풍속: {wind_speed}, 현재 습도: {humidity}, 미세 먼지: {pm10}\")\n",
    "\n",
    "# 코드 테스트를 위해 5초마다 날씨 정보 가져와 출력하기 위한 스케줄 설정\n",
    "schedule.every(5).seconds.do(job)  # 5초(second)마다 job() 함수 실행\n",
    "\n",
    "# -- 매일 지정한 시각에 날씨 정보를 가져와 출력하기 위한 스케줄 설정\n",
    "# schedule.every().day.at(\"07:00\").do(job) # 매일 07시에 job() 함수 실행\n",
    "# schedule.every().day.at(\"12:00\").do(job) # 매일 12시에 job() 함수 실행\n",
    "# schedule.every().day.at(\"18:00\").do(job) # 매일 18시에 job() 함수 실행\n",
    "\n",
    "while True:\n",
    "    try:\n",
    "        schedule.run_pending()\n",
    "        time.sleep(1)\n",
    "    except:\n",
    "        print(\"작업 강제 종료\")\n",
    "        schedule.clear()  # 기본 스케줄러 객체를 제거          \n",
    "        break            # while 문을 빠져 나옴"
   ]
  },
  {
   "attachments": {},
   "cell_type": "markdown",
   "metadata": {},
   "source": [
    "### 6.2.2 주식 정보 가져오기"
   ]
  },
  {
   "attachments": {},
   "cell_type": "markdown",
   "metadata": {},
   "source": [
    "#### 주식 현재가 가져오기"
   ]
  },
  {
   "attachments": {},
   "cell_type": "markdown",
   "metadata": {},
   "source": [
    "[6장: 248페이지]"
   ]
  },
  {
   "cell_type": "code",
   "execution_count": 112,
   "metadata": {},
   "outputs": [
    {
     "name": "stdout",
     "output_type": "stream",
     "text": [
      "https://finance.naver.com/item/main.nhn?code=005930\n"
     ]
    }
   ],
   "source": [
    "import requests\n",
    "from bs4 import BeautifulSoup\n",
    "\n",
    "base_url = 'https://finance.naver.com/item/main.nhn'\n",
    "stock_code = \"005930\"\n",
    "url = base_url + \"?code=\" + stock_code\n",
    "\n",
    "html = requests.get(url).text\n",
    "soup = BeautifulSoup(html, 'lxml')\n",
    "\n",
    "print(url)"
   ]
  },
  {
   "attachments": {},
   "cell_type": "markdown",
   "metadata": {},
   "source": [
    "[6장: 250페이지]"
   ]
  },
  {
   "cell_type": "code",
   "execution_count": 113,
   "metadata": {
    "scrolled": false
   },
   "outputs": [
    {
     "data": {
      "text/plain": [
       "<p class=\"no_today\">\n",
       "<em class=\"no_down\">\n",
       "<span class=\"blind\">64,600</span>\n",
       "<span class=\"no6\">6</span><span class=\"no4\">4</span><span class=\"shim\">,</span><span class=\"no6\">6</span><span class=\"no0\">0</span><span class=\"no0\">0</span>\n",
       "</em>\n",
       "</p>"
      ]
     },
     "execution_count": 113,
     "metadata": {},
     "output_type": "execute_result"
    }
   ],
   "source": [
    "soup.select_one('p.no_today')"
   ]
  },
  {
   "cell_type": "code",
   "execution_count": 114,
   "metadata": {},
   "outputs": [
    {
     "data": {
      "text/plain": [
       "'64,600'"
      ]
     },
     "execution_count": 114,
     "metadata": {},
     "output_type": "execute_result"
    }
   ],
   "source": [
    "stock_price = soup.select_one('p.no_today span.blind').get_text()\n",
    "stock_price"
   ]
  },
  {
   "cell_type": "code",
   "execution_count": 115,
   "metadata": {},
   "outputs": [],
   "source": [
    "import requests\n",
    "from bs4 import BeautifulSoup\n",
    "\n",
    "def get_current_stock_price(stock_code):\n",
    "    \n",
    "    base_url = 'https://finance.naver.com/item/main.nhn'\n",
    "    url = base_url + \"?code=\" + stock_code\n",
    "    \n",
    "    html = requests.get(url).text\n",
    "    soup = BeautifulSoup(html, 'lxml')\n",
    "    \n",
    "    stock_price = soup.select_one('p.no_today span.blind').get_text()\n",
    "    \n",
    "    return stock_price"
   ]
  },
  {
   "attachments": {},
   "cell_type": "markdown",
   "metadata": {},
   "source": [
    "[6장: 251페이지]"
   ]
  },
  {
   "cell_type": "code",
   "execution_count": 116,
   "metadata": {},
   "outputs": [
    {
     "data": {
      "text/plain": [
       "'64,600'"
      ]
     },
     "execution_count": 116,
     "metadata": {},
     "output_type": "execute_result"
    }
   ],
   "source": [
    "stock_code = \"005930\"\n",
    "current_stock_price = get_current_stock_price(stock_code)\n",
    "current_stock_price"
   ]
  },
  {
   "cell_type": "code",
   "execution_count": 117,
   "metadata": {},
   "outputs": [
    {
     "name": "stdout",
     "output_type": "stream",
     "text": [
      "[현재 주식 가격(원)]\n",
      "삼성전자: 64,600\n",
      "현대차: 210,000\n",
      "NAVER: 210,000\n"
     ]
    }
   ],
   "source": [
    "company_stock_codes = {\"삼성전자\": \"005930\", \"현대차\":\"005380\", \"NAVER\":\"035420\"}\n",
    "\n",
    "print(\"[현재 주식 가격(원)]\")\n",
    "for company, stock_code in company_stock_codes.items():\n",
    "    current_stock_price = get_current_stock_price(stock_code)\n",
    "    print(f\"{company}: {current_stock_price}\")"
   ]
  },
  {
   "attachments": {},
   "cell_type": "markdown",
   "metadata": {},
   "source": [
    "#### 주식 종목 코드 가져오기"
   ]
  },
  {
   "attachments": {},
   "cell_type": "markdown",
   "metadata": {},
   "source": [
    "[6장: 252페이지]"
   ]
  },
  {
   "cell_type": "code",
   "execution_count": 118,
   "metadata": {},
   "outputs": [
    {
     "data": {
      "text/html": [
       "<div>\n",
       "<style scoped>\n",
       "    .dataframe tbody tr th:only-of-type {\n",
       "        vertical-align: middle;\n",
       "    }\n",
       "\n",
       "    .dataframe tbody tr th {\n",
       "        vertical-align: top;\n",
       "    }\n",
       "\n",
       "    .dataframe thead th {\n",
       "        text-align: right;\n",
       "    }\n",
       "</style>\n",
       "<table border=\"1\" class=\"dataframe\">\n",
       "  <thead>\n",
       "    <tr style=\"text-align: right;\">\n",
       "      <th></th>\n",
       "      <th>회사명</th>\n",
       "      <th>종목코드</th>\n",
       "      <th>...</th>\n",
       "      <th>홈페이지</th>\n",
       "      <th>지역</th>\n",
       "    </tr>\n",
       "  </thead>\n",
       "  <tbody>\n",
       "    <tr>\n",
       "      <th>0</th>\n",
       "      <td>AJ네트웍스</td>\n",
       "      <td>95570</td>\n",
       "      <td>...</td>\n",
       "      <td>http://www.ajnet.co.kr</td>\n",
       "      <td>서울특별시</td>\n",
       "    </tr>\n",
       "    <tr>\n",
       "      <th>1</th>\n",
       "      <td>BNK금융지주</td>\n",
       "      <td>138930</td>\n",
       "      <td>...</td>\n",
       "      <td>http://www.bnkfg.com</td>\n",
       "      <td>부산광역시</td>\n",
       "    </tr>\n",
       "    <tr>\n",
       "      <th>2</th>\n",
       "      <td>DSR</td>\n",
       "      <td>155660</td>\n",
       "      <td>...</td>\n",
       "      <td>http://www.dsr.com</td>\n",
       "      <td>부산광역시</td>\n",
       "    </tr>\n",
       "    <tr>\n",
       "      <th>3</th>\n",
       "      <td>GS</td>\n",
       "      <td>78930</td>\n",
       "      <td>...</td>\n",
       "      <td>NaN</td>\n",
       "      <td>서울특별시</td>\n",
       "    </tr>\n",
       "    <tr>\n",
       "      <th>4</th>\n",
       "      <td>HDC현대산업개발</td>\n",
       "      <td>294870</td>\n",
       "      <td>...</td>\n",
       "      <td>http://www.hdc-dvp.com</td>\n",
       "      <td>서울특별시</td>\n",
       "    </tr>\n",
       "  </tbody>\n",
       "</table>\n",
       "</div>"
      ],
      "text/plain": [
       "         회사명    종목코드  ...                    홈페이지     지역\n",
       "0     AJ네트웍스   95570  ...  http://www.ajnet.co.kr  서울특별시\n",
       "1    BNK금융지주  138930  ...    http://www.bnkfg.com  부산광역시\n",
       "2        DSR  155660  ...      http://www.dsr.com  부산광역시\n",
       "3         GS   78930  ...                     NaN  서울특별시\n",
       "4  HDC현대산업개발  294870  ...  http://www.hdc-dvp.com  서울특별시"
      ]
     },
     "metadata": {},
     "output_type": "display_data"
    }
   ],
   "source": [
    "import pandas as pd\n",
    "\n",
    "# 한국 거래소(KRX)에서 전체 상장법인 목록 가져오기\n",
    "base_url = \"http://kind.krx.co.kr/corpgeneral/corpList.do\"\n",
    "method = \"download\"\n",
    "url = \"{0}?method={1}\".format(base_url, method)\n",
    "\n",
    "df = pd.read_html(url, header=0)[0]\n",
    "\n",
    "with pd.option_context('display.max_columns',4): # 최대 4개까지 열이 표시하도록 설정\n",
    "    pd.set_option(\"show_dimensions\", False)      # 행과 열 개수 출력 안 하기\n",
    "    display(df.head())"
   ]
  },
  {
   "cell_type": "code",
   "execution_count": 119,
   "metadata": {},
   "outputs": [
    {
     "data": {
      "text/html": [
       "<div>\n",
       "<style scoped>\n",
       "    .dataframe tbody tr th:only-of-type {\n",
       "        vertical-align: middle;\n",
       "    }\n",
       "\n",
       "    .dataframe tbody tr th {\n",
       "        vertical-align: top;\n",
       "    }\n",
       "\n",
       "    .dataframe thead th {\n",
       "        text-align: right;\n",
       "    }\n",
       "</style>\n",
       "<table border=\"1\" class=\"dataframe\">\n",
       "  <thead>\n",
       "    <tr style=\"text-align: right;\">\n",
       "      <th></th>\n",
       "      <th>회사명</th>\n",
       "      <th>종목코드</th>\n",
       "      <th>...</th>\n",
       "      <th>홈페이지</th>\n",
       "      <th>지역</th>\n",
       "    </tr>\n",
       "  </thead>\n",
       "  <tbody>\n",
       "    <tr>\n",
       "      <th>0</th>\n",
       "      <td>AJ네트웍스</td>\n",
       "      <td>095570</td>\n",
       "      <td>...</td>\n",
       "      <td>http://www.ajnet.co.kr</td>\n",
       "      <td>서울특별시</td>\n",
       "    </tr>\n",
       "    <tr>\n",
       "      <th>1</th>\n",
       "      <td>BNK금융지주</td>\n",
       "      <td>138930</td>\n",
       "      <td>...</td>\n",
       "      <td>http://www.bnkfg.com</td>\n",
       "      <td>부산광역시</td>\n",
       "    </tr>\n",
       "    <tr>\n",
       "      <th>2</th>\n",
       "      <td>DSR</td>\n",
       "      <td>155660</td>\n",
       "      <td>...</td>\n",
       "      <td>http://www.dsr.com</td>\n",
       "      <td>부산광역시</td>\n",
       "    </tr>\n",
       "    <tr>\n",
       "      <th>3</th>\n",
       "      <td>GS</td>\n",
       "      <td>078930</td>\n",
       "      <td>...</td>\n",
       "      <td>NaN</td>\n",
       "      <td>서울특별시</td>\n",
       "    </tr>\n",
       "    <tr>\n",
       "      <th>4</th>\n",
       "      <td>HDC현대산업개발</td>\n",
       "      <td>294870</td>\n",
       "      <td>...</td>\n",
       "      <td>http://www.hdc-dvp.com</td>\n",
       "      <td>서울특별시</td>\n",
       "    </tr>\n",
       "  </tbody>\n",
       "</table>\n",
       "</div>"
      ],
      "text/plain": [
       "         회사명    종목코드  ...                    홈페이지     지역\n",
       "0     AJ네트웍스  095570  ...  http://www.ajnet.co.kr  서울특별시\n",
       "1    BNK금융지주  138930  ...    http://www.bnkfg.com  부산광역시\n",
       "2        DSR  155660  ...      http://www.dsr.com  부산광역시\n",
       "3         GS  078930  ...                     NaN  서울특별시\n",
       "4  HDC현대산업개발  294870  ...  http://www.hdc-dvp.com  서울특별시"
      ]
     },
     "metadata": {},
     "output_type": "display_data"
    }
   ],
   "source": [
    "df['종목코드']= df['종목코드'].apply(lambda x: f\"{x:06d}\")\n",
    "\n",
    "with pd.option_context('display.max_columns',4): # 최대 4개까지 열이 표시하도록 설정\n",
    "    pd.set_option(\"show_dimensions\", False)      # 행과 열 개수 출력 안 하기\n",
    "    display(df.head())"
   ]
  },
  {
   "cell_type": "code",
   "execution_count": 120,
   "metadata": {
    "scrolled": true
   },
   "outputs": [
    {
     "data": {
      "text/html": [
       "<div>\n",
       "<style scoped>\n",
       "    .dataframe tbody tr th:only-of-type {\n",
       "        vertical-align: middle;\n",
       "    }\n",
       "\n",
       "    .dataframe tbody tr th {\n",
       "        vertical-align: top;\n",
       "    }\n",
       "\n",
       "    .dataframe thead th {\n",
       "        text-align: right;\n",
       "    }\n",
       "</style>\n",
       "<table border=\"1\" class=\"dataframe\">\n",
       "  <thead>\n",
       "    <tr style=\"text-align: right;\">\n",
       "      <th></th>\n",
       "      <th>회사명</th>\n",
       "      <th>종목코드</th>\n",
       "    </tr>\n",
       "  </thead>\n",
       "  <tbody>\n",
       "    <tr>\n",
       "      <th>0</th>\n",
       "      <td>AJ네트웍스</td>\n",
       "      <td>095570</td>\n",
       "    </tr>\n",
       "    <tr>\n",
       "      <th>1</th>\n",
       "      <td>BNK금융지주</td>\n",
       "      <td>138930</td>\n",
       "    </tr>\n",
       "    <tr>\n",
       "      <th>2</th>\n",
       "      <td>DSR</td>\n",
       "      <td>155660</td>\n",
       "    </tr>\n",
       "    <tr>\n",
       "      <th>3</th>\n",
       "      <td>GS</td>\n",
       "      <td>078930</td>\n",
       "    </tr>\n",
       "    <tr>\n",
       "      <th>4</th>\n",
       "      <td>HDC현대산업개발</td>\n",
       "      <td>294870</td>\n",
       "    </tr>\n",
       "  </tbody>\n",
       "</table>\n",
       "</div>"
      ],
      "text/plain": [
       "         회사명    종목코드\n",
       "0     AJ네트웍스  095570\n",
       "1    BNK금융지주  138930\n",
       "2        DSR  155660\n",
       "3         GS  078930\n",
       "4  HDC현대산업개발  294870"
      ]
     },
     "execution_count": 120,
     "metadata": {},
     "output_type": "execute_result"
    }
   ],
   "source": [
    "df = df[['회사명','종목코드']]\n",
    "df.head()"
   ]
  },
  {
   "attachments": {},
   "cell_type": "markdown",
   "metadata": {},
   "source": [
    "[6장: 254페이지]"
   ]
  },
  {
   "cell_type": "code",
   "execution_count": 121,
   "metadata": {},
   "outputs": [],
   "source": [
    "import pandas as pd\n",
    "\n",
    "#----------------------------------------------------\n",
    "# 한국 주식의 종목 이름과 종목 코드를 가져오는 함수\n",
    "#----------------------------------------------------\n",
    "def get_stock_info(maket_type=None):\n",
    "    # 한국거래소(KRX)에서 전체 상장법인 목록 가져오기\n",
    "    base_url =  \"http://kind.krx.co.kr/corpgeneral/corpList.do\"\n",
    "    method = \"download\"\n",
    "    if maket_type == 'kospi':\n",
    "        marketType = \"stockMkt\"  # 주식 종목이 코스피인 경우\n",
    "    elif maket_type == 'kosdaq':\n",
    "        marketType = \"kosdaqMkt\" # 주식 종목이 코스닥인 경우\n",
    "    elif maket_type == None:\n",
    "        marketType = \"\"\n",
    "    url = \"{0}?method={1}&marketType={2}\".format(base_url, method, marketType)\n",
    "\n",
    "    df = pd.read_html(url, header=0)[0]\n",
    "    \n",
    "    # 종목코드 열을 6자리 숫자로 표시된 문자열로 변환\n",
    "    df['종목코드']= df['종목코드'].apply(lambda x: f\"{x:06d}\") \n",
    "    \n",
    "    # 회사명과 종목코드 열 데이터만 남김\n",
    "    df = df[['회사명','종목코드']]\n",
    "    \n",
    "    return df"
   ]
  },
  {
   "cell_type": "code",
   "execution_count": 122,
   "metadata": {
    "scrolled": true
   },
   "outputs": [
    {
     "data": {
      "text/html": [
       "<div>\n",
       "<style scoped>\n",
       "    .dataframe tbody tr th:only-of-type {\n",
       "        vertical-align: middle;\n",
       "    }\n",
       "\n",
       "    .dataframe tbody tr th {\n",
       "        vertical-align: top;\n",
       "    }\n",
       "\n",
       "    .dataframe thead th {\n",
       "        text-align: right;\n",
       "    }\n",
       "</style>\n",
       "<table border=\"1\" class=\"dataframe\">\n",
       "  <thead>\n",
       "    <tr style=\"text-align: right;\">\n",
       "      <th></th>\n",
       "      <th>회사명</th>\n",
       "      <th>종목코드</th>\n",
       "    </tr>\n",
       "  </thead>\n",
       "  <tbody>\n",
       "    <tr>\n",
       "      <th>0</th>\n",
       "      <td>AJ네트웍스</td>\n",
       "      <td>095570</td>\n",
       "    </tr>\n",
       "    <tr>\n",
       "      <th>1</th>\n",
       "      <td>BNK금융지주</td>\n",
       "      <td>138930</td>\n",
       "    </tr>\n",
       "    <tr>\n",
       "      <th>2</th>\n",
       "      <td>DSR</td>\n",
       "      <td>155660</td>\n",
       "    </tr>\n",
       "    <tr>\n",
       "      <th>3</th>\n",
       "      <td>GS</td>\n",
       "      <td>078930</td>\n",
       "    </tr>\n",
       "    <tr>\n",
       "      <th>4</th>\n",
       "      <td>HDC현대산업개발</td>\n",
       "      <td>294870</td>\n",
       "    </tr>\n",
       "  </tbody>\n",
       "</table>\n",
       "</div>"
      ],
      "text/plain": [
       "         회사명    종목코드\n",
       "0     AJ네트웍스  095570\n",
       "1    BNK금융지주  138930\n",
       "2        DSR  155660\n",
       "3         GS  078930\n",
       "4  HDC현대산업개발  294870"
      ]
     },
     "execution_count": 122,
     "metadata": {},
     "output_type": "execute_result"
    }
   ],
   "source": [
    "df_kospi = get_stock_info('kospi')\n",
    "df_kospi.head()"
   ]
  },
  {
   "attachments": {},
   "cell_type": "markdown",
   "metadata": {},
   "source": [
    "[6장: 255페이지]"
   ]
  },
  {
   "cell_type": "code",
   "execution_count": 123,
   "metadata": {},
   "outputs": [
    {
     "data": {
      "text/html": [
       "<div>\n",
       "<style scoped>\n",
       "    .dataframe tbody tr th:only-of-type {\n",
       "        vertical-align: middle;\n",
       "    }\n",
       "\n",
       "    .dataframe tbody tr th {\n",
       "        vertical-align: top;\n",
       "    }\n",
       "\n",
       "    .dataframe thead th {\n",
       "        text-align: right;\n",
       "    }\n",
       "</style>\n",
       "<table border=\"1\" class=\"dataframe\">\n",
       "  <thead>\n",
       "    <tr style=\"text-align: right;\">\n",
       "      <th></th>\n",
       "      <th>회사명</th>\n",
       "      <th>종목코드</th>\n",
       "    </tr>\n",
       "  </thead>\n",
       "  <tbody>\n",
       "    <tr>\n",
       "      <th>0</th>\n",
       "      <td>CJ 바이오사이언스</td>\n",
       "      <td>311690</td>\n",
       "    </tr>\n",
       "    <tr>\n",
       "      <th>1</th>\n",
       "      <td>DH오토웨어</td>\n",
       "      <td>025440</td>\n",
       "    </tr>\n",
       "    <tr>\n",
       "      <th>2</th>\n",
       "      <td>HLB</td>\n",
       "      <td>028300</td>\n",
       "    </tr>\n",
       "    <tr>\n",
       "      <th>3</th>\n",
       "      <td>IBKS제17호스팩</td>\n",
       "      <td>405350</td>\n",
       "    </tr>\n",
       "    <tr>\n",
       "      <th>4</th>\n",
       "      <td>ISC</td>\n",
       "      <td>095340</td>\n",
       "    </tr>\n",
       "  </tbody>\n",
       "</table>\n",
       "</div>"
      ],
      "text/plain": [
       "          회사명    종목코드\n",
       "0  CJ 바이오사이언스  311690\n",
       "1      DH오토웨어  025440\n",
       "2         HLB  028300\n",
       "3  IBKS제17호스팩  405350\n",
       "4         ISC  095340"
      ]
     },
     "execution_count": 123,
     "metadata": {},
     "output_type": "execute_result"
    }
   ],
   "source": [
    "df_kosdaq = get_stock_info('kosdaq')\n",
    "df_kosdaq.head()"
   ]
  },
  {
   "cell_type": "code",
   "execution_count": 124,
   "metadata": {},
   "outputs": [],
   "source": [
    "#--------------------------------------------------\n",
    "# 회사 이름을 입력하면 종목 코드를 가져오는 함수\n",
    "#--------------------------------------------------\n",
    "def get_stock_code(company_name, maket_type=None):\n",
    "    df = get_stock_info(maket_type)\n",
    "    code = df[df['회사명']==company_name]['종목코드'].values\n",
    "    \n",
    "    if(code.size !=0):\n",
    "        code = code[0]    \n",
    "        return code\n",
    "    else:\n",
    "        print(f\"[Error]입력한 [{company_name}]에 대한 종목 코드가 없습니다.\")"
   ]
  },
  {
   "cell_type": "code",
   "execution_count": 125,
   "metadata": {},
   "outputs": [
    {
     "data": {
      "text/plain": [
       "'005930'"
      ]
     },
     "execution_count": 125,
     "metadata": {},
     "output_type": "execute_result"
    }
   ],
   "source": [
    "get_stock_code('삼성전자', 'kospi') # 삼성전자 주식 종목 코드 가져오기, 코스피(kospi) 지정"
   ]
  },
  {
   "attachments": {},
   "cell_type": "markdown",
   "metadata": {},
   "source": [
    "[6장: 256페이지]"
   ]
  },
  {
   "cell_type": "code",
   "execution_count": 126,
   "metadata": {},
   "outputs": [
    {
     "data": {
      "text/plain": [
       "'005930'"
      ]
     },
     "execution_count": 126,
     "metadata": {},
     "output_type": "execute_result"
    }
   ],
   "source": [
    "get_stock_code('삼성전자') # 삼성전자 주식 종목 코드 가져오기, 주식 종류는 지정 안 함"
   ]
  },
  {
   "cell_type": "code",
   "execution_count": 127,
   "metadata": {},
   "outputs": [
    {
     "name": "stdout",
     "output_type": "stream",
     "text": [
      "[Error]입력한 [현대차]에 대한 종목 코드가 없습니다.\n"
     ]
    }
   ],
   "source": [
    "get_stock_code('현대차')"
   ]
  },
  {
   "cell_type": "code",
   "execution_count": 128,
   "metadata": {},
   "outputs": [
    {
     "data": {
      "text/plain": [
       "'005380'"
      ]
     },
     "execution_count": 128,
     "metadata": {},
     "output_type": "execute_result"
    }
   ],
   "source": [
    "get_stock_code('현대자동차')"
   ]
  },
  {
   "cell_type": "code",
   "execution_count": 129,
   "metadata": {},
   "outputs": [
    {
     "name": "stdout",
     "output_type": "stream",
     "text": [
      "[현재 주식 가격(원)]\n",
      "삼성전자: 64,600\n",
      "현대자동차: 210,000\n",
      "NAVER: 210,000\n"
     ]
    }
   ],
   "source": [
    "company_names = [\"삼성전자\", \"현대자동차\", \"NAVER\"]\n",
    "\n",
    "print(\"[현재 주식 가격(원)]\")\n",
    "for company_name in company_names:\n",
    "    stock_code = get_stock_code(company_name)\n",
    "    current_stock_price = get_current_stock_price(stock_code)\n",
    "    print(f\"{company_name}: {current_stock_price}\")"
   ]
  },
  {
   "attachments": {},
   "cell_type": "markdown",
   "metadata": {},
   "source": [
    "[6장: 257페이지]"
   ]
  },
  {
   "cell_type": "code",
   "execution_count": 130,
   "metadata": {},
   "outputs": [
    {
     "data": {
      "text/plain": [
       "'311690'"
      ]
     },
     "execution_count": 130,
     "metadata": {},
     "output_type": "execute_result"
    }
   ],
   "source": [
    "get_stock_code('CJ 바이오사이언스', 'kosdaq') # 주식 종목 코드 가져오기, 코스닥(kosdaq) 지정"
   ]
  },
  {
   "cell_type": "code",
   "execution_count": 131,
   "metadata": {},
   "outputs": [
    {
     "data": {
      "text/plain": [
       "'311690'"
      ]
     },
     "execution_count": 131,
     "metadata": {},
     "output_type": "execute_result"
    }
   ],
   "source": [
    "get_stock_code('CJ 바이오사이언스') # 주식 종목 코드 가져오기, 주식 종류는 지정 안 함"
   ]
  },
  {
   "attachments": {},
   "cell_type": "markdown",
   "metadata": {},
   "source": [
    "### 6.2.3 환율 정보 가져오기"
   ]
  },
  {
   "attachments": {},
   "cell_type": "markdown",
   "metadata": {},
   "source": [
    "#### 현재의 환율 정보 가져오기"
   ]
  },
  {
   "attachments": {},
   "cell_type": "markdown",
   "metadata": {},
   "source": [
    "[6장: 259페이지]"
   ]
  },
  {
   "cell_type": "code",
   "execution_count": 132,
   "metadata": {
    "scrolled": true
   },
   "outputs": [
    {
     "data": {
      "text/plain": [
       "[          통화명    매매기준율        전일대비     등락률\n",
       " 0      미국 USD  1322.00  전일대비하락4.50  -0.34%\n",
       " 1  일본 JPY 100   983.16  전일대비상승1.55  +0.16%\n",
       " 2    유럽연합 EUR  1450.50  전일대비하락3.61  -0.25%\n",
       " 3      중국 CNY   190.50  전일대비하락1.01  -0.53%\n",
       " 4      영국 GBP  1668.03  전일대비하락4.55  -0.27%\n",
       " 5      호주 AUD   893.54  전일대비하락3.44  -0.38%\n",
       " 6     캐나다 CAD   988.12  전일대비하락2.54  -0.26%\n",
       " 7    뉴질랜드 NZD   839.60  전일대비하락0.07  -0.01%]"
      ]
     },
     "execution_count": 132,
     "metadata": {},
     "output_type": "execute_result"
    }
   ],
   "source": [
    "import pandas as pd\n",
    "\n",
    "url = 'https://search.naver.com/search.naver?where=nexearch&sm=top_hty&fbm=1&ie=utf8&query=%ED%99%98%EC%9C%A8'\n",
    "\n",
    "# url에서 표 데이터를 추출해 DataFrame 데이터의 리스트로 반환\n",
    "dfs = pd.read_html(url)\n",
    "dfs"
   ]
  },
  {
   "attachments": {},
   "cell_type": "markdown",
   "metadata": {},
   "source": [
    "[6장: 260페이지]"
   ]
  },
  {
   "cell_type": "code",
   "execution_count": 133,
   "metadata": {},
   "outputs": [
    {
     "data": {
      "text/plain": [
       "1"
      ]
     },
     "execution_count": 133,
     "metadata": {},
     "output_type": "execute_result"
    }
   ],
   "source": [
    "len(dfs)"
   ]
  },
  {
   "cell_type": "code",
   "execution_count": 134,
   "metadata": {},
   "outputs": [
    {
     "data": {
      "text/html": [
       "<div>\n",
       "<style scoped>\n",
       "    .dataframe tbody tr th:only-of-type {\n",
       "        vertical-align: middle;\n",
       "    }\n",
       "\n",
       "    .dataframe tbody tr th {\n",
       "        vertical-align: top;\n",
       "    }\n",
       "\n",
       "    .dataframe thead th {\n",
       "        text-align: right;\n",
       "    }\n",
       "</style>\n",
       "<table border=\"1\" class=\"dataframe\">\n",
       "  <thead>\n",
       "    <tr style=\"text-align: right;\">\n",
       "      <th></th>\n",
       "      <th>통화명</th>\n",
       "      <th>매매기준율</th>\n",
       "      <th>전일대비</th>\n",
       "      <th>등락률</th>\n",
       "    </tr>\n",
       "  </thead>\n",
       "  <tbody>\n",
       "    <tr>\n",
       "      <th>0</th>\n",
       "      <td>미국 USD</td>\n",
       "      <td>1322.00</td>\n",
       "      <td>전일대비하락4.50</td>\n",
       "      <td>-0.34%</td>\n",
       "    </tr>\n",
       "    <tr>\n",
       "      <th>1</th>\n",
       "      <td>일본 JPY 100</td>\n",
       "      <td>983.16</td>\n",
       "      <td>전일대비상승1.55</td>\n",
       "      <td>+0.16%</td>\n",
       "    </tr>\n",
       "    <tr>\n",
       "      <th>2</th>\n",
       "      <td>유럽연합 EUR</td>\n",
       "      <td>1450.50</td>\n",
       "      <td>전일대비하락3.61</td>\n",
       "      <td>-0.25%</td>\n",
       "    </tr>\n",
       "    <tr>\n",
       "      <th>3</th>\n",
       "      <td>중국 CNY</td>\n",
       "      <td>190.50</td>\n",
       "      <td>전일대비하락1.01</td>\n",
       "      <td>-0.53%</td>\n",
       "    </tr>\n",
       "    <tr>\n",
       "      <th>4</th>\n",
       "      <td>영국 GBP</td>\n",
       "      <td>1668.03</td>\n",
       "      <td>전일대비하락4.55</td>\n",
       "      <td>-0.27%</td>\n",
       "    </tr>\n",
       "    <tr>\n",
       "      <th>5</th>\n",
       "      <td>호주 AUD</td>\n",
       "      <td>893.54</td>\n",
       "      <td>전일대비하락3.44</td>\n",
       "      <td>-0.38%</td>\n",
       "    </tr>\n",
       "    <tr>\n",
       "      <th>6</th>\n",
       "      <td>캐나다 CAD</td>\n",
       "      <td>988.12</td>\n",
       "      <td>전일대비하락2.54</td>\n",
       "      <td>-0.26%</td>\n",
       "    </tr>\n",
       "    <tr>\n",
       "      <th>7</th>\n",
       "      <td>뉴질랜드 NZD</td>\n",
       "      <td>839.60</td>\n",
       "      <td>전일대비하락0.07</td>\n",
       "      <td>-0.01%</td>\n",
       "    </tr>\n",
       "  </tbody>\n",
       "</table>\n",
       "</div>"
      ],
      "text/plain": [
       "          통화명    매매기준율        전일대비     등락률\n",
       "0      미국 USD  1322.00  전일대비하락4.50  -0.34%\n",
       "1  일본 JPY 100   983.16  전일대비상승1.55  +0.16%\n",
       "2    유럽연합 EUR  1450.50  전일대비하락3.61  -0.25%\n",
       "3      중국 CNY   190.50  전일대비하락1.01  -0.53%\n",
       "4      영국 GBP  1668.03  전일대비하락4.55  -0.27%\n",
       "5      호주 AUD   893.54  전일대비하락3.44  -0.38%\n",
       "6     캐나다 CAD   988.12  전일대비하락2.54  -0.26%\n",
       "7    뉴질랜드 NZD   839.60  전일대비하락0.07  -0.01%"
      ]
     },
     "execution_count": 134,
     "metadata": {},
     "output_type": "execute_result"
    }
   ],
   "source": [
    "dfs[0]"
   ]
  },
  {
   "cell_type": "code",
   "execution_count": 135,
   "metadata": {
    "scrolled": false
   },
   "outputs": [
    {
     "data": {
      "text/html": [
       "<div>\n",
       "<style scoped>\n",
       "    .dataframe tbody tr th:only-of-type {\n",
       "        vertical-align: middle;\n",
       "    }\n",
       "\n",
       "    .dataframe tbody tr th {\n",
       "        vertical-align: top;\n",
       "    }\n",
       "\n",
       "    .dataframe thead th {\n",
       "        text-align: right;\n",
       "    }\n",
       "</style>\n",
       "<table border=\"1\" class=\"dataframe\">\n",
       "  <thead>\n",
       "    <tr style=\"text-align: right;\">\n",
       "      <th></th>\n",
       "      <th>통화명</th>\n",
       "      <th>매매기준율</th>\n",
       "      <th>전일대비</th>\n",
       "      <th>등락률</th>\n",
       "    </tr>\n",
       "  </thead>\n",
       "  <tbody>\n",
       "    <tr>\n",
       "      <th>0</th>\n",
       "      <td>미국 USD</td>\n",
       "      <td>1322.00</td>\n",
       "      <td>▼4.50</td>\n",
       "      <td>-0.34%</td>\n",
       "    </tr>\n",
       "    <tr>\n",
       "      <th>1</th>\n",
       "      <td>일본 JPY 100</td>\n",
       "      <td>983.16</td>\n",
       "      <td>▲1.55</td>\n",
       "      <td>+0.16%</td>\n",
       "    </tr>\n",
       "    <tr>\n",
       "      <th>2</th>\n",
       "      <td>유럽연합 EUR</td>\n",
       "      <td>1450.50</td>\n",
       "      <td>▼3.61</td>\n",
       "      <td>-0.25%</td>\n",
       "    </tr>\n",
       "    <tr>\n",
       "      <th>3</th>\n",
       "      <td>중국 CNY</td>\n",
       "      <td>190.50</td>\n",
       "      <td>▼1.01</td>\n",
       "      <td>-0.53%</td>\n",
       "    </tr>\n",
       "    <tr>\n",
       "      <th>4</th>\n",
       "      <td>영국 GBP</td>\n",
       "      <td>1668.03</td>\n",
       "      <td>▼4.55</td>\n",
       "      <td>-0.27%</td>\n",
       "    </tr>\n",
       "    <tr>\n",
       "      <th>5</th>\n",
       "      <td>호주 AUD</td>\n",
       "      <td>893.54</td>\n",
       "      <td>▼3.44</td>\n",
       "      <td>-0.38%</td>\n",
       "    </tr>\n",
       "    <tr>\n",
       "      <th>6</th>\n",
       "      <td>캐나다 CAD</td>\n",
       "      <td>988.12</td>\n",
       "      <td>▼2.54</td>\n",
       "      <td>-0.26%</td>\n",
       "    </tr>\n",
       "    <tr>\n",
       "      <th>7</th>\n",
       "      <td>뉴질랜드 NZD</td>\n",
       "      <td>839.60</td>\n",
       "      <td>▼0.07</td>\n",
       "      <td>-0.01%</td>\n",
       "    </tr>\n",
       "  </tbody>\n",
       "</table>\n",
       "</div>"
      ],
      "text/plain": [
       "          통화명    매매기준율   전일대비     등락률\n",
       "0      미국 USD  1322.00  ▼4.50  -0.34%\n",
       "1  일본 JPY 100   983.16  ▲1.55  +0.16%\n",
       "2    유럽연합 EUR  1450.50  ▼3.61  -0.25%\n",
       "3      중국 CNY   190.50  ▼1.01  -0.53%\n",
       "4      영국 GBP  1668.03  ▼4.55  -0.27%\n",
       "5      호주 AUD   893.54  ▼3.44  -0.38%\n",
       "6     캐나다 CAD   988.12  ▼2.54  -0.26%\n",
       "7    뉴질랜드 NZD   839.60  ▼0.07  -0.01%"
      ]
     },
     "execution_count": 135,
     "metadata": {},
     "output_type": "execute_result"
    }
   ],
   "source": [
    "exchange_rate_df = dfs[0].replace({'전일대비상승': '▲', \n",
    "                                   '전일대비하락': '▼'}, regex=True)\n",
    "exchange_rate_df"
   ]
  },
  {
   "attachments": {},
   "cell_type": "markdown",
   "metadata": {},
   "source": [
    "[6장: 262페이지]"
   ]
  },
  {
   "cell_type": "code",
   "execution_count": 136,
   "metadata": {
    "scrolled": true
   },
   "outputs": [
    {
     "data": {
      "text/html": [
       "<div>\n",
       "<style scoped>\n",
       "    .dataframe tbody tr th:only-of-type {\n",
       "        vertical-align: middle;\n",
       "    }\n",
       "\n",
       "    .dataframe tbody tr th {\n",
       "        vertical-align: top;\n",
       "    }\n",
       "\n",
       "    .dataframe thead th {\n",
       "        text-align: right;\n",
       "    }\n",
       "</style>\n",
       "<table border=\"1\" class=\"dataframe\">\n",
       "  <thead>\n",
       "    <tr style=\"text-align: right;\">\n",
       "      <th></th>\n",
       "      <th>통화명</th>\n",
       "      <th>매매기준율</th>\n",
       "      <th>사실 때</th>\n",
       "      <th>파실 때</th>\n",
       "      <th>보내실 때</th>\n",
       "      <th>받으실 때</th>\n",
       "      <th>미화환산율</th>\n",
       "    </tr>\n",
       "  </thead>\n",
       "  <tbody>\n",
       "    <tr>\n",
       "      <th>0</th>\n",
       "      <td>미국 USD</td>\n",
       "      <td>1322.00</td>\n",
       "      <td>1345.13</td>\n",
       "      <td>1298.87</td>\n",
       "      <td>1334.90</td>\n",
       "      <td>1309.10</td>\n",
       "      <td>1.000</td>\n",
       "    </tr>\n",
       "    <tr>\n",
       "      <th>1</th>\n",
       "      <td>유럽연합 EUR</td>\n",
       "      <td>1450.50</td>\n",
       "      <td>1479.36</td>\n",
       "      <td>1421.64</td>\n",
       "      <td>1465.00</td>\n",
       "      <td>1436.00</td>\n",
       "      <td>1.097</td>\n",
       "    </tr>\n",
       "    <tr>\n",
       "      <th>2</th>\n",
       "      <td>일본 JPY (100엔)</td>\n",
       "      <td>983.16</td>\n",
       "      <td>1000.36</td>\n",
       "      <td>965.96</td>\n",
       "      <td>992.79</td>\n",
       "      <td>973.53</td>\n",
       "      <td>0.744</td>\n",
       "    </tr>\n",
       "    <tr>\n",
       "      <th>3</th>\n",
       "      <td>중국 CNY</td>\n",
       "      <td>190.50</td>\n",
       "      <td>200.02</td>\n",
       "      <td>180.98</td>\n",
       "      <td>192.40</td>\n",
       "      <td>188.60</td>\n",
       "      <td>0.144</td>\n",
       "    </tr>\n",
       "    <tr>\n",
       "      <th>4</th>\n",
       "      <td>홍콩 HKD</td>\n",
       "      <td>168.85</td>\n",
       "      <td>172.17</td>\n",
       "      <td>165.53</td>\n",
       "      <td>170.53</td>\n",
       "      <td>167.17</td>\n",
       "      <td>0.128</td>\n",
       "    </tr>\n",
       "  </tbody>\n",
       "</table>\n",
       "</div>"
      ],
      "text/plain": [
       "             통화명    매매기준율     사실 때     파실 때    보내실 때    받으실 때  미화환산율\n",
       "0         미국 USD  1322.00  1345.13  1298.87  1334.90  1309.10  1.000\n",
       "1       유럽연합 EUR  1450.50  1479.36  1421.64  1465.00  1436.00  1.097\n",
       "2  일본 JPY (100엔)   983.16  1000.36   965.96   992.79   973.53  0.744\n",
       "3         중국 CNY   190.50   200.02   180.98   192.40   188.60  0.144\n",
       "4         홍콩 HKD   168.85   172.17   165.53   170.53   167.17  0.128"
      ]
     },
     "execution_count": 136,
     "metadata": {},
     "output_type": "execute_result"
    }
   ],
   "source": [
    "import pandas as pd\n",
    "\n",
    "# 네이버 금융의 환율 정보 웹 사이트 주소\n",
    "url = 'https://finance.naver.com/marketindex/exchangeList.nhn' \n",
    "\n",
    "# 웹 사이트의 표 데이터에서 두 번째 줄을 DataFrame 데이터의 columns로 선택\n",
    "dfs = pd.read_html(url, header=1) \n",
    "\n",
    "dfs[0].head() # 전체 데이터 중 앞의 일부분만 표시"
   ]
  },
  {
   "attachments": {},
   "cell_type": "markdown",
   "metadata": {},
   "source": [
    "#### 과거의 환율 정보 가져오기"
   ]
  },
  {
   "attachments": {},
   "cell_type": "markdown",
   "metadata": {},
   "source": [
    "[6장: 264페이지]"
   ]
  },
  {
   "cell_type": "code",
   "execution_count": 137,
   "metadata": {},
   "outputs": [
    {
     "data": {
      "text/html": [
       "<div>\n",
       "<style scoped>\n",
       "    .dataframe tbody tr th:only-of-type {\n",
       "        vertical-align: middle;\n",
       "    }\n",
       "\n",
       "    .dataframe tbody tr th {\n",
       "        vertical-align: top;\n",
       "    }\n",
       "\n",
       "    .dataframe thead th {\n",
       "        text-align: right;\n",
       "    }\n",
       "</style>\n",
       "<table border=\"1\" class=\"dataframe\">\n",
       "  <thead>\n",
       "    <tr style=\"text-align: right;\">\n",
       "      <th></th>\n",
       "      <th>날짜</th>\n",
       "      <th>매매기준율</th>\n",
       "      <th>전일대비</th>\n",
       "      <th>...</th>\n",
       "      <th>받으실 때</th>\n",
       "      <th>T/C 사실때</th>\n",
       "      <th>외화수표 파실 때</th>\n",
       "    </tr>\n",
       "  </thead>\n",
       "  <tbody>\n",
       "    <tr>\n",
       "      <th>0</th>\n",
       "      <td>2023.05.10</td>\n",
       "      <td>1322.0</td>\n",
       "      <td>4.5</td>\n",
       "      <td>...</td>\n",
       "      <td>1309.1</td>\n",
       "      <td>NaN</td>\n",
       "      <td>1306.57</td>\n",
       "    </tr>\n",
       "    <tr>\n",
       "      <th>1</th>\n",
       "      <td>2023.05.09</td>\n",
       "      <td>1326.5</td>\n",
       "      <td>4.5</td>\n",
       "      <td>...</td>\n",
       "      <td>1313.6</td>\n",
       "      <td>NaN</td>\n",
       "      <td>1311.06</td>\n",
       "    </tr>\n",
       "    <tr>\n",
       "      <th>...</th>\n",
       "      <td>...</td>\n",
       "      <td>...</td>\n",
       "      <td>...</td>\n",
       "      <td>...</td>\n",
       "      <td>...</td>\n",
       "      <td>...</td>\n",
       "      <td>...</td>\n",
       "    </tr>\n",
       "    <tr>\n",
       "      <th>8</th>\n",
       "      <td>2023.04.26</td>\n",
       "      <td>1338.0</td>\n",
       "      <td>4.0</td>\n",
       "      <td>...</td>\n",
       "      <td>1324.9</td>\n",
       "      <td>NaN</td>\n",
       "      <td>1322.36</td>\n",
       "    </tr>\n",
       "    <tr>\n",
       "      <th>9</th>\n",
       "      <td>2023.04.25</td>\n",
       "      <td>1342.0</td>\n",
       "      <td>7.0</td>\n",
       "      <td>...</td>\n",
       "      <td>1328.9</td>\n",
       "      <td>NaN</td>\n",
       "      <td>1326.36</td>\n",
       "    </tr>\n",
       "  </tbody>\n",
       "</table>\n",
       "</div>"
      ],
      "text/plain": [
       "            날짜   매매기준율  전일대비  ...   받으실 때  T/C 사실때  외화수표 파실 때\n",
       "0   2023.05.10  1322.0   4.5  ...  1309.1      NaN    1306.57\n",
       "1   2023.05.09  1326.5   4.5  ...  1313.6      NaN    1311.06\n",
       "..         ...     ...   ...  ...     ...      ...        ...\n",
       "8   2023.04.26  1338.0   4.0  ...  1324.9      NaN    1322.36\n",
       "9   2023.04.25  1342.0   7.0  ...  1328.9      NaN    1326.36"
      ]
     },
     "metadata": {},
     "output_type": "display_data"
    }
   ],
   "source": [
    "import pandas as pd\n",
    "\n",
    "base_url = \"https://finance.naver.com/marketindex/exchangeDailyQuote.nhn\"\n",
    "currency_code = \"FX_USDKRW\" # 통화 코드\n",
    "page_num = 1\n",
    "\n",
    "url = f\"{base_url}?marketindexCd={currency_code}&page={page_num}\"\n",
    "dfs = pd.read_html(url, header=1)\n",
    "\n",
    "# 행과 열의 최대 표시 개수를 임시로 설정\n",
    "with pd.option_context('display.max_rows',4, 'display.max_columns',6): \n",
    "    pd.set_option(\"show_dimensions\", False) # 행과 열 개수 정보 숨기기\n",
    "    display(dfs[0])"
   ]
  },
  {
   "attachments": {},
   "cell_type": "markdown",
   "metadata": {},
   "source": [
    "[6장: 265페이지]"
   ]
  },
  {
   "cell_type": "code",
   "execution_count": 138,
   "metadata": {},
   "outputs": [],
   "source": [
    "import pandas as pd\n",
    "import time\n",
    "\n",
    "# 날짜별 환율 데이터를 반환하는 함수\n",
    "# - 입력 인수: currency_code(통화코드), last_page_num(페이지 수)\n",
    "# - 반환: 환율 데이터\n",
    "def get_exchange_rate_data(currency_code, last_page_num):\n",
    "    base_url = \"https://finance.naver.com/marketindex/exchangeDailyQuote.nhn\"\n",
    "\n",
    "    df = pd.DataFrame()\n",
    "\n",
    "    for page_num in range(1, last_page_num+1):\n",
    "        url = f\"{base_url}?marketindexCd={currency_code}&page={page_num}\"\n",
    "        dfs = pd.read_html(url, header=1)\n",
    "\n",
    "        if dfs[0].empty: # 통화 코드가 잘못 지정됐거나 마지막 페이지의 경우 for 문을 빠져나오기 위한 코드\n",
    "            if (page_num==1):\n",
    "                print(f\"통화 코드({currency_code})가 잘못 지정됐습니다.\")\n",
    "            else:\n",
    "                print(f\"{page_num}가 마지막 페이지입니다.\")\n",
    "            break\n",
    "\n",
    "        df = pd.concat([df, dfs[0]], ignore_index=True) # page별로 가져온 DataFrame 데이터 연결\n",
    "        time.sleep(0.1) # 0.1초간 멈춤\n",
    "        \n",
    "    return df"
   ]
  },
  {
   "attachments": {},
   "cell_type": "markdown",
   "metadata": {},
   "source": [
    "[6장: 266페이지]"
   ]
  },
  {
   "cell_type": "code",
   "execution_count": 139,
   "metadata": {},
   "outputs": [
    {
     "data": {
      "text/html": [
       "<div>\n",
       "<style scoped>\n",
       "    .dataframe tbody tr th:only-of-type {\n",
       "        vertical-align: middle;\n",
       "    }\n",
       "\n",
       "    .dataframe tbody tr th {\n",
       "        vertical-align: top;\n",
       "    }\n",
       "\n",
       "    .dataframe thead th {\n",
       "        text-align: right;\n",
       "    }\n",
       "</style>\n",
       "<table border=\"1\" class=\"dataframe\">\n",
       "  <thead>\n",
       "    <tr style=\"text-align: right;\">\n",
       "      <th></th>\n",
       "      <th>날짜</th>\n",
       "      <th>매매기준율</th>\n",
       "      <th>전일대비</th>\n",
       "      <th>...</th>\n",
       "      <th>받으실 때</th>\n",
       "      <th>T/C 사실때</th>\n",
       "      <th>외화수표 파실 때</th>\n",
       "    </tr>\n",
       "  </thead>\n",
       "  <tbody>\n",
       "    <tr>\n",
       "      <th>0</th>\n",
       "      <td>2023.05.10</td>\n",
       "      <td>1322.0</td>\n",
       "      <td>4.5</td>\n",
       "      <td>...</td>\n",
       "      <td>1309.1</td>\n",
       "      <td>NaN</td>\n",
       "      <td>1306.57</td>\n",
       "    </tr>\n",
       "    <tr>\n",
       "      <th>1</th>\n",
       "      <td>2023.05.09</td>\n",
       "      <td>1326.5</td>\n",
       "      <td>4.5</td>\n",
       "      <td>...</td>\n",
       "      <td>1313.6</td>\n",
       "      <td>NaN</td>\n",
       "      <td>1311.06</td>\n",
       "    </tr>\n",
       "    <tr>\n",
       "      <th>...</th>\n",
       "      <td>...</td>\n",
       "      <td>...</td>\n",
       "      <td>...</td>\n",
       "      <td>...</td>\n",
       "      <td>...</td>\n",
       "      <td>...</td>\n",
       "      <td>...</td>\n",
       "    </tr>\n",
       "    <tr>\n",
       "      <th>18</th>\n",
       "      <td>2023.04.12</td>\n",
       "      <td>1324.0</td>\n",
       "      <td>1.5</td>\n",
       "      <td>...</td>\n",
       "      <td>1311.1</td>\n",
       "      <td>NaN</td>\n",
       "      <td>1308.63</td>\n",
       "    </tr>\n",
       "    <tr>\n",
       "      <th>19</th>\n",
       "      <td>2023.04.11</td>\n",
       "      <td>1322.5</td>\n",
       "      <td>0.5</td>\n",
       "      <td>...</td>\n",
       "      <td>1309.6</td>\n",
       "      <td>NaN</td>\n",
       "      <td>1307.14</td>\n",
       "    </tr>\n",
       "  </tbody>\n",
       "</table>\n",
       "</div>"
      ],
      "text/plain": [
       "            날짜   매매기준율  전일대비  ...   받으실 때  T/C 사실때  외화수표 파실 때\n",
       "0   2023.05.10  1322.0   4.5  ...  1309.1      NaN    1306.57\n",
       "1   2023.05.09  1326.5   4.5  ...  1313.6      NaN    1311.06\n",
       "..         ...     ...   ...  ...     ...      ...        ...\n",
       "18  2023.04.12  1324.0   1.5  ...  1311.1      NaN    1308.63\n",
       "19  2023.04.11  1322.5   0.5  ...  1309.6      NaN    1307.14"
      ]
     },
     "metadata": {},
     "output_type": "display_data"
    }
   ],
   "source": [
    "df_usd = get_exchange_rate_data('FX_USDKRW', 2)\n",
    "\n",
    "# 행과 열의 최대 표시 개수를 임시로 설정\n",
    "with pd.option_context('display.max_rows',4, 'display.max_columns',6):\n",
    "    pd.set_option(\"show_dimensions\", False) # 행과 열 개수 정보 숨기기\n",
    "    display(df_usd)"
   ]
  },
  {
   "attachments": {},
   "cell_type": "markdown",
   "metadata": {},
   "source": [
    "[6장: 267페이지]"
   ]
  },
  {
   "cell_type": "code",
   "execution_count": 140,
   "metadata": {
    "scrolled": false
   },
   "outputs": [
    {
     "data": {
      "text/html": [
       "<div>\n",
       "<style scoped>\n",
       "    .dataframe tbody tr th:only-of-type {\n",
       "        vertical-align: middle;\n",
       "    }\n",
       "\n",
       "    .dataframe tbody tr th {\n",
       "        vertical-align: top;\n",
       "    }\n",
       "\n",
       "    .dataframe thead th {\n",
       "        text-align: right;\n",
       "    }\n",
       "</style>\n",
       "<table border=\"1\" class=\"dataframe\">\n",
       "  <thead>\n",
       "    <tr style=\"text-align: right;\">\n",
       "      <th></th>\n",
       "      <th>날짜</th>\n",
       "      <th>매매기준율</th>\n",
       "      <th>전일대비</th>\n",
       "      <th>...</th>\n",
       "      <th>받으실 때</th>\n",
       "      <th>T/C 사실때</th>\n",
       "      <th>외화수표 파실 때</th>\n",
       "    </tr>\n",
       "  </thead>\n",
       "  <tbody>\n",
       "    <tr>\n",
       "      <th>0</th>\n",
       "      <td>2023.05.10</td>\n",
       "      <td>1450.50</td>\n",
       "      <td>3.61</td>\n",
       "      <td>...</td>\n",
       "      <td>1436.00</td>\n",
       "      <td>NaN</td>\n",
       "      <td>1433.95</td>\n",
       "    </tr>\n",
       "    <tr>\n",
       "      <th>1</th>\n",
       "      <td>2023.05.09</td>\n",
       "      <td>1454.11</td>\n",
       "      <td>6.70</td>\n",
       "      <td>...</td>\n",
       "      <td>1439.57</td>\n",
       "      <td>NaN</td>\n",
       "      <td>1437.53</td>\n",
       "    </tr>\n",
       "    <tr>\n",
       "      <th>...</th>\n",
       "      <td>...</td>\n",
       "      <td>...</td>\n",
       "      <td>...</td>\n",
       "      <td>...</td>\n",
       "      <td>...</td>\n",
       "      <td>...</td>\n",
       "      <td>...</td>\n",
       "    </tr>\n",
       "    <tr>\n",
       "      <th>3</th>\n",
       "      <td>2023.05.04</td>\n",
       "      <td>1456.58</td>\n",
       "      <td>16.65</td>\n",
       "      <td>...</td>\n",
       "      <td>1442.02</td>\n",
       "      <td>NaN</td>\n",
       "      <td>1439.98</td>\n",
       "    </tr>\n",
       "    <tr>\n",
       "      <th>4</th>\n",
       "      <td>2023.05.03</td>\n",
       "      <td>1473.23</td>\n",
       "      <td>1.36</td>\n",
       "      <td>...</td>\n",
       "      <td>1458.50</td>\n",
       "      <td>NaN</td>\n",
       "      <td>1456.45</td>\n",
       "    </tr>\n",
       "  </tbody>\n",
       "</table>\n",
       "</div>"
      ],
      "text/plain": [
       "            날짜    매매기준율   전일대비  ...    받으실 때  T/C 사실때  외화수표 파실 때\n",
       "0   2023.05.10  1450.50   3.61  ...  1436.00      NaN    1433.95\n",
       "1   2023.05.09  1454.11   6.70  ...  1439.57      NaN    1437.53\n",
       "..         ...      ...    ...  ...      ...      ...        ...\n",
       "3   2023.05.04  1456.58  16.65  ...  1442.02      NaN    1439.98\n",
       "4   2023.05.03  1473.23   1.36  ...  1458.50      NaN    1456.45"
      ]
     },
     "metadata": {},
     "output_type": "display_data"
    }
   ],
   "source": [
    "df_eur = get_exchange_rate_data('FX_EURKRW', 1)\n",
    "\n",
    "# 행과 열의 최대 표시 개수를 임시로 설정\n",
    "with pd.option_context('display.max_rows',4, 'display.max_columns',6):\n",
    "    pd.set_option(\"show_dimensions\", False) # 행과 열 개수 정보 숨기기\n",
    "    display(df_eur.head())"
   ]
  },
  {
   "attachments": {},
   "cell_type": "markdown",
   "metadata": {},
   "source": [
    "### 6.2.4 부동산 정보 가져오기"
   ]
  },
  {
   "attachments": {},
   "cell_type": "markdown",
   "metadata": {},
   "source": [
    "[6장: 269페이지]"
   ]
  },
  {
   "cell_type": "code",
   "execution_count": 141,
   "metadata": {},
   "outputs": [
    {
     "data": {
      "text/html": [
       "<div>\n",
       "<style scoped>\n",
       "    .dataframe tbody tr th:only-of-type {\n",
       "        vertical-align: middle;\n",
       "    }\n",
       "\n",
       "    .dataframe tbody tr th {\n",
       "        vertical-align: top;\n",
       "    }\n",
       "\n",
       "    .dataframe thead th {\n",
       "        text-align: right;\n",
       "    }\n",
       "</style>\n",
       "<table border=\"1\" class=\"dataframe\">\n",
       "  <thead>\n",
       "    <tr style=\"text-align: right;\">\n",
       "      <th></th>\n",
       "      <th>번호</th>\n",
       "      <th>제목</th>\n",
       "      <th>등록일</th>\n",
       "      <th>조회수</th>\n",
       "    </tr>\n",
       "  </thead>\n",
       "  <tbody>\n",
       "    <tr>\n",
       "      <th>0</th>\n",
       "      <td>1747</td>\n",
       "      <td>[5월1주 전국]전국-0.15%, 서울-0.02%, 수도권-0.14%</td>\n",
       "      <td>2023.05.04</td>\n",
       "      <td>1120</td>\n",
       "    </tr>\n",
       "    <tr>\n",
       "      <th>1</th>\n",
       "      <td>1746</td>\n",
       "      <td>[4월4주 전국]전국-0.26%, 서울-0.14%, 수도권-0.27%</td>\n",
       "      <td>2023.04.27</td>\n",
       "      <td>1401</td>\n",
       "    </tr>\n",
       "    <tr>\n",
       "      <th>...</th>\n",
       "      <td>...</td>\n",
       "      <td>...</td>\n",
       "      <td>...</td>\n",
       "      <td>...</td>\n",
       "    </tr>\n",
       "    <tr>\n",
       "      <th>18</th>\n",
       "      <td>1729</td>\n",
       "      <td>[12월5주 전국]전국-0.39%, 서울-0.33%, 수도권-0.41%</td>\n",
       "      <td>2023.01.02</td>\n",
       "      <td>1638</td>\n",
       "    </tr>\n",
       "    <tr>\n",
       "      <th>19</th>\n",
       "      <td>1728</td>\n",
       "      <td>[12월4주 전국]전국-0.35%, 서울-0.32%, 수도권-0.39%</td>\n",
       "      <td>2022.12.28</td>\n",
       "      <td>1653</td>\n",
       "    </tr>\n",
       "  </tbody>\n",
       "</table>\n",
       "</div>"
      ],
      "text/plain": [
       "      번호                                       제목         등록일   조회수\n",
       "0   1747   [5월1주 전국]전국-0.15%, 서울-0.02%, 수도권-0.14%  2023.05.04  1120\n",
       "1   1746   [4월4주 전국]전국-0.26%, 서울-0.14%, 수도권-0.27%  2023.04.27  1401\n",
       "..   ...                                      ...         ...   ...\n",
       "18  1729  [12월5주 전국]전국-0.39%, 서울-0.33%, 수도권-0.41%  2023.01.02  1638\n",
       "19  1728  [12월4주 전국]전국-0.35%, 서울-0.32%, 수도권-0.39%  2022.12.28  1653"
      ]
     },
     "metadata": {},
     "output_type": "display_data"
    }
   ],
   "source": [
    "import pandas as pd\n",
    "\n",
    "base_url = \"https://land.naver.com/news/trendReport.naver\"\n",
    "page_num = 1\n",
    "\n",
    "url = f\"{base_url}?page={page_num}\"\n",
    "dfs = pd.read_html(url)\n",
    "\n",
    "df = dfs[0] # 리스트의 첫 번째 항목에 동향 보고서 제목 데이터가 있음\n",
    "\n",
    "# 행과 열의 최대 표시 개수를 임시로 설정\n",
    "with pd.option_context('display.max_rows',4, 'display.max_columns',6): \n",
    "    pd.set_option(\"show_dimensions\", False) # 행과 열 개수 정보 숨기기\n",
    "    display(df)"
   ]
  },
  {
   "attachments": {},
   "cell_type": "markdown",
   "metadata": {},
   "source": [
    "[6장: 270페이지]"
   ]
  },
  {
   "cell_type": "code",
   "execution_count": 142,
   "metadata": {},
   "outputs": [],
   "source": [
    "import pandas as pd\n",
    "\n",
    "# 원본 DataFrame의 제목 열에 있는 문자열을 분리해 \n",
    "# 전국, 서울, 수도권의 매매가 변화율 열이 있는 DataFrame 반환하는 함수\n",
    "def split_title_to_rates(df_org):\n",
    "    df_new = df_org.copy()\n",
    "\n",
    "    df_temp = df_new['제목'].str.replace('%', '') # 제목 문자열에서 % 제거\n",
    "    df_temp = df_temp.str.replace('보합', '0')    # 제목 문자열에서 보합을 0으로 바꿈\n",
    "    df_temp = df_temp.str.replace('보합세', '0')  # 제목 문자열에서 보합세를 0으로 바꿈\n",
    "    \n",
    "    regions = ['전국', '서울', '수도권']    \n",
    "    for region in regions:\n",
    "        df_temp = df_temp.str.replace(region, '') # 문자열에서 전국, 서울, 수도권 제거\n",
    "\n",
    "    df_temp = df_temp.str.split(']', expand=True) # ]를 기준으로 열 분리\n",
    "    df_temp = df_temp[1].str.split(',', expand=True) # ,를 기준으로 열 분리\n",
    "    \n",
    "    df_temp = df_temp.astype(float)\n",
    "    \n",
    "    df_new[regions] = df_temp # 전국, 서울, 수도권 순서대로 DataFrame 데이터에 할당\n",
    "\n",
    "    return df_new[['등록일'] + regions + ['번호']] # DataFrame에서 필요한 열만 반환"
   ]
  },
  {
   "attachments": {},
   "cell_type": "markdown",
   "metadata": {},
   "source": [
    "[6장: 271페이지]"
   ]
  },
  {
   "cell_type": "code",
   "execution_count": 143,
   "metadata": {},
   "outputs": [
    {
     "data": {
      "text/html": [
       "<div>\n",
       "<style scoped>\n",
       "    .dataframe tbody tr th:only-of-type {\n",
       "        vertical-align: middle;\n",
       "    }\n",
       "\n",
       "    .dataframe tbody tr th {\n",
       "        vertical-align: top;\n",
       "    }\n",
       "\n",
       "    .dataframe thead th {\n",
       "        text-align: right;\n",
       "    }\n",
       "</style>\n",
       "<table border=\"1\" class=\"dataframe\">\n",
       "  <thead>\n",
       "    <tr style=\"text-align: right;\">\n",
       "      <th></th>\n",
       "      <th>등록일</th>\n",
       "      <th>전국</th>\n",
       "      <th>서울</th>\n",
       "      <th>수도권</th>\n",
       "      <th>번호</th>\n",
       "    </tr>\n",
       "  </thead>\n",
       "  <tbody>\n",
       "    <tr>\n",
       "      <th>0</th>\n",
       "      <td>2023.05.04</td>\n",
       "      <td>-0.15</td>\n",
       "      <td>-0.02</td>\n",
       "      <td>-0.14</td>\n",
       "      <td>1747</td>\n",
       "    </tr>\n",
       "    <tr>\n",
       "      <th>1</th>\n",
       "      <td>2023.04.27</td>\n",
       "      <td>-0.26</td>\n",
       "      <td>-0.14</td>\n",
       "      <td>-0.27</td>\n",
       "      <td>1746</td>\n",
       "    </tr>\n",
       "    <tr>\n",
       "      <th>2</th>\n",
       "      <td>2023.04.27</td>\n",
       "      <td>-0.25</td>\n",
       "      <td>-0.11</td>\n",
       "      <td>-0.22</td>\n",
       "      <td>1745</td>\n",
       "    </tr>\n",
       "    <tr>\n",
       "      <th>3</th>\n",
       "      <td>2023.04.20</td>\n",
       "      <td>-0.30</td>\n",
       "      <td>-0.30</td>\n",
       "      <td>-0.34</td>\n",
       "      <td>1744</td>\n",
       "    </tr>\n",
       "    <tr>\n",
       "      <th>4</th>\n",
       "      <td>2023.04.06</td>\n",
       "      <td>-0.34</td>\n",
       "      <td>-0.18</td>\n",
       "      <td>-0.37</td>\n",
       "      <td>1743</td>\n",
       "    </tr>\n",
       "  </tbody>\n",
       "</table>\n",
       "</div>"
      ],
      "text/plain": [
       "          등록일    전국    서울   수도권    번호\n",
       "0  2023.05.04 -0.15 -0.02 -0.14  1747\n",
       "1  2023.04.27 -0.26 -0.14 -0.27  1746\n",
       "2  2023.04.27 -0.25 -0.11 -0.22  1745\n",
       "3  2023.04.20 -0.30 -0.30 -0.34  1744\n",
       "4  2023.04.06 -0.34 -0.18 -0.37  1743"
      ]
     },
     "execution_count": 143,
     "metadata": {},
     "output_type": "execute_result"
    }
   ],
   "source": [
    "df_rate = split_title_to_rates(df) # split_title_to_rates() 함수 호출\n",
    "df_rate.head()                     # 앞의 일부만 출력"
   ]
  },
  {
   "cell_type": "code",
   "execution_count": 144,
   "metadata": {
    "scrolled": true
   },
   "outputs": [
    {
     "data": {
      "text/html": [
       "<div>\n",
       "<style scoped>\n",
       "    .dataframe tbody tr th:only-of-type {\n",
       "        vertical-align: middle;\n",
       "    }\n",
       "\n",
       "    .dataframe tbody tr th {\n",
       "        vertical-align: top;\n",
       "    }\n",
       "\n",
       "    .dataframe thead th {\n",
       "        text-align: right;\n",
       "    }\n",
       "</style>\n",
       "<table border=\"1\" class=\"dataframe\">\n",
       "  <thead>\n",
       "    <tr style=\"text-align: right;\">\n",
       "      <th></th>\n",
       "      <th>등록일</th>\n",
       "      <th>전국</th>\n",
       "      <th>서울</th>\n",
       "      <th>수도권</th>\n",
       "      <th>번호</th>\n",
       "    </tr>\n",
       "  </thead>\n",
       "  <tbody>\n",
       "    <tr>\n",
       "      <th>0</th>\n",
       "      <td>2020.04.20</td>\n",
       "      <td>0.13</td>\n",
       "      <td>0.03</td>\n",
       "      <td>0.11</td>\n",
       "      <td>1584</td>\n",
       "    </tr>\n",
       "    <tr>\n",
       "      <th>1</th>\n",
       "      <td>2020.04.23</td>\n",
       "      <td>0.41</td>\n",
       "      <td>0.24</td>\n",
       "      <td>0.41</td>\n",
       "      <td>1585</td>\n",
       "    </tr>\n",
       "    <tr>\n",
       "      <th>...</th>\n",
       "      <td>...</td>\n",
       "      <td>...</td>\n",
       "      <td>...</td>\n",
       "      <td>...</td>\n",
       "      <td>...</td>\n",
       "    </tr>\n",
       "    <tr>\n",
       "      <th>158</th>\n",
       "      <td>2023.04.27</td>\n",
       "      <td>-0.26</td>\n",
       "      <td>-0.14</td>\n",
       "      <td>-0.27</td>\n",
       "      <td>1746</td>\n",
       "    </tr>\n",
       "    <tr>\n",
       "      <th>159</th>\n",
       "      <td>2023.05.04</td>\n",
       "      <td>-0.15</td>\n",
       "      <td>-0.02</td>\n",
       "      <td>-0.14</td>\n",
       "      <td>1747</td>\n",
       "    </tr>\n",
       "  </tbody>\n",
       "</table>\n",
       "</div>"
      ],
      "text/plain": [
       "            등록일    전국    서울   수도권    번호\n",
       "0    2020.04.20  0.13  0.03  0.11  1584\n",
       "1    2020.04.23  0.41  0.24  0.41  1585\n",
       "..          ...   ...   ...   ...   ...\n",
       "158  2023.04.27 -0.26 -0.14 -0.27  1746\n",
       "159  2023.05.04 -0.15 -0.02 -0.14  1747"
      ]
     },
     "metadata": {},
     "output_type": "display_data"
    }
   ],
   "source": [
    "import pandas as pd\n",
    "\n",
    "base_url = \"https://land.naver.com/news/trendReport.naver\"\n",
    "\n",
    "df_rates = pd.DataFrame() # 전체 데이터가 담길 DataFrame 데이터\n",
    "last_page_num = 8 # 가져올 데이터의 마지막 페이지 \n",
    "\n",
    "for page_num in range(1, last_page_num+1):\n",
    "\n",
    "    url = f\"{base_url}?page={page_num}\"\n",
    "    dfs = pd.read_html(url)\n",
    "\n",
    "    df_page = dfs[0] # 리스트의 첫 번째 항목에 동향 보고서 제목 데이터가 있음\n",
    "    df_rate = split_title_to_rates(df_page)\n",
    "    \n",
    "    # 세로 방향으로 연결 (기존 index를 무시)\n",
    "    df_rates = pd.concat([df_rates, df_rate], ignore_index=True) \n",
    "\n",
    "# 최신 데이터와 과거 데이터의 순서를 바꿈. index도 초기화함  \n",
    "df_rates = df_rates[::-1].reset_index(drop=True)\n",
    "df_rates.head() # 앞의 일부만 출력\n",
    "\n",
    "# 행과 열의 최대 표시 개수를 임시로 설정\n",
    "with pd.option_context('display.max_rows',4, 'display.max_columns',6): \n",
    "    pd.set_option(\"show_dimensions\", False) # 행과 열 개수 정보 숨기기\n",
    "    display(df_rates)"
   ]
  },
  {
   "attachments": {},
   "cell_type": "markdown",
   "metadata": {},
   "source": [
    "[6장: 273페이지]"
   ]
  },
  {
   "cell_type": "code",
   "execution_count": 145,
   "metadata": {},
   "outputs": [],
   "source": [
    "import matplotlib as mpl\n",
    "\n",
    "mpl.rcParams['font.family'] = 'Malgun Gothic' # '맑은 고딕'으로 폰트 설정 \n",
    "mpl.rcParams['axes.unicode_minus'] = False # 마이너스(-) 폰트 깨짐 방지"
   ]
  },
  {
   "cell_type": "code",
   "execution_count": 146,
   "metadata": {},
   "outputs": [],
   "source": [
    "%matplotlib inline"
   ]
  },
  {
   "cell_type": "code",
   "execution_count": 147,
   "metadata": {},
   "outputs": [
    {
     "data": {
      "image/png": "[encoded data removed]",
      "text/plain": [
       "<Figure size 1000x800 with 3 Axes>"
      ]
     },
     "metadata": {},
     "output_type": "display_data"
    }
   ],
   "source": [
    "import pandas as pd\n",
    "import matplotlib.pyplot as plt\n",
    "\n",
    "df_rates.tail(40).plot(x='등록일', y=['전국', '서울', '수도권'], \n",
    "                       figsize=(10, 8), subplots=True, layout=(3,1),\n",
    "                       style = '-o', grid=True) # 그래프 그리기\n",
    "plt.show()"
   ]
  },
  {
   "attachments": {},
   "cell_type": "markdown",
   "metadata": {},
   "source": [
    "### 6.2.5 웹 페이지에서 이미지 가져오기"
   ]
  },
  {
   "attachments": {},
   "cell_type": "markdown",
   "metadata": {},
   "source": [
    "[6장: 275페이지]"
   ]
  },
  {
   "cell_type": "code",
   "execution_count": 148,
   "metadata": {},
   "outputs": [
    {
     "data": {
      "text/plain": [
       "<Response [200]>"
      ]
     },
     "execution_count": 148,
     "metadata": {},
     "output_type": "execute_result"
    }
   ],
   "source": [
    "import requests  \n",
    "\n",
    "image_url = 'https://www.python.org/static/img/python-logo.png' # 이미지 링크(주소)\n",
    "r = requests.get(image_url) # 이미지 주소의 HTTP 응답 객체\n",
    "r"
   ]
  },
  {
   "attachments": {},
   "cell_type": "markdown",
   "metadata": {},
   "source": [
    "[6장: 276페이지]"
   ]
  },
  {
   "cell_type": "code",
   "execution_count": 149,
   "metadata": {},
   "outputs": [
    {
     "data": {
      "text/plain": [
       "'python-logo.png'"
      ]
     },
     "execution_count": 149,
     "metadata": {},
     "output_type": "execute_result"
    }
   ],
   "source": [
    "file_name = image_url.split(\"/\")[-1]\n",
    "file_name"
   ]
  },
  {
   "cell_type": "code",
   "execution_count": 150,
   "metadata": {},
   "outputs": [
    {
     "name": "stdout",
     "output_type": "stream",
     "text": [
      "생성한 폴더: C:/Users/shjo/Desktop/전공/Python-WebScraping-1/data/ch06/download\n"
     ]
    }
   ],
   "source": [
    "from pathlib import Path\n",
    "\n",
    "download_folder = 'C:/Users/shjo/Desktop/전공/Python-WebScraping-1/data/ch06/download' \n",
    "image_dir_path = Path(download_folder)\n",
    "\n",
    "if not image_dir_path.exists():\n",
    "    image_dir_path.mkdir(parents=True, exist_ok=True)\n",
    "    \n",
    "print(\"생성한 폴더:\", download_folder)"
   ]
  },
  {
   "attachments": {},
   "cell_type": "markdown",
   "metadata": {},
   "source": [
    "[6장: 277페이지]"
   ]
  },
  {
   "cell_type": "code",
   "execution_count": 151,
   "metadata": {},
   "outputs": [
    {
     "data": {
      "text/plain": [
       "WindowsPath('C:/Users/shjo/Desktop/전공/Python-WebScraping-1/data/ch06/download/python-logo.png')"
      ]
     },
     "execution_count": 151,
     "metadata": {},
     "output_type": "execute_result"
    }
   ],
   "source": [
    "image_path = image_dir_path/file_name\n",
    "image_path"
   ]
  },
  {
   "attachments": {},
   "cell_type": "markdown",
   "metadata": {},
   "source": [
    "[6장: 278페이지]"
   ]
  },
  {
   "cell_type": "code",
   "execution_count": 152,
   "metadata": {},
   "outputs": [],
   "source": [
    "r = requests.get(image_url) # 이미지 주소의 HTTP 응답 객체\n",
    "image_data = r.content # 응답 객체(r)을 이용해 받은 이미지 데이터\n",
    "\n",
    "with open(image_path, 'wb') as f:\n",
    "    f.write(image_data)"
   ]
  },
  {
   "cell_type": "code",
   "execution_count": 153,
   "metadata": {},
   "outputs": [
    {
     "name": "stdout",
     "output_type": "stream",
     "text": [
      "- 이미지를 다운로드했습니다\n"
     ]
    }
   ],
   "source": [
    "import requests \n",
    "from pathlib import Path\n",
    "\n",
    "# Unsplash의 사진 이미지 주소\n",
    "image_url = \"https://images.unsplash.com/photo-1645956734658-8b6e62e7d35a\"\n",
    "  \n",
    "file_name = image_url.split(\"/\")[-1] + \".jpg\" # 파일 이름 생성(확장자 추가)\n",
    "download_folder = 'C:/Users/shjo/Desktop/전공/Python-WebScraping-1/data/ch06/download' # 다운로드 폴더 지정\n",
    "\n",
    "# 지정한 다운로드 폴더를 생성하지 않았으면 생성\n",
    "image_dir_path = Path(download_folder)\n",
    "if not image_dir_path.exists():\n",
    "    image_dir_path.mkdir(parents=True, exist_ok=True)\n",
    "    \n",
    "image_path = image_dir_path/file_name # 전체 경로(폴더 + 파일명)\n",
    "\n",
    "r = requests.get(image_url, stream=True)\n",
    "if r.status_code == 200:  \n",
    "    with open(image_path, 'wb') as f:\n",
    "        for chunk in r.iter_content(1024):\n",
    "            f.write(chunk)\n",
    "    print(\"- 이미지를 다운로드했습니다\")\n",
    "else:\n",
    "    print(\"- 지정한 이미지 링크의 응답이 없습니다.\")"
   ]
  },
  {
   "attachments": {},
   "cell_type": "markdown",
   "metadata": {},
   "source": [
    "## 6.3 정리"
   ]
  }
 ],
 "metadata": {
  "anaconda-cloud": {},
  "kernelspec": {
   "display_name": "Python 3 (ipykernel)",
   "language": "python",
   "name": "python3"
  },
  "language_info": {
   "codemirror_mode": {
    "name": "ipython",
    "version": 3
   },
   "file_extension": ".py",
   "mimetype": "text/x-python",
   "name": "python",
   "nbconvert_exporter": "python",
   "pygments_lexer": "ipython3",
   "version": "3.9.12"
  },
  "latex_envs": {
   "LaTeX_envs_menu_present": true,
   "autoclose": false,
   "autocomplete": true,
   "bibliofile": "biblio.bib",
   "cite_by": "apalike",
   "current_citInitial": 1,
   "eqLabelWithNumbers": true,
   "eqNumInitial": 1,
   "hotkeys": {
    "equation": "Ctrl-E",
    "itemize": "Ctrl-I"
   },
   "labels_anchors": false,
   "latex_user_defs": false,
   "report_style_numbering": false,
   "user_envs_cfg": false
  },
  "nav_menu": {},
  "toc": {
   "base_numbering": "6",
   "nav_menu": {
    "height": "400px",
    "width": "252px"
   },
   "number_sections": false,
   "sideBar": true,
   "skip_h1_title": false,
   "title_cell": "Table of Contents",
   "title_sidebar": "Contents",
   "toc_cell": false,
   "toc_position": {
    "height": "545px",
    "left": "46px",
    "right": "1154px",
    "top": "142.133px",
    "width": "271px"
   },
   "toc_section_display": true,
   "toc_window_display": false
  },
  "toc_position": {
   "height": "503px",
   "left": "0px",
   "right": "952.167px",
   "top": "107px",
   "width": "300px"
  }
 },
 "nbformat": 4,
 "nbformat_minor": 2
}
