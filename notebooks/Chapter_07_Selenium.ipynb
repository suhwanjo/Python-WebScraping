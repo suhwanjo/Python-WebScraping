{
 "cells": [
  {
   "attachments": {},
   "cell_type": "markdown",
   "metadata": {},
   "source": [
    "# 7장 셀레니움을 이용한 웹 스크레이핑"
   ]
  },
  {
   "attachments": {},
   "cell_type": "markdown",
   "metadata": {},
   "source": [
    "## 7.1 셀레니움 소개 및 설치"
   ]
  },
  {
   "attachments": {},
   "cell_type": "markdown",
   "metadata": {},
   "source": [
    "## 7.2 셀레니움으로 웹 브라우저 제어"
   ]
  },
  {
   "attachments": {},
   "cell_type": "markdown",
   "metadata": {},
   "source": [
    "### 7.2.1 웹 사이트 접속"
   ]
  },
  {
   "attachments": {},
   "cell_type": "markdown",
   "metadata": {},
   "source": [
    "[7장: 285페이지]"
   ]
  },
  {
   "cell_type": "code",
   "execution_count": 43,
   "metadata": {},
   "outputs": [
    {
     "name": "stdout",
     "output_type": "stream",
     "text": [
      "- 접속한 웹 사이트의 제목: Google\n",
      "- 접속한 웹 사이트의 URL: https://www.google.com/\n"
     ]
    }
   ],
   "source": [
    "from selenium.webdriver import Chrome\n",
    "from webdriver_manager.chrome import ChromeDriverManager\n",
    "\n",
    "driver = Chrome(ChromeDriverManager().install())                   # 크롬 드라이버 객체 생성\n",
    "\n",
    "driver.set_window_size(800, 600)    # 웹 브라우저의 창 크기 설정\n",
    "# driver.maximize_window()        \n",
    "\n",
    "driver.get(\"https://www.google.com\") # 웹 브라우저를 실행해 지정한 URL에 접속\n",
    "\n",
    "print(\"- 접속한 웹 사이트의 제목:\", driver.title)       # 접속한 웹 사이트의 제목 출력\n",
    "print(\"- 접속한 웹 사이트의 URL:\", driver.current_url)  # 접속한 웹 사이트의 URL 출력"
   ]
  },
  {
   "attachments": {},
   "cell_type": "markdown",
   "metadata": {},
   "source": [
    "### 7.2.2 HTML 코드에서 요소 찾기"
   ]
  },
  {
   "attachments": {},
   "cell_type": "markdown",
   "metadata": {},
   "source": [
    "### 7.2.3 검색창에 문자열 입력하기"
   ]
  },
  {
   "attachments": {},
   "cell_type": "markdown",
   "metadata": {},
   "source": [
    "[7장: 289페이지]"
   ]
  },
  {
   "cell_type": "code",
   "execution_count": 6,
   "metadata": {},
   "outputs": [
    {
     "name": "stdout",
     "output_type": "stream",
     "text": [
      "- 접속한 웹 사이트의 제목: python - Google 검색\n",
      "- 접속한 웹 사이트의 URL: https://www.google.com/search?q=python&source=hp&ei=XbpbZIWQMMHehwP9z7eACA&iflsig=AOEireoAAAAAZFvIbVhfDgY5e3-ks416lAJDtBfGURDI\n"
     ]
    }
   ],
   "source": [
    "from selenium.webdriver import Chrome\n",
    "from selenium.webdriver.common.by import By\n",
    "\n",
    "      \n",
    "driver.set_window_size(800, 800) # 웹 브라우저의 창 크기 설정      \n",
    "\n",
    "url = \"https://www.google.com\"   # URL 지정\n",
    "driver.get(url)                  # 웹 브라우저를 실행해 지정한 URL에 접속\n",
    "\n",
    "query = \"python\"\n",
    "input_element = driver.find_element(By.NAME, \"q\") # 검색어를 입력할 수 있는 검색창 찾기\n",
    "input_element.send_keys(query)                    # 검색창에 검색어 입력 \n",
    "input_element.submit()                            # 검색 결과 요청\n",
    "\n",
    "print(\"- 접속한 웹 사이트의 제목:\", driver.title) # 접속한 웹 사이트의 제목 출력\n",
    "print(\"- 접속한 웹 사이트의 URL:\", driver.current_url) # 접속한 웹 사이트의 URL 출력"
   ]
  },
  {
   "attachments": {},
   "cell_type": "markdown",
   "metadata": {},
   "source": [
    "[7장: 291페이지]"
   ]
  },
  {
   "cell_type": "code",
   "execution_count": 7,
   "metadata": {},
   "outputs": [
    {
     "name": "stdout",
     "output_type": "stream",
     "text": [
      "- 접속한 웹 사이트의 제목: 파이썬 : 네이버 통합검색\n",
      "- 접속한 웹 사이트의 URL: https://search.naver.com/search.naver?where=nexearch&sm=top_hty&fbm=0&ie=utf8&query=%ED%8C%8C%EC%9D%B4%EC%8D%AC\n"
     ]
    }
   ],
   "source": [
    "from selenium.webdriver import Chrome\n",
    "\n",
    "\n",
    "driver.set_window_size(800, 800) # 웹 브라우저의 창 크기 설정      \n",
    "\n",
    "url = \"https://www.naver.com\"    # URL 지정\n",
    "driver.get(url)  # 웹 브라우저를 실행해 지정한 URL에 접속\n",
    "\n",
    "query = \"파이썬\"\n",
    "\n",
    "# 검색어를 입력할 수 있는 검색창의 찾기\n",
    "input_element = driver.find_element(By.NAME, \"query\")   \n",
    "input_element.send_keys(query)   # 검색창에 검색어 입력 \n",
    "input_element.submit()           # 검색 결과 요청\n",
    "\n",
    "print(\"- 접속한 웹 사이트의 제목:\", driver.title) # 접속한 URL의 제목 출력\n",
    "print(\"- 접속한 웹 사이트의 URL:\", driver.current_url)  # 접속한 URL 출력"
   ]
  },
  {
   "attachments": {},
   "cell_type": "markdown",
   "metadata": {},
   "source": [
    "### 7.2.4 웹 사이트 로그인 자동화"
   ]
  },
  {
   "attachments": {},
   "cell_type": "markdown",
   "metadata": {},
   "source": [
    "[7장: 295페이지]"
   ]
  },
  {
   "cell_type": "code",
   "execution_count": null,
   "metadata": {
    "scrolled": true
   },
   "outputs": [],
   "source": [
    "from selenium.webdriver import Chrome\n",
    "from selenium.webdriver.common.by import By\n",
    "import time\n",
    "\n",
    "  \n",
    "driver.set_window_size(800, 900)   # 웹 브라우저의 창 크기 설정\n",
    "\n",
    "url = \"https://accounts.kakao.com\" # 카카오 계정 로그인 URL 지정\n",
    "driver.get(url)                    # 웹 브라우저를 실행해 지정한 URL에 접속\n",
    "\n",
    "my_id = \"kakao_id\"                 # 자신의 아이디 입력\n",
    "my_pw = \"kakao_password\"           # 자신의 패스워드 입력\n",
    "\n",
    "# 아이디 입력\n",
    "# user_id = driver.find_element(By.ID, \"id_email_2\")    # id 속성으로 아이디(ID) 입력창 찾기 \n",
    "user_id = driver.find_element(By.NAME, \"email\")         # name 속성으로 아이디(ID) 입력창 찾기\n",
    "user_id.send_keys(my_id)                                # 아이디 전송\n",
    "\n",
    "# 패스워드 입력\n",
    "# user_pw = driver.find_element(By.ID, \"id_password_3\") # id 속성으로 패스워드(비밀번호) 입력창 찾기 \n",
    "user_pw = driver.find_element(By.NAME, \"password\")      # name 속성으로 패스워드(비밀번호) 입력창 찾기\n",
    "user_pw.send_keys(my_pw)                                # 패스워드 전송\n",
    "time.sleep(1)\n",
    "\n",
    "# 로그인 버튼 클릭하기 \n",
    "xpath = '//*[@id=\"login-form\"]/fieldset/div[8]/button[1]' # XPath\n",
    "login_button = driver.find_element(By.XPATH, xpath)       # XPath로 로그인 버튼 찾기\n",
    "login_button.click()                                      # 버튼 클릭\n",
    "    \n",
    "print(\"- 접속한 웹 사이트의 제목:\", driver.title)       # 접속한 URL의 제목 출력\n",
    "print(\"- 접속한 웹 사이트의 URL:\", driver.current_url)  # 접속한 URL 출력"
   ]
  },
  {
   "attachments": {},
   "cell_type": "markdown",
   "metadata": {},
   "source": [
    "[7장: 297페이지]"
   ]
  },
  {
   "cell_type": "code",
   "execution_count": null,
   "metadata": {},
   "outputs": [],
   "source": [
    "from selenium.webdriver import Chrome\n",
    "from selenium.webdriver.common.by import By\n",
    "import time\n",
    "\n",
    "driver = Chrome()                # 크롬 드라이버 객체 생성\n",
    "driver.set_window_size(800, 900) # 웹 브라우저의 창 크기 설정\n",
    "\n",
    "url = \"https://nid.naver.com/\"   # 네이버 계정 로그인 URL 지정\n",
    "driver.get(url)                  # 웹 브라우저를 실행해 지정한 URL에 접속\n",
    "\n",
    "my_id = \"naver_id\"               # 자신의 아이디 입력\n",
    "my_pw = \"naver_password\"         # 자신의 패스워드 입력\n",
    "\n",
    "# 아이디 입력\n",
    "script_id = f\"document.getElementsByName('id')[0].value='{my_id}'\"\n",
    "driver.execute_script(script_id)  # 자바스크립트로 아이디 입력\n",
    "\n",
    "# 패스워드 입력\n",
    "script_pw = f\"document.getElementsByName('pw')[0].value='{my_pw}'\"\n",
    "driver.execute_script(script_pw)  # 자바스크립트로 패스워드 입력\n",
    "\n",
    "time.sleep(1)\n",
    "\n",
    "# 로그인 버튼 클릭하기 \n",
    "xpath = '//*[@id=\"log.login\"]'                     # XPath\n",
    "login_button = driver.find_element(By.XPATH, xpath)# XPath로 로그인 버튼 찾기\n",
    "login_button.click()                               # 버튼 클릭\n",
    "    \n",
    "print(\"- 접속한 웹 사이트의 제목:\", driver.title)  # 접속한 URL의 제목 출력\n",
    "print(\"- 접속한 웹 사이트의 URL:\", driver.current_url) # 접속한 URL 출력"
   ]
  },
  {
   "attachments": {},
   "cell_type": "markdown",
   "metadata": {},
   "source": [
    "### 7.2.5 웹 브라우저 스크롤"
   ]
  },
  {
   "attachments": {},
   "cell_type": "markdown",
   "metadata": {},
   "source": [
    "[7장: 299페이지]"
   ]
  },
  {
   "cell_type": "code",
   "execution_count": 8,
   "metadata": {},
   "outputs": [
    {
     "name": "stdout",
     "output_type": "stream",
     "text": [
      "- 웹 사이트 문서 높이: 2195\n"
     ]
    }
   ],
   "source": [
    "from selenium.webdriver import Chrome\n",
    "from selenium.webdriver.common.by import By\n",
    "import time\n",
    "\n",
    "\n",
    "driver.set_window_size(1000, 1000) # 웹 브라우저의 창 크기 설정\n",
    "\n",
    "url = \"https://www.google.com\"     # URL 지정\n",
    "driver.get(url)                    # 웹 브라우저를 실행해 지정한 URL에 접속\n",
    "\n",
    "input_element = driver.find_element(By.NAME, \"q\") # 검색창 찾기\n",
    "input_element.clear()              # 검색창 내용 모두 지우기\n",
    "query = \"python\"\n",
    "input_element.send_keys(query)     # 검색창에 검색어 입력\n",
    "input_element.submit()             # 검색 결과 요청\n",
    "\n",
    "# 웹 사이트 문서 높이 가져오기\n",
    "scroll_height = driver.execute_script(\"return document.body.scrollHeight\")\n",
    "print(\"- 웹 사이트 문서 높이:\", scroll_height)\n",
    "\n",
    "y = 0         # Y축 좌표의 초깃값\n",
    "y_step = 200  # Y축 아래로 이동하는 단계\n",
    "\n",
    "while (True):\n",
    "    y = y + y_step\n",
    "    script =  \"window.scrollTo(0,{0})\".format(y)\n",
    "    driver.execute_script(script)   # 스크립트 실행\n",
    "    time.sleep(1)                   # 데이터를 받아올 때까지 기다림\n",
    "    \n",
    "    # 수식 스크롤 위치가 문서 끝보다 크거나 같으면 while 문 빠져나가기\n",
    "    if (y >= scroll_height):\n",
    "        break"
   ]
  },
  {
   "attachments": {},
   "cell_type": "markdown",
   "metadata": {},
   "source": [
    "### 7.2.6 웹 브라우저 내용을 이미지 파일로 저장"
   ]
  },
  {
   "attachments": {},
   "cell_type": "markdown",
   "metadata": {},
   "source": [
    "[7장: 300페이지]"
   ]
  },
  {
   "cell_type": "code",
   "execution_count": 9,
   "metadata": {},
   "outputs": [
    {
     "name": "stdout",
     "output_type": "stream",
     "text": [
      "- 생성한 이미지 파일: C:/myPyScraping/data/ch07/환율정보.png\n"
     ]
    }
   ],
   "source": [
    "from selenium.webdriver import Chrome\n",
    "from selenium.webdriver.common.by import By\n",
    "import time\n",
    "\n",
    "driver.set_window_size(800, 780) # 웹 브라우저의 창 크기 설정\n",
    "\n",
    "url = \"https://www.google.com\"   # URL 지정\n",
    "driver.get(url)                  # 웹 브라우저를 실행해 지정한 URL에 접속\n",
    "\n",
    "input_element = driver.find_element(By.NAME, \"q\") # 검색창 찾기\n",
    "input_element.clear()                   # 검색창 내용 모두 지우기\n",
    "query = \"환율\"\n",
    "input_element.send_keys(query)         # 검색창에 검색어 입력\n",
    "input_element.submit()                 # 검색 결과 요청\n",
    "\n",
    "folder = \"C:/myPyScraping/data/ch07/\" # 폴더 지정\n",
    "image_file = folder + \"환율정보.png\"  # 생성할 이미지 파일 이름 지정\n",
    "driver.save_screenshot(image_file)    # 웹 브라우저 내용을 캡처해 이미지 파일로 저장\n",
    "\n",
    "time.sleep(3) \n",
    "driver.quit()  # 웹 브라우저를 종료함\n",
    "\n",
    "print(\"- 생성한 이미지 파일:\", image_file) # 접속한 URL의 제목 출력"
   ]
  },
  {
   "attachments": {},
   "cell_type": "markdown",
   "metadata": {},
   "source": [
    "### 7.2.7 헤드리스(Headless) 웹 브라우저 이용하기"
   ]
  },
  {
   "attachments": {},
   "cell_type": "markdown",
   "metadata": {},
   "source": [
    "[7장: 303페이지]"
   ]
  },
  {
   "attachments": {},
   "cell_type": "markdown",
   "metadata": {},
   "source": [
    "## 7.3 동적 웹 페이지에서 데이터 가져오기"
   ]
  },
  {
   "attachments": {},
   "cell_type": "markdown",
   "metadata": {},
   "source": [
    "### 7.3.1 커피 전문점 음료 메뉴 가져오기"
   ]
  },
  {
   "attachments": {},
   "cell_type": "markdown",
   "metadata": {},
   "source": [
    "[7장: 306페이지]"
   ]
  },
  {
   "cell_type": "code",
   "execution_count": 13,
   "metadata": {},
   "outputs": [
    {
     "data": {
      "text/plain": [
       "[]"
      ]
     },
     "execution_count": 13,
     "metadata": {},
     "output_type": "execute_result"
    }
   ],
   "source": [
    "import requests  \n",
    "from bs4 import BeautifulSoup \n",
    "\n",
    "url = \"https://www.starbucks.co.kr/menu/drink_list.do\"\n",
    "\n",
    "html = requests.get(url).text\n",
    "soup = BeautifulSoup(html, \"lxml\")\n",
    "\n",
    "# 요소 검사를 수행한 결과의 상위 태그와 속성을 이용\n",
    "products = soup.select('li.menuDataSet dl dd') \n",
    "products"
   ]
  },
  {
   "attachments": {},
   "cell_type": "markdown",
   "metadata": {},
   "source": [
    "[7장: 307페이지]"
   ]
  },
  {
   "cell_type": "code",
   "execution_count": 14,
   "metadata": {
    "scrolled": false
   },
   "outputs": [
    {
     "data": {
      "text/plain": [
       "[<dd>\n",
       " <ul class=\"product_cold_brew\">\n",
       " </ul>\n",
       " </dd>,\n",
       " <dd>\n",
       " <ul class=\"product_brewed\">\n",
       " </ul>\n",
       " </dd>,\n",
       " <dd>\n",
       " <ul class=\"product_espresso\">\n",
       " </ul>\n",
       " </dd>]"
      ]
     },
     "execution_count": 14,
     "metadata": {},
     "output_type": "execute_result"
    }
   ],
   "source": [
    "products = soup.select('div.product_list dl dd')\n",
    "products[0:3]"
   ]
  },
  {
   "attachments": {},
   "cell_type": "markdown",
   "metadata": {},
   "source": [
    "[7장: 308페이지]"
   ]
  },
  {
   "cell_type": "code",
   "execution_count": 17,
   "metadata": {},
   "outputs": [
    {
     "name": "stdout",
     "output_type": "stream",
     "text": [
      "- 접속한 웹 사이트의 제목: 음료 | Starbucks Korea\n",
      "- 접속한 웹 사이트의 URL: https://www.starbucks.co.kr/menu/drink_list.do\n"
     ]
    }
   ],
   "source": [
    "from selenium.webdriver import Chrome\n",
    "from bs4 import BeautifulSoup \n",
    "\n",
    "#driver = Chrome() # 옵션을 지정해 크롬 드라이버의 객체 생성\n",
    "\n",
    "url = \"https://www.starbucks.co.kr/menu/drink_list.do\" # URL 지정\n",
    "driver.get(url)                    # 웹 브라우저를 실행해 지정한 URL에 접속\n",
    "driver.implicitly_wait(3)          # 웹 사이트의 내용을 받아오기까지 기다림\n",
    "\n",
    "html = driver.page_source          # 접속 후에 해당 page의 HTML 코드를 가져옴\n",
    "soup = BeautifulSoup(html, 'lxml') # HTML 코드를 파싱함\n",
    "\n",
    "print(\"- 접속한 웹 사이트의 제목:\", driver.title) # 접속한 웹 사이트의 제목 출력\n",
    "print(\"- 접속한 웹 사이트의 URL:\", driver.current_url) # 접속한 웹 사이트의 URL 출력"
   ]
  },
  {
   "cell_type": "code",
   "execution_count": 18,
   "metadata": {},
   "outputs": [
    {
     "data": {
      "text/plain": [
       "<dl> <dt> <a class=\"goDrinkView\" href=\"javascript:void(0)\" prod=\"9200000002407\"><img alt=\"리저브 나이트로\" src=\"https://image.istarbucks.co.kr/upload/store/skuimg/2021/02/[9200000002407]_20210225095106743.jpg\"/></a> <ul> <li><img alt=\"NEW\" src=\"//image.istarbucks.co.kr/common/img/menu/mark01.png\"/></li> </ul> </dt> <dd>리저브 나이트로</dd> </dl>"
      ]
     },
     "execution_count": 18,
     "metadata": {},
     "output_type": "execute_result"
    }
   ],
   "source": [
    "drink_products = soup.select('div.product_list dl dd ul li.menuDataSet dl')\n",
    "drink_products[0] # 첫 번째 음료 메뉴의 요소 출력"
   ]
  },
  {
   "attachments": {},
   "cell_type": "markdown",
   "metadata": {},
   "source": [
    "[7장: 309페이지]"
   ]
  },
  {
   "cell_type": "code",
   "execution_count": 19,
   "metadata": {},
   "outputs": [
    {
     "name": "stdout",
     "output_type": "stream",
     "text": [
      "<dl>\n",
      " <dt>\n",
      "  <a class=\"goDrinkView\" href=\"javascript:void(0)\" prod=\"9200000002407\">\n",
      "   <img alt=\"리저브 나이트로\" src=\"https://image.istarbucks.co.kr/upload/store/skuimg/2021/02/[9200000002407]_20210225095106743.jpg\"/>\n",
      "  </a>\n",
      "  <ul>\n",
      "   <li>\n",
      "    <img alt=\"NEW\" src=\"//image.istarbucks.co.kr/common/img/menu/mark01.png\"/>\n",
      "   </li>\n",
      "  </ul>\n",
      " </dt>\n",
      " <dd>\n",
      "  리저브 나이트로\n",
      " </dd>\n",
      "</dl>\n",
      "\n"
     ]
    }
   ],
   "source": [
    "print(drink_products[0].prettify())"
   ]
  },
  {
   "cell_type": "code",
   "execution_count": 20,
   "metadata": {},
   "outputs": [
    {
     "data": {
      "text/plain": [
       "'리저브 나이트로'"
      ]
     },
     "execution_count": 20,
     "metadata": {},
     "output_type": "execute_result"
    }
   ],
   "source": [
    "drink_menu_name = drink_products[0].select_one('dd').get_text()\n",
    "drink_menu_name"
   ]
  },
  {
   "attachments": {},
   "cell_type": "markdown",
   "metadata": {},
   "source": [
    "[7장: 310페이지]"
   ]
  },
  {
   "cell_type": "code",
   "execution_count": 21,
   "metadata": {},
   "outputs": [
    {
     "data": {
      "text/plain": [
       "'https://image.istarbucks.co.kr/upload/store/skuimg/2021/02/[9200000002407]_20210225095106743.jpg'"
      ]
     },
     "execution_count": 21,
     "metadata": {},
     "output_type": "execute_result"
    }
   ],
   "source": [
    "drink_menu_photo_link = drink_products[0].select_one('a img')['src']\n",
    "drink_menu_photo_link"
   ]
  },
  {
   "cell_type": "code",
   "execution_count": 22,
   "metadata": {},
   "outputs": [
    {
     "data": {
      "text/plain": [
       "[('리저브 나이트로',\n",
       "  'https://image.istarbucks.co.kr/upload/store/skuimg/2021/02/[9200000002407]_20210225095106743.jpg'),\n",
       " ('나이트로 바닐라 크림',\n",
       "  'https://image.istarbucks.co.kr/upload/store/skuimg/2021/04/[9200000002487]_20210426091745467.jpg'),\n",
       " ('나이트로 콜드 브루',\n",
       "  'https://image.istarbucks.co.kr/upload/store/skuimg/2021/04/[9200000000479]_20210426091843897.jpg'),\n",
       " ('돌체 콜드 브루',\n",
       "  'https://image.istarbucks.co.kr/upload/store/skuimg/2021/04/[9200000002081]_20210415133656839.jpg')]"
      ]
     },
     "execution_count": 22,
     "metadata": {},
     "output_type": "execute_result"
    }
   ],
   "source": [
    "from selenium.webdriver.chrome.options import Options\n",
    "from selenium.webdriver import Chrome\n",
    "from bs4 import BeautifulSoup \n",
    "import pandas as pd\n",
    "\n",
    "options = Options()\n",
    "options.headless = True # 헤드리스 모드로 지정해 크롬을 GUI 없이 수행\n",
    "\n",
    "#driver = Chrome(options=options) # 옵션을 지정해 크롬 드라이버의 객체 생성\n",
    "\n",
    "url = \"https://www.starbucks.co.kr/menu/drink_list.do\"  # URL 지정\n",
    "driver.get(url)              # 웹 브라우저를 실행해 지정한 URL에 접속\n",
    "driver.implicitly_wait(3)    # 웹 사이트의 내용을 받아오기까지 기다림\n",
    "\n",
    "html = driver.page_source    # 접속 후에 해당 page의 HTML 코드를 가져옴\n",
    "soup = BeautifulSoup(html, 'lxml') # HTML 코드 파싱\n",
    "\n",
    "drink_products = soup.select('div.product_list dl dd ul li.menuDataSet dl')\n",
    "driver.quit() # 웹 브라우저를 종료함\n",
    "\n",
    "drink_menu_name_photo_links = [] \n",
    "for drink_product in drink_products:\n",
    "    menu_name = drink_product.select_one('dd').get_text()\n",
    "    menu_photo_link = drink_product.select_one('a img')['src']\n",
    "    drink_menu_name_photo_links.append((menu_name, menu_photo_link))\n",
    "\n",
    "drink_menu_name_photo_links[0:4]"
   ]
  },
  {
   "attachments": {},
   "cell_type": "markdown",
   "metadata": {},
   "source": [
    "[7장: 311페이지]"
   ]
  },
  {
   "cell_type": "code",
   "execution_count": 23,
   "metadata": {},
   "outputs": [
    {
     "data": {
      "text/plain": [
       "147"
      ]
     },
     "execution_count": 23,
     "metadata": {},
     "output_type": "execute_result"
    }
   ],
   "source": [
    "len(drink_menu_name_photo_links) # 스타벅스 음료 메뉴의 개수"
   ]
  },
  {
   "cell_type": "code",
   "execution_count": 24,
   "metadata": {},
   "outputs": [
    {
     "data": {
      "text/html": [
       "<div>\n",
       "<style scoped>\n",
       "    .dataframe tbody tr th:only-of-type {\n",
       "        vertical-align: middle;\n",
       "    }\n",
       "\n",
       "    .dataframe tbody tr th {\n",
       "        vertical-align: top;\n",
       "    }\n",
       "\n",
       "    .dataframe thead th {\n",
       "        text-align: right;\n",
       "    }\n",
       "</style>\n",
       "<table border=\"1\" class=\"dataframe\">\n",
       "  <thead>\n",
       "    <tr style=\"text-align: right;\">\n",
       "      <th></th>\n",
       "      <th>메뉴</th>\n",
       "      <th>사진</th>\n",
       "    </tr>\n",
       "  </thead>\n",
       "  <tbody>\n",
       "    <tr>\n",
       "      <th>0</th>\n",
       "      <td>리저브 나이트로</td>\n",
       "      <td>https://image.istarbucks.co.kr/upload/store/sk...</td>\n",
       "    </tr>\n",
       "    <tr>\n",
       "      <th>1</th>\n",
       "      <td>나이트로 바닐라 크림</td>\n",
       "      <td>https://image.istarbucks.co.kr/upload/store/sk...</td>\n",
       "    </tr>\n",
       "    <tr>\n",
       "      <th>2</th>\n",
       "      <td>나이트로 콜드 브루</td>\n",
       "      <td>https://image.istarbucks.co.kr/upload/store/sk...</td>\n",
       "    </tr>\n",
       "    <tr>\n",
       "      <th>3</th>\n",
       "      <td>돌체 콜드 브루</td>\n",
       "      <td>https://image.istarbucks.co.kr/upload/store/sk...</td>\n",
       "    </tr>\n",
       "  </tbody>\n",
       "</table>\n",
       "</div>"
      ],
      "text/plain": [
       "            메뉴                                                 사진\n",
       "0     리저브 나이트로  https://image.istarbucks.co.kr/upload/store/sk...\n",
       "1  나이트로 바닐라 크림  https://image.istarbucks.co.kr/upload/store/sk...\n",
       "2   나이트로 콜드 브루  https://image.istarbucks.co.kr/upload/store/sk...\n",
       "3     돌체 콜드 브루  https://image.istarbucks.co.kr/upload/store/sk..."
      ]
     },
     "execution_count": 24,
     "metadata": {},
     "output_type": "execute_result"
    }
   ],
   "source": [
    "col_drink_menu = [\"메뉴\", \"사진\"]\n",
    "df = pd.DataFrame(drink_menu_name_photo_links, columns=col_drink_menu)\n",
    "df.head(4)"
   ]
  },
  {
   "cell_type": "code",
   "execution_count": 25,
   "metadata": {},
   "outputs": [],
   "source": [
    "# 이미지의 링크를 HTML img 태그로 만드는 함수 \n",
    "def make_HTML_image_tag(link):\n",
    "    image_width = 80   # 이미지 크기(너비)를 지정\n",
    "    image_tag = f'<img src=\"{link}\" width=\"{image_width}\">' # img 태그\n",
    "    return image_tag  # img 태그를 반환"
   ]
  },
  {
   "cell_type": "code",
   "execution_count": 26,
   "metadata": {},
   "outputs": [
    {
     "data": {
      "text/plain": [
       "'<img src=\"https://image.istarbucks.co.kr/upload/store/skuimg/2021/02/[9200000002407]_20210225095106743.jpg\" width=\"80\">'"
      ]
     },
     "execution_count": 26,
     "metadata": {},
     "output_type": "execute_result"
    }
   ],
   "source": [
    "make_HTML_image_tag(df[\"사진\"][0])"
   ]
  },
  {
   "attachments": {},
   "cell_type": "markdown",
   "metadata": {},
   "source": [
    "[7장: 313페이지]"
   ]
  },
  {
   "cell_type": "code",
   "execution_count": 27,
   "metadata": {},
   "outputs": [
    {
     "name": "stdout",
     "output_type": "stream",
     "text": [
      "<table border=\"1\" class=\"dataframe\">\n",
      "  <thead>\n",
      "    <tr style=\"text-align: right;\">\n",
      "      <th></th>\n",
      "      <th>메뉴</th>\n",
      "      <th>사진</th>\n",
      "    </tr>\n",
      "  </thead>\n",
      "  <tbody>\n",
      "    <tr>\n",
      "      <th>0</th>\n",
      "      <td>리저브 나이트로</td>\n",
      "      <td><img src=\"https://image.istarbucks.co.kr/upload/store/skuimg/2021/02/[9200000002407]_20210225095106743.jpg\" width=\"80\"></td>\n",
      "    </tr>\n",
      "    <tr>\n",
      "      <th>1</th>\n",
      "      <td>나이트로 바닐라 크림</td>\n",
      "      <td><img src=\"https://image.istarbucks.co.kr/upload/store/skuimg/2021/04/[9200000002487]_20210426091745467.jpg\" width=\"80\"></td>\n",
      "    </tr>\n",
      "    <tr>\n",
      "      <th>2</th>\n",
      "      <td>나이트로 콜드 브루</td>\n",
      "      <td><img src=\"https://image.istarbucks.co.kr/upload/store/skuimg/2021/04/[9200000000479]_20210426091843897.jpg\" width=\"80\"></td>\n",
      "    </tr>\n",
      "    <tr>\n",
      "      <th>3</th>\n",
      "      <td>돌체 콜드 브루</td>\n",
      "      <td><img src=\"https://image.istarbucks.co.kr/upload/store/skuimg/2021/04/[9200000002081]_20210415133656839.jpg\" width=\"80\"></td>\n",
      "    </tr>\n",
      "  </tbody>\n",
      "</table>\n"
     ]
    }
   ],
   "source": [
    "html_table = df.head(4).to_html(formatters=dict(사진=make_HTML_image_tag), escape=False)\n",
    "print(html_table)"
   ]
  },
  {
   "attachments": {},
   "cell_type": "markdown",
   "metadata": {},
   "source": [
    "[7장: 314페이지]"
   ]
  },
  {
   "cell_type": "code",
   "execution_count": 28,
   "metadata": {
    "scrolled": false
   },
   "outputs": [
    {
     "data": {
      "text/html": [
       "<table border=\"1\" class=\"dataframe\">\n",
       "  <thead>\n",
       "    <tr style=\"text-align: right;\">\n",
       "      <th></th>\n",
       "      <th>메뉴</th>\n",
       "      <th>사진</th>\n",
       "    </tr>\n",
       "  </thead>\n",
       "  <tbody>\n",
       "    <tr>\n",
       "      <th>0</th>\n",
       "      <td>리저브 나이트로</td>\n",
       "      <td><img src=\"https://image.istarbucks.co.kr/upload/store/skuimg/2021/02/[9200000002407]_20210225095106743.jpg\" width=\"80\"></td>\n",
       "    </tr>\n",
       "    <tr>\n",
       "      <th>1</th>\n",
       "      <td>나이트로 바닐라 크림</td>\n",
       "      <td><img src=\"https://image.istarbucks.co.kr/upload/store/skuimg/2021/04/[9200000002487]_20210426091745467.jpg\" width=\"80\"></td>\n",
       "    </tr>\n",
       "    <tr>\n",
       "      <th>2</th>\n",
       "      <td>나이트로 콜드 브루</td>\n",
       "      <td><img src=\"https://image.istarbucks.co.kr/upload/store/skuimg/2021/04/[9200000000479]_20210426091843897.jpg\" width=\"80\"></td>\n",
       "    </tr>\n",
       "    <tr>\n",
       "      <th>3</th>\n",
       "      <td>돌체 콜드 브루</td>\n",
       "      <td><img src=\"https://image.istarbucks.co.kr/upload/store/skuimg/2021/04/[9200000002081]_20210415133656839.jpg\" width=\"80\"></td>\n",
       "    </tr>\n",
       "  </tbody>\n",
       "</table>"
      ],
      "text/plain": [
       "<IPython.core.display.HTML object>"
      ]
     },
     "execution_count": 28,
     "metadata": {},
     "output_type": "execute_result"
    }
   ],
   "source": [
    "from IPython.display import HTML\n",
    "\n",
    "HTML(html_table) # HTML 코드의 내용을 웹 브라우저처럼 보여줌"
   ]
  },
  {
   "attachments": {},
   "cell_type": "markdown",
   "metadata": {},
   "source": [
    "[7장: 315페이지]"
   ]
  },
  {
   "cell_type": "code",
   "execution_count": 32,
   "metadata": {},
   "outputs": [
    {
     "name": "stdout",
     "output_type": "stream",
     "text": [
      "생성한 파일: C:/Users/shjo/Desktop/전공/Python-WebScraping-1/data/ch07/starbucks_drink_menu.html\n"
     ]
    }
   ],
   "source": [
    "folder = \"C:/Users/shjo/Desktop/전공/Python-WebScraping-1/data/ch07/\"            # 폴더 지정\n",
    "file_name = folder + \"starbucks_drink_menu.html\" # 생성할 HTML 파일 이름 지정 \n",
    "\n",
    "df.to_html(file_name, formatters=dict(사진=make_HTML_image_tag), escape=False)\n",
    "print(\"생성한 파일:\", file_name)"
   ]
  },
  {
   "attachments": {},
   "cell_type": "markdown",
   "metadata": {},
   "source": [
    "### 7.3.2 가상 화폐 거래 정보 가져오기"
   ]
  },
  {
   "attachments": {},
   "cell_type": "markdown",
   "metadata": {},
   "source": [
    "[7장: 317페이지]"
   ]
  },
  {
   "cell_type": "code",
   "execution_count": 33,
   "metadata": {},
   "outputs": [
    {
     "data": {
      "text/html": [
       "<div>\n",
       "<style scoped>\n",
       "    .dataframe tbody tr th:only-of-type {\n",
       "        vertical-align: middle;\n",
       "    }\n",
       "\n",
       "    .dataframe tbody tr th {\n",
       "        vertical-align: top;\n",
       "    }\n",
       "\n",
       "    .dataframe thead th {\n",
       "        text-align: right;\n",
       "    }\n",
       "</style>\n",
       "<table border=\"1\" class=\"dataframe\">\n",
       "  <thead>\n",
       "    <tr style=\"text-align: right;\">\n",
       "      <th></th>\n",
       "      <th>#</th>\n",
       "      <th>이름</th>\n",
       "      <th>가격</th>\n",
       "      <th>1h %</th>\n",
       "      <th>24시간 %</th>\n",
       "    </tr>\n",
       "  </thead>\n",
       "  <tbody>\n",
       "    <tr>\n",
       "      <th>0</th>\n",
       "      <td>1.0</td>\n",
       "      <td>Bitcoin1BTC</td>\n",
       "      <td>₩37,231,845.05</td>\n",
       "      <td>0.13%</td>\n",
       "      <td>2.56%</td>\n",
       "    </tr>\n",
       "    <tr>\n",
       "      <th>1</th>\n",
       "      <td>2.0</td>\n",
       "      <td>Ethereum2ETH</td>\n",
       "      <td>₩2,479,415.80</td>\n",
       "      <td>0.09%</td>\n",
       "      <td>1.84%</td>\n",
       "    </tr>\n",
       "    <tr>\n",
       "      <th>2</th>\n",
       "      <td>3.0</td>\n",
       "      <td>Tether3USDT</td>\n",
       "      <td>₩1,320.59</td>\n",
       "      <td>0.15%</td>\n",
       "      <td>0.03%</td>\n",
       "    </tr>\n",
       "    <tr>\n",
       "      <th>3</th>\n",
       "      <td>4.0</td>\n",
       "      <td>BNB4BNB</td>\n",
       "      <td>₩415,918.35</td>\n",
       "      <td>0.34%</td>\n",
       "      <td>0.66%</td>\n",
       "    </tr>\n",
       "    <tr>\n",
       "      <th>4</th>\n",
       "      <td>5.0</td>\n",
       "      <td>USD Coin5USDC</td>\n",
       "      <td>₩1,319.95</td>\n",
       "      <td>0.14%</td>\n",
       "      <td>0.03%</td>\n",
       "    </tr>\n",
       "    <tr>\n",
       "      <th>5</th>\n",
       "      <td>6.0</td>\n",
       "      <td>XRP6XRP</td>\n",
       "      <td>₩567.59</td>\n",
       "      <td>0.54%</td>\n",
       "      <td>1.36%</td>\n",
       "    </tr>\n",
       "    <tr>\n",
       "      <th>6</th>\n",
       "      <td>7.0</td>\n",
       "      <td>Cardano7ADA</td>\n",
       "      <td>₩485.58</td>\n",
       "      <td>0.86%</td>\n",
       "      <td>1.33%</td>\n",
       "    </tr>\n",
       "    <tr>\n",
       "      <th>7</th>\n",
       "      <td>8.0</td>\n",
       "      <td>Dogecoin8DOGE</td>\n",
       "      <td>₩97.53</td>\n",
       "      <td>0.57%</td>\n",
       "      <td>1.53%</td>\n",
       "    </tr>\n",
       "    <tr>\n",
       "      <th>8</th>\n",
       "      <td>9.0</td>\n",
       "      <td>Solana9SOL</td>\n",
       "      <td>₩27,799.53</td>\n",
       "      <td>0.79%</td>\n",
       "      <td>2.05%</td>\n",
       "    </tr>\n",
       "    <tr>\n",
       "      <th>9</th>\n",
       "      <td>10.0</td>\n",
       "      <td>Polygon10MATIC</td>\n",
       "      <td>₩1,160.80</td>\n",
       "      <td>1.18%</td>\n",
       "      <td>0.53%</td>\n",
       "    </tr>\n",
       "    <tr>\n",
       "      <th>10</th>\n",
       "      <td>NaN</td>\n",
       "      <td>PolkadotDOT</td>\n",
       "      <td>$5.47</td>\n",
       "      <td>NaN</td>\n",
       "      <td>NaN</td>\n",
       "    </tr>\n",
       "    <tr>\n",
       "      <th>11</th>\n",
       "      <td>NaN</td>\n",
       "      <td>TRONTRX</td>\n",
       "      <td>$0.07</td>\n",
       "      <td>NaN</td>\n",
       "      <td>NaN</td>\n",
       "    </tr>\n",
       "  </tbody>\n",
       "</table>\n",
       "</div>"
      ],
      "text/plain": [
       "       #              이름              가격   1h % 24시간 %\n",
       "0    1.0     Bitcoin1BTC  ₩37,231,845.05  0.13%  2.56%\n",
       "1    2.0    Ethereum2ETH   ₩2,479,415.80  0.09%  1.84%\n",
       "2    3.0     Tether3USDT       ₩1,320.59  0.15%  0.03%\n",
       "3    4.0         BNB4BNB     ₩415,918.35  0.34%  0.66%\n",
       "4    5.0   USD Coin5USDC       ₩1,319.95  0.14%  0.03%\n",
       "5    6.0         XRP6XRP         ₩567.59  0.54%  1.36%\n",
       "6    7.0     Cardano7ADA         ₩485.58  0.86%  1.33%\n",
       "7    8.0   Dogecoin8DOGE          ₩97.53  0.57%  1.53%\n",
       "8    9.0      Solana9SOL      ₩27,799.53  0.79%  2.05%\n",
       "9   10.0  Polygon10MATIC       ₩1,160.80  1.18%  0.53%\n",
       "10   NaN     PolkadotDOT           $5.47    NaN    NaN\n",
       "11   NaN         TRONTRX           $0.07    NaN    NaN"
      ]
     },
     "execution_count": 33,
     "metadata": {},
     "output_type": "execute_result"
    }
   ],
   "source": [
    "import requests\n",
    "import pandas as pd\n",
    "\n",
    "url = \"http://coinmarketcap.com/ko/\" # URL 지정\n",
    "html = requests.get(url).text        # HTML 소스 가져오기\n",
    "dfs = pd.read_html(html)             # HTML 소스에서 table의 내용을 DataFrame 리스트로 변환\n",
    "\n",
    "df = dfs[0]       # 리스트의 첫 번째 요소를 선택\n",
    "df.iloc[0:12,1:6] # DataFrame 데이터에서 행과 열을 선택해 출력"
   ]
  },
  {
   "cell_type": "code",
   "execution_count": 36,
   "metadata": {},
   "outputs": [
    {
     "data": {
      "text/html": [
       "<div>\n",
       "<style scoped>\n",
       "    .dataframe tbody tr th:only-of-type {\n",
       "        vertical-align: middle;\n",
       "    }\n",
       "\n",
       "    .dataframe tbody tr th {\n",
       "        vertical-align: top;\n",
       "    }\n",
       "\n",
       "    .dataframe thead th {\n",
       "        text-align: right;\n",
       "    }\n",
       "</style>\n",
       "<table border=\"1\" class=\"dataframe\">\n",
       "  <thead>\n",
       "    <tr style=\"text-align: right;\">\n",
       "      <th></th>\n",
       "      <th>#</th>\n",
       "      <th>이름</th>\n",
       "      <th>가격</th>\n",
       "      <th>1h %</th>\n",
       "      <th>24시간 %</th>\n",
       "    </tr>\n",
       "  </thead>\n",
       "  <tbody>\n",
       "    <tr>\n",
       "      <th>0</th>\n",
       "      <td>1.0</td>\n",
       "      <td>Bitcoin1BTC</td>\n",
       "      <td>₩37,231,845.05</td>\n",
       "      <td>0.13%</td>\n",
       "      <td>2.56%</td>\n",
       "    </tr>\n",
       "    <tr>\n",
       "      <th>1</th>\n",
       "      <td>2.0</td>\n",
       "      <td>Ethereum2ETH</td>\n",
       "      <td>₩2,479,415.80</td>\n",
       "      <td>0.09%</td>\n",
       "      <td>1.84%</td>\n",
       "    </tr>\n",
       "    <tr>\n",
       "      <th>2</th>\n",
       "      <td>3.0</td>\n",
       "      <td>Tether3USDT</td>\n",
       "      <td>₩1,320.59</td>\n",
       "      <td>0.15%</td>\n",
       "      <td>0.03%</td>\n",
       "    </tr>\n",
       "    <tr>\n",
       "      <th>3</th>\n",
       "      <td>4.0</td>\n",
       "      <td>BNB4BNB</td>\n",
       "      <td>₩415,660.03</td>\n",
       "      <td>0.48%</td>\n",
       "      <td>0.56%</td>\n",
       "    </tr>\n",
       "    <tr>\n",
       "      <th>4</th>\n",
       "      <td>5.0</td>\n",
       "      <td>USD Coin5USDC</td>\n",
       "      <td>₩1,319.95</td>\n",
       "      <td>0.14%</td>\n",
       "      <td>0.03%</td>\n",
       "    </tr>\n",
       "    <tr>\n",
       "      <th>5</th>\n",
       "      <td>6.0</td>\n",
       "      <td>XRP6XRP</td>\n",
       "      <td>₩567.59</td>\n",
       "      <td>0.54%</td>\n",
       "      <td>1.36%</td>\n",
       "    </tr>\n",
       "    <tr>\n",
       "      <th>6</th>\n",
       "      <td>7.0</td>\n",
       "      <td>Cardano7ADA</td>\n",
       "      <td>₩485.58</td>\n",
       "      <td>0.86%</td>\n",
       "      <td>1.33%</td>\n",
       "    </tr>\n",
       "    <tr>\n",
       "      <th>7</th>\n",
       "      <td>8.0</td>\n",
       "      <td>Dogecoin8DOGE</td>\n",
       "      <td>₩97.53</td>\n",
       "      <td>0.57%</td>\n",
       "      <td>1.53%</td>\n",
       "    </tr>\n",
       "    <tr>\n",
       "      <th>8</th>\n",
       "      <td>9.0</td>\n",
       "      <td>Solana9SOL</td>\n",
       "      <td>₩27,799.53</td>\n",
       "      <td>0.79%</td>\n",
       "      <td>2.05%</td>\n",
       "    </tr>\n",
       "    <tr>\n",
       "      <th>9</th>\n",
       "      <td>10.0</td>\n",
       "      <td>Polygon10MATIC</td>\n",
       "      <td>₩1,160.80</td>\n",
       "      <td>1.18%</td>\n",
       "      <td>0.53%</td>\n",
       "    </tr>\n",
       "    <tr>\n",
       "      <th>10</th>\n",
       "      <td>NaN</td>\n",
       "      <td>PolkadotDOT</td>\n",
       "      <td>$5.47</td>\n",
       "      <td>NaN</td>\n",
       "      <td>NaN</td>\n",
       "    </tr>\n",
       "    <tr>\n",
       "      <th>11</th>\n",
       "      <td>NaN</td>\n",
       "      <td>TRONTRX</td>\n",
       "      <td>$0.07</td>\n",
       "      <td>NaN</td>\n",
       "      <td>NaN</td>\n",
       "    </tr>\n",
       "    <tr>\n",
       "      <th>12</th>\n",
       "      <td>NaN</td>\n",
       "      <td>LitecoinLTC</td>\n",
       "      <td>$80.94</td>\n",
       "      <td>NaN</td>\n",
       "      <td>NaN</td>\n",
       "    </tr>\n",
       "    <tr>\n",
       "      <th>13</th>\n",
       "      <td>NaN</td>\n",
       "      <td>Binance USDBUSD</td>\n",
       "      <td>$1.00</td>\n",
       "      <td>NaN</td>\n",
       "      <td>NaN</td>\n",
       "    </tr>\n",
       "    <tr>\n",
       "      <th>14</th>\n",
       "      <td>NaN</td>\n",
       "      <td>Shiba InuSHIB</td>\n",
       "      <td>$0.00</td>\n",
       "      <td>NaN</td>\n",
       "      <td>NaN</td>\n",
       "    </tr>\n",
       "    <tr>\n",
       "      <th>15</th>\n",
       "      <td>NaN</td>\n",
       "      <td>AvalancheAVAX</td>\n",
       "      <td>$15.52</td>\n",
       "      <td>NaN</td>\n",
       "      <td>NaN</td>\n",
       "    </tr>\n",
       "  </tbody>\n",
       "</table>\n",
       "</div>"
      ],
      "text/plain": [
       "       #               이름              가격   1h % 24시간 %\n",
       "0    1.0      Bitcoin1BTC  ₩37,231,845.05  0.13%  2.56%\n",
       "1    2.0     Ethereum2ETH   ₩2,479,415.80  0.09%  1.84%\n",
       "2    3.0      Tether3USDT       ₩1,320.59  0.15%  0.03%\n",
       "3    4.0          BNB4BNB     ₩415,660.03  0.48%  0.56%\n",
       "4    5.0    USD Coin5USDC       ₩1,319.95  0.14%  0.03%\n",
       "5    6.0          XRP6XRP         ₩567.59  0.54%  1.36%\n",
       "6    7.0      Cardano7ADA         ₩485.58  0.86%  1.33%\n",
       "7    8.0    Dogecoin8DOGE          ₩97.53  0.57%  1.53%\n",
       "8    9.0       Solana9SOL      ₩27,799.53  0.79%  2.05%\n",
       "9   10.0   Polygon10MATIC       ₩1,160.80  1.18%  0.53%\n",
       "10   NaN      PolkadotDOT           $5.47    NaN    NaN\n",
       "11   NaN          TRONTRX           $0.07    NaN    NaN\n",
       "12   NaN      LitecoinLTC          $80.94    NaN    NaN\n",
       "13   NaN  Binance USDBUSD           $1.00    NaN    NaN\n",
       "14   NaN    Shiba InuSHIB           $0.00    NaN    NaN\n",
       "15   NaN    AvalancheAVAX          $15.52    NaN    NaN"
      ]
     },
     "execution_count": 36,
     "metadata": {},
     "output_type": "execute_result"
    }
   ],
   "source": [
    "from selenium.webdriver import Chrome\n",
    "from bs4 import BeautifulSoup\n",
    "\n",
    "#driver = Chrome()          # 크롬 드라이버 객체 생성\n",
    "\n",
    "url = \"https://coinmarketcap.com/ko/\" # URL 지정\n",
    "driver.get(url)            # 웹 브라우저를 실행해 지정한 URL에 접속\n",
    "driver.implicitly_wait(3)  # 웹 사이트의 내용을 받아오기까지 기다림\n",
    "\n",
    "html = driver.page_source  # 접속 후에 해당 page의 HTML 소스를 가져옴\n",
    "dfs = pd.read_html(html)   # HTML 소스에서 table의 내용을 DataFrame 리스트로 변환\n",
    "\n",
    "df = dfs[0]       # 리스트의 첫 번째 요소를 선택\n",
    "df.iloc[0:16,1:6] # DataFrame 데이터에서 행과 열을 선택해 출력"
   ]
  },
  {
   "attachments": {},
   "cell_type": "markdown",
   "metadata": {},
   "source": [
    "[7장: 319페이지]"
   ]
  },
  {
   "cell_type": "code",
   "execution_count": 37,
   "metadata": {
    "scrolled": true
   },
   "outputs": [
    {
     "data": {
      "text/html": [
       "<div>\n",
       "<style scoped>\n",
       "    .dataframe tbody tr th:only-of-type {\n",
       "        vertical-align: middle;\n",
       "    }\n",
       "\n",
       "    .dataframe tbody tr th {\n",
       "        vertical-align: top;\n",
       "    }\n",
       "\n",
       "    .dataframe thead th {\n",
       "        text-align: right;\n",
       "    }\n",
       "</style>\n",
       "<table border=\"1\" class=\"dataframe\">\n",
       "  <thead>\n",
       "    <tr style=\"text-align: right;\">\n",
       "      <th></th>\n",
       "      <th>#</th>\n",
       "      <th>이름</th>\n",
       "      <th>가격</th>\n",
       "      <th>1h %</th>\n",
       "      <th>24시간 %</th>\n",
       "    </tr>\n",
       "  </thead>\n",
       "  <tbody>\n",
       "    <tr>\n",
       "      <th>95</th>\n",
       "      <td>96</td>\n",
       "      <td>PancakeSwap96CAKE</td>\n",
       "      <td>₩2,548.38</td>\n",
       "      <td>0.33%</td>\n",
       "      <td>2.14%</td>\n",
       "    </tr>\n",
       "    <tr>\n",
       "      <th>96</th>\n",
       "      <td>97</td>\n",
       "      <td>Convex Finance97CVX</td>\n",
       "      <td>₩6,217.04</td>\n",
       "      <td>0.35%</td>\n",
       "      <td>1.87%</td>\n",
       "    </tr>\n",
       "    <tr>\n",
       "      <th>97</th>\n",
       "      <td>98</td>\n",
       "      <td>FLOKI98FLOKI</td>\n",
       "      <td>₩0.04902</td>\n",
       "      <td>1.47%</td>\n",
       "      <td>7.01%</td>\n",
       "    </tr>\n",
       "    <tr>\n",
       "      <th>98</th>\n",
       "      <td>99</td>\n",
       "      <td>Enjin Coin99ENJ</td>\n",
       "      <td>₩464.01</td>\n",
       "      <td>0.02%</td>\n",
       "      <td>2.13%</td>\n",
       "    </tr>\n",
       "    <tr>\n",
       "      <th>99</th>\n",
       "      <td>100</td>\n",
       "      <td>1inch Network1001INCH</td>\n",
       "      <td>₩559.67</td>\n",
       "      <td>0.07%</td>\n",
       "      <td>1.90%</td>\n",
       "    </tr>\n",
       "  </tbody>\n",
       "</table>\n",
       "</div>"
      ],
      "text/plain": [
       "      #                     이름         가격   1h % 24시간 %\n",
       "95   96      PancakeSwap96CAKE  ₩2,548.38  0.33%  2.14%\n",
       "96   97    Convex Finance97CVX  ₩6,217.04  0.35%  1.87%\n",
       "97   98           FLOKI98FLOKI   ₩0.04902  1.47%  7.01%\n",
       "98   99        Enjin Coin99ENJ    ₩464.01  0.02%  2.13%\n",
       "99  100  1inch Network1001INCH    ₩559.67  0.07%  1.90%"
      ]
     },
     "execution_count": 37,
     "metadata": {},
     "output_type": "execute_result"
    }
   ],
   "source": [
    "from selenium.webdriver import Chrome\n",
    "from bs4 import BeautifulSoup\n",
    "\n",
    "#driver = Chrome() # 크롬 드라이버 객체 생성\n",
    "\n",
    "url = \"https://coinmarketcap.com/ko/\" # URL 지정\n",
    "driver.get(url)  # 웹 브라우저를 실행해 지정한 URL에 접속\n",
    "\n",
    "# 웹 사이트 문서 높이 가져오기\n",
    "scroll_height = driver.execute_script(\"return document.body.scrollHeight\")\n",
    "\n",
    "y = 0          # Y축 좌표의 초깃값\n",
    "y_step = 1000  # Y축 아래로 이동하는 단계\n",
    "while (True):\n",
    "    y = y + y_step\n",
    "    script =  \"window.scrollTo(0,{0})\".format(y)\n",
    "    driver.execute_script(script) # 스크립트 실행\n",
    "    driver.implicitly_wait(5)     # 스크롤 수행 후 데이터를 받아올 때까지 기다림\n",
    "    \n",
    "    # 수식 스크롤 위치가 문서 끝보다 크거나 같으면 while 문 빠져나가기\n",
    "    if (y >= scroll_height):\n",
    "        break\n",
    "    \n",
    "html = driver.page_source # HTML 코드를 가져옴\n",
    "dfs = pd.read_html(html)  # HTML 소스에서 table의 내용을 DataFrame 리스트로 변환\n",
    "\n",
    "df = dfs[0]         # 리스트의 첫 번째 요소를 선택\n",
    "df.iloc[95:100,1:6] # DataFrame 데이터에서 행과 열을 선택해 출력"
   ]
  },
  {
   "attachments": {},
   "cell_type": "markdown",
   "metadata": {},
   "source": [
    "[7장: 320페이지]"
   ]
  },
  {
   "cell_type": "code",
   "execution_count": 38,
   "metadata": {},
   "outputs": [
    {
     "data": {
      "text/html": [
       "<div>\n",
       "<style scoped>\n",
       "    .dataframe tbody tr th:only-of-type {\n",
       "        vertical-align: middle;\n",
       "    }\n",
       "\n",
       "    .dataframe tbody tr th {\n",
       "        vertical-align: top;\n",
       "    }\n",
       "\n",
       "    .dataframe thead th {\n",
       "        text-align: right;\n",
       "    }\n",
       "</style>\n",
       "<table border=\"1\" class=\"dataframe\">\n",
       "  <thead>\n",
       "    <tr style=\"text-align: right;\">\n",
       "      <th></th>\n",
       "      <th>#</th>\n",
       "      <th>이름</th>\n",
       "      <th>가격</th>\n",
       "      <th>1h %</th>\n",
       "      <th>24시간 %</th>\n",
       "    </tr>\n",
       "  </thead>\n",
       "  <tbody>\n",
       "    <tr>\n",
       "      <th>0</th>\n",
       "      <td>1</td>\n",
       "      <td>Bitcoin1BTC</td>\n",
       "      <td>₩37,200,892.66</td>\n",
       "      <td>0.22%</td>\n",
       "      <td>2.50%</td>\n",
       "    </tr>\n",
       "    <tr>\n",
       "      <th>1</th>\n",
       "      <td>2</td>\n",
       "      <td>Ethereum2ETH</td>\n",
       "      <td>₩2,476,907.26</td>\n",
       "      <td>0.16%</td>\n",
       "      <td>1.77%</td>\n",
       "    </tr>\n",
       "    <tr>\n",
       "      <th>2</th>\n",
       "      <td>3</td>\n",
       "      <td>Tether3USDT</td>\n",
       "      <td>₩1,320.45</td>\n",
       "      <td>0.17%</td>\n",
       "      <td>0.02%</td>\n",
       "    </tr>\n",
       "    <tr>\n",
       "      <th>3</th>\n",
       "      <td>4</td>\n",
       "      <td>BNB4BNB</td>\n",
       "      <td>₩415,761.54</td>\n",
       "      <td>0.38%</td>\n",
       "      <td>0.59%</td>\n",
       "    </tr>\n",
       "    <tr>\n",
       "      <th>4</th>\n",
       "      <td>5</td>\n",
       "      <td>USD Coin5USDC</td>\n",
       "      <td>₩1,319.79</td>\n",
       "      <td>0.17%</td>\n",
       "      <td>0.02%</td>\n",
       "    </tr>\n",
       "  </tbody>\n",
       "</table>\n",
       "</div>"
      ],
      "text/plain": [
       "   #             이름              가격   1h % 24시간 %\n",
       "0  1    Bitcoin1BTC  ₩37,200,892.66  0.22%  2.50%\n",
       "1  2   Ethereum2ETH   ₩2,476,907.26  0.16%  1.77%\n",
       "2  3    Tether3USDT       ₩1,320.45  0.17%  0.02%\n",
       "3  4        BNB4BNB     ₩415,761.54  0.38%  0.59%\n",
       "4  5  USD Coin5USDC       ₩1,319.79  0.17%  0.02%"
      ]
     },
     "execution_count": 38,
     "metadata": {},
     "output_type": "execute_result"
    }
   ],
   "source": [
    "df.iloc[0:5,1:6]"
   ]
  },
  {
   "cell_type": "code",
   "execution_count": 39,
   "metadata": {
    "scrolled": true
   },
   "outputs": [
    {
     "data": {
      "text/html": [
       "<div>\n",
       "<style scoped>\n",
       "    .dataframe tbody tr th:only-of-type {\n",
       "        vertical-align: middle;\n",
       "    }\n",
       "\n",
       "    .dataframe tbody tr th {\n",
       "        vertical-align: top;\n",
       "    }\n",
       "\n",
       "    .dataframe thead th {\n",
       "        text-align: right;\n",
       "    }\n",
       "</style>\n",
       "<table border=\"1\" class=\"dataframe\">\n",
       "  <thead>\n",
       "    <tr style=\"text-align: right;\">\n",
       "      <th></th>\n",
       "      <th>#</th>\n",
       "      <th>이름</th>\n",
       "      <th>가격</th>\n",
       "      <th>1h %</th>\n",
       "      <th>24시간 %</th>\n",
       "    </tr>\n",
       "  </thead>\n",
       "  <tbody>\n",
       "    <tr>\n",
       "      <th>0</th>\n",
       "      <td>1</td>\n",
       "      <td>Bitcoin BTC</td>\n",
       "      <td>₩37,200,892.66</td>\n",
       "      <td>0.22%</td>\n",
       "      <td>2.50%</td>\n",
       "    </tr>\n",
       "    <tr>\n",
       "      <th>1</th>\n",
       "      <td>2</td>\n",
       "      <td>Ethereum ETH</td>\n",
       "      <td>₩2,476,907.26</td>\n",
       "      <td>0.16%</td>\n",
       "      <td>1.77%</td>\n",
       "    </tr>\n",
       "    <tr>\n",
       "      <th>2</th>\n",
       "      <td>3</td>\n",
       "      <td>Tether USDT</td>\n",
       "      <td>₩1,320.45</td>\n",
       "      <td>0.17%</td>\n",
       "      <td>0.02%</td>\n",
       "    </tr>\n",
       "    <tr>\n",
       "      <th>3</th>\n",
       "      <td>4</td>\n",
       "      <td>BNB BNB</td>\n",
       "      <td>₩415,761.54</td>\n",
       "      <td>0.38%</td>\n",
       "      <td>0.59%</td>\n",
       "    </tr>\n",
       "    <tr>\n",
       "      <th>4</th>\n",
       "      <td>5</td>\n",
       "      <td>USD Coin USDC</td>\n",
       "      <td>₩1,319.79</td>\n",
       "      <td>0.17%</td>\n",
       "      <td>0.02%</td>\n",
       "    </tr>\n",
       "  </tbody>\n",
       "</table>\n",
       "</div>"
      ],
      "text/plain": [
       "   #             이름              가격   1h % 24시간 %\n",
       "0  1    Bitcoin BTC  ₩37,200,892.66  0.22%  2.50%\n",
       "1  2   Ethereum ETH   ₩2,476,907.26  0.16%  1.77%\n",
       "2  3    Tether USDT       ₩1,320.45  0.17%  0.02%\n",
       "3  4        BNB BNB     ₩415,761.54  0.38%  0.59%\n",
       "4  5  USD Coin USDC       ₩1,319.79  0.17%  0.02%"
      ]
     },
     "execution_count": 39,
     "metadata": {},
     "output_type": "execute_result"
    }
   ],
   "source": [
    "df['이름'] = [name.replace(str(num), \" \") for num, name in zip(df['#'], df['이름'])]\n",
    "df['이름'] = [name.replace(\"구매하기\", \"\") for name in df['이름']]\n",
    "df.iloc[0:5,1:6]"
   ]
  },
  {
   "attachments": {},
   "cell_type": "markdown",
   "metadata": {},
   "source": [
    "[7장: 321페이지]"
   ]
  },
  {
   "cell_type": "code",
   "execution_count": 40,
   "metadata": {},
   "outputs": [],
   "source": [
    "from selenium.webdriver import Chrome\n",
    "from bs4 import BeautifulSoup\n",
    "\n",
    "def get_coin_info(page_num):\n",
    "    #driver = Chrome() # 크롬 드라이버 객체 생성\n",
    "    \n",
    "    # page 추가해 URL 지정\n",
    "    url = f\"https://coinmarketcap.com/ko/?page={page_num}\"\n",
    "    driver.get(url)  # 웹 브라우저를 실행해 지정한 URL에 접속\n",
    "\n",
    "    # 웹 사이트 문서 높이 가져오기\n",
    "    scroll_height = driver.execute_script(\"return document.body.scrollHeight\")\n",
    "\n",
    "    y = 0           # Y축 좌표의 초깃값\n",
    "    y_step = 1000   # Y축 아래로 이동하는 단계\n",
    "    while (True):\n",
    "        y = y + y_step\n",
    "        script =  \"window.scrollTo(0,{0})\".format(y)\n",
    "        driver.execute_script(script) # 스크립트 실행\n",
    "        driver.implicitly_wait(5) # 스크롤 수행 후 데이터를 받아올 때까지 기다림\n",
    "\n",
    "        # 수식 스크롤 위치가 문서 끝보다 크거나 같으면 while 문 빠져나가기\n",
    "        if (y >= scroll_height):\n",
    "            break\n",
    "\n",
    "    html = driver.page_source # HTML 코드를 가져옴\n",
    "    dfs = pd.read_html(html)  # HTML 소스에서 table의 내용을 DataFrame 리스트로 변환\n",
    "\n",
    "    df = dfs[0] # 리스트의 첫 번째 요소를 선택\n",
    "    \n",
    "    # '이름' 열의 내용 변경\n",
    "    df['이름'] = [name.replace(str(num), \" \") for num, name in zip(df['#'], df['이름'])]\n",
    "    df['이름'] = [name.replace(\"구매하기\", \"\") for name in df['이름']]\n",
    "    \n",
    "    driver.quit() # 웹 브라우저를 종료함\n",
    "\n",
    "    return df.iloc[:,1:9]"
   ]
  },
  {
   "attachments": {},
   "cell_type": "markdown",
   "metadata": {},
   "source": [
    "[7장: 322페이지]"
   ]
  },
  {
   "cell_type": "code",
   "execution_count": 41,
   "metadata": {},
   "outputs": [
    {
     "data": {
      "text/html": [
       "<div>\n",
       "<style scoped>\n",
       "    .dataframe tbody tr th:only-of-type {\n",
       "        vertical-align: middle;\n",
       "    }\n",
       "\n",
       "    .dataframe tbody tr th {\n",
       "        vertical-align: top;\n",
       "    }\n",
       "\n",
       "    .dataframe thead th {\n",
       "        text-align: right;\n",
       "    }\n",
       "</style>\n",
       "<table border=\"1\" class=\"dataframe\">\n",
       "  <thead>\n",
       "    <tr style=\"text-align: right;\">\n",
       "      <th></th>\n",
       "      <th>#</th>\n",
       "      <th>이름</th>\n",
       "      <th>가격</th>\n",
       "      <th>1h %</th>\n",
       "      <th>24시간 %</th>\n",
       "      <th>7d %</th>\n",
       "    </tr>\n",
       "  </thead>\n",
       "  <tbody>\n",
       "    <tr>\n",
       "      <th>0</th>\n",
       "      <td>1</td>\n",
       "      <td>Bitcoin BTC</td>\n",
       "      <td>₩37,237,247.18</td>\n",
       "      <td>0.06%</td>\n",
       "      <td>2.61%</td>\n",
       "      <td>0.65%</td>\n",
       "    </tr>\n",
       "    <tr>\n",
       "      <th>1</th>\n",
       "      <td>2</td>\n",
       "      <td>Ethereum ETH</td>\n",
       "      <td>₩2,477,734.02</td>\n",
       "      <td>0.04%</td>\n",
       "      <td>1.79%</td>\n",
       "      <td>1.05%</td>\n",
       "    </tr>\n",
       "    <tr>\n",
       "      <th>2</th>\n",
       "      <td>3</td>\n",
       "      <td>Tether USDT</td>\n",
       "      <td>₩1,320.61</td>\n",
       "      <td>0.14%</td>\n",
       "      <td>0.02%</td>\n",
       "      <td>0.28%</td>\n",
       "    </tr>\n",
       "    <tr>\n",
       "      <th>...</th>\n",
       "      <td>...</td>\n",
       "      <td>...</td>\n",
       "      <td>...</td>\n",
       "      <td>...</td>\n",
       "      <td>...</td>\n",
       "      <td>...</td>\n",
       "    </tr>\n",
       "    <tr>\n",
       "      <th>97</th>\n",
       "      <td>98</td>\n",
       "      <td>FLOKI FLOKI</td>\n",
       "      <td>₩0.04903</td>\n",
       "      <td>0.83%</td>\n",
       "      <td>6.91%</td>\n",
       "      <td>12.39%</td>\n",
       "    </tr>\n",
       "    <tr>\n",
       "      <th>98</th>\n",
       "      <td>99</td>\n",
       "      <td>Enjin Coin ENJ</td>\n",
       "      <td>₩464.08</td>\n",
       "      <td>0.08%</td>\n",
       "      <td>2.08%</td>\n",
       "      <td>5.14%</td>\n",
       "    </tr>\n",
       "    <tr>\n",
       "      <th>99</th>\n",
       "      <td>100</td>\n",
       "      <td>1inch Network 1INCH</td>\n",
       "      <td>₩559.75</td>\n",
       "      <td>0.13%</td>\n",
       "      <td>1.89%</td>\n",
       "      <td>4.16%</td>\n",
       "    </tr>\n",
       "  </tbody>\n",
       "</table>\n",
       "</div>"
      ],
      "text/plain": [
       "      #                   이름              가격   1h % 24시간 %    7d %\n",
       "0     1          Bitcoin BTC  ₩37,237,247.18  0.06%  2.61%   0.65%\n",
       "1     2         Ethereum ETH   ₩2,477,734.02  0.04%  1.79%   1.05%\n",
       "2     3          Tether USDT       ₩1,320.61  0.14%  0.02%   0.28%\n",
       "..  ...                  ...             ...    ...    ...     ...\n",
       "97   98          FLOKI FLOKI        ₩0.04903  0.83%  6.91%  12.39%\n",
       "98   99       Enjin Coin ENJ         ₩464.08  0.08%  2.08%   5.14%\n",
       "99  100  1inch Network 1INCH         ₩559.75  0.13%  1.89%   4.16%"
      ]
     },
     "metadata": {},
     "output_type": "display_data"
    }
   ],
   "source": [
    "page_num = 1 # page 지정\n",
    "df_coin = get_coin_info(page_num) # 함수 호출\n",
    "\n",
    "# DataFrame 데이터에서 행과 열을 선택해 출력\n",
    "with pd.option_context('display.max_rows',6):\n",
    "    pd.set_option(\"show_dimensions\", False) # DataFrame의 행과 열 개수 출력 안 하기\n",
    "    display(df_coin.iloc[:,0:6])"
   ]
  },
  {
   "attachments": {},
   "cell_type": "markdown",
   "metadata": {},
   "source": [
    "### 7.3.3 유튜브 검색 결과 가져오기"
   ]
  },
  {
   "attachments": {},
   "cell_type": "markdown",
   "metadata": {},
   "source": [
    "[7장: 324페이지]"
   ]
  },
  {
   "cell_type": "code",
   "execution_count": 44,
   "metadata": {},
   "outputs": [
    {
     "name": "stdout",
     "output_type": "stream",
     "text": [
      "- 접속한 웹 사이트의 제목: 방탄소년단 - YouTube\n",
      "- 접속한 웹 사이트의 URL: https://www.youtube.com/results?search_query=%EB%B0%A9%ED%83%84%EC%86%8C%EB%85%84%EB%8B%A8\n"
     ]
    }
   ],
   "source": [
    "from selenium.webdriver import Chrome\n",
    "from bs4 import BeautifulSoup\n",
    "import time\n",
    "\n",
    "#driver = Chrome() # 크롬 드라이버 객체 생성\n",
    "\n",
    "base_url = \"https://www.youtube.com\" # 유튜브의 기본 URL\n",
    "search_word = '/results?search_query=' + '방탄소년단' # 검색어\n",
    "url = base_url +  search_word        # 접속하고자 하는 웹 사이트\n",
    "\n",
    "driver.get(url) # 웹 브라우저를 실행해 지정한 URL에 접속\n",
    "time.sleep(3)   # 웹 브라우저를 실행하고 URL에 접속할 때까지 기다림\n",
    "\n",
    "print(\"- 접속한 웹 사이트의 제목:\", driver.title) # 접속한 웹 사이트의 제목 출력\n",
    "print(\"- 접속한 웹 사이트의 URL:\", driver.current_url) # 접속한 웹 사이트의 URL 출력"
   ]
  },
  {
   "cell_type": "code",
   "execution_count": 45,
   "metadata": {},
   "outputs": [],
   "source": [
    "#driver = Chrome()\n",
    "\n",
    "base_url = \"https://www.youtube.com\"\n",
    "search_word = '/results?search_query=' + '방탄소년단'\n",
    "search_option = \"&sp=CAMSAhAB\" # 조회수로 정렬\n",
    "\n",
    "url = base_url +  search_word + search_option # 접속하고자 하는 웹 사이트\n",
    "driver.get(url)\n",
    "time.sleep(3) # 웹 브라우저를 실행하고 URL에 접속할 때까지 기다림"
   ]
  },
  {
   "attachments": {},
   "cell_type": "markdown",
   "metadata": {},
   "source": [
    "[7장: 326페이지]"
   ]
  },
  {
   "cell_type": "code",
   "execution_count": 46,
   "metadata": {},
   "outputs": [
    {
     "data": {
      "text/plain": [
       "<a aria-label=\"BTS (방탄소년단) 'Dynamite' Official MV 게시자: HYBE LABELS 2년 전 3분 44초 조회수 1,687,749,738회\" class=\"yt-simple-endpoint style-scope ytd-video-renderer\" href=\"/watch?v=gdZLi9oWNZg&amp;pp=ygUP67Cp7YOE7IaM64WE64uo\" id=\"video-title\" title=\"BTS (방탄소년단) 'Dynamite' Official MV\">\n",
       "<yt-icon class=\"style-scope ytd-video-renderer\" hidden=\"\" id=\"inline-title-icon\"><!--css-build:shady--></yt-icon>\n",
       "<yt-formatted-string aria-label=\"BTS (방탄소년단) 'Dynamite' Official MV 게시자: HYBE LABELS 2년 전 3분 44초 조회수 1,687,749,738회\" class=\"style-scope ytd-video-renderer\">BTS (방탄소년단) 'Dynamite' Official MV</yt-formatted-string>\n",
       "</a>"
      ]
     },
     "execution_count": 46,
     "metadata": {},
     "output_type": "execute_result"
    }
   ],
   "source": [
    "html = driver.page_source # 접속 후에 해당 page의 HTML 코드를 가져옴\n",
    "# driver.quit() # 웹 브라우저를 종료함\n",
    "\n",
    "soup = BeautifulSoup(html, 'lxml')\n",
    "\n",
    "title_hrefs = soup.select('a#video-title')\n",
    "\n",
    "title_hrefs[0] # 첫 번째 항목 출력"
   ]
  },
  {
   "cell_type": "code",
   "execution_count": 47,
   "metadata": {},
   "outputs": [
    {
     "data": {
      "text/plain": [
       "\"BTS (방탄소년단) 'Dynamite' Official MV\""
      ]
     },
     "execution_count": 47,
     "metadata": {},
     "output_type": "execute_result"
    }
   ],
   "source": [
    "title_hrefs[0].get('title') # title_hrefs[0]['title'] 도 동일"
   ]
  },
  {
   "cell_type": "code",
   "execution_count": 48,
   "metadata": {},
   "outputs": [
    {
     "data": {
      "text/plain": [
       "'/watch?v=gdZLi9oWNZg&pp=ygUP67Cp7YOE7IaM64WE64uo'"
      ]
     },
     "execution_count": 48,
     "metadata": {},
     "output_type": "execute_result"
    }
   ],
   "source": [
    "title_hrefs[0]['href'] # title_hrefs[0].get('href')도 동일"
   ]
  },
  {
   "attachments": {},
   "cell_type": "markdown",
   "metadata": {},
   "source": [
    "[7장: 327페이지]"
   ]
  },
  {
   "cell_type": "code",
   "execution_count": 49,
   "metadata": {
    "scrolled": true
   },
   "outputs": [
    {
     "name": "stdout",
     "output_type": "stream",
     "text": [
      "BTS (방탄소년단) 'Dynamite' Official MV, https://www.youtube.com/watch?v=gdZLi9oWNZg&pp=ygUP67Cp7YOE7IaM64WE64uo\n",
      "BTS (방탄소년단) '작은 것들을 위한 시 (Boy With Luv) (feat. Halsey)' Official MV, https://www.youtube.com/watch?v=XsX3ATc3FbA&pp=ygUP67Cp7YOE7IaM64WE64uo\n",
      "BTS (방탄소년단) 'DNA' Official MV, https://www.youtube.com/watch?v=MBdVXkSdhwU&pp=ygUP67Cp7YOE7IaM64WE64uo\n",
      "BTS (방탄소년단) 'MIC Drop (Steve Aoki Remix)' Official MV, https://www.youtube.com/watch?v=kTlv5_Bs8aw&pp=ygUP67Cp7YOE7IaM64WE64uo\n",
      "BTS (방탄소년단) 'IDOL' Official MV, https://www.youtube.com/watch?v=pBuZEGYXA6E&pp=ygUP67Cp7YOE7IaM64WE64uo\n"
     ]
    }
   ],
   "source": [
    "base_url = \"https://www.youtube.com\"\n",
    "titles = []\n",
    "urls = []\n",
    "for title_href in title_hrefs[0:5]:\n",
    "    title = title_href['title']         # 태그 안에서 title 속성의 값을 가져오기\n",
    "    url = base_url + title_href['href'] # href 속성의 값 가져와 기본 url과 합치기\n",
    "    titles.append(title)\n",
    "    urls.append(url)\n",
    "    print(\"{0}, {1}\".format(title, url))"
   ]
  },
  {
   "attachments": {},
   "cell_type": "markdown",
   "metadata": {},
   "source": [
    "[7장: 328페이지]"
   ]
  },
  {
   "cell_type": "code",
   "execution_count": 50,
   "metadata": {},
   "outputs": [
    {
     "data": {
      "text/plain": [
       "[<span class=\"inline-metadata-item style-scope ytd-video-meta-block\">조회수 16억회</span>,\n",
       " <span class=\"inline-metadata-item style-scope ytd-video-meta-block\">2년 전</span>,\n",
       " <span class=\"inline-metadata-item style-scope ytd-video-meta-block\">조회수 16억회</span>,\n",
       " <span class=\"inline-metadata-item style-scope ytd-video-meta-block\">4년 전</span>,\n",
       " <span class=\"inline-metadata-item style-scope ytd-video-meta-block\">조회수 15억회</span>,\n",
       " <span class=\"inline-metadata-item style-scope ytd-video-meta-block\">5년 전</span>]"
      ]
     },
     "execution_count": 50,
     "metadata": {},
     "output_type": "execute_result"
    }
   ],
   "source": [
    "view_uploads = soup.select('span.style-scope.ytd-video-meta-block')\n",
    "\n",
    "view_uploads[0:6]"
   ]
  },
  {
   "attachments": {},
   "cell_type": "markdown",
   "metadata": {},
   "source": [
    "[7장: 329페이지]"
   ]
  },
  {
   "cell_type": "code",
   "execution_count": 51,
   "metadata": {},
   "outputs": [
    {
     "data": {
      "text/plain": [
       "[[<span class=\"inline-metadata-item style-scope ytd-video-meta-block\">조회수 16억회</span>,\n",
       "  <span class=\"inline-metadata-item style-scope ytd-video-meta-block\">조회수 16억회</span>,\n",
       "  <span class=\"inline-metadata-item style-scope ytd-video-meta-block\">조회수 15억회</span>],\n",
       " [<span class=\"inline-metadata-item style-scope ytd-video-meta-block\">2년 전</span>,\n",
       "  <span class=\"inline-metadata-item style-scope ytd-video-meta-block\">4년 전</span>,\n",
       "  <span class=\"inline-metadata-item style-scope ytd-video-meta-block\">5년 전</span>]]"
      ]
     },
     "execution_count": 51,
     "metadata": {},
     "output_type": "execute_result"
    }
   ],
   "source": [
    "view_numbers = view_uploads[0::2] # 인덱스가 짝수인 요소 선택\n",
    "upload_times = view_uploads[1::2] # 인덱스가 홀수인 요소 선택\n",
    "\n",
    "[view_numbers[0:3], upload_times[0:3]]"
   ]
  },
  {
   "cell_type": "code",
   "execution_count": 52,
   "metadata": {},
   "outputs": [
    {
     "data": {
      "text/plain": [
       "['조회수 16억회', '2년 전']"
      ]
     },
     "execution_count": 52,
     "metadata": {},
     "output_type": "execute_result"
    }
   ],
   "source": [
    "[view_numbers[0].get_text(), upload_times[0].get_text()]"
   ]
  },
  {
   "cell_type": "code",
   "execution_count": 53,
   "metadata": {},
   "outputs": [
    {
     "data": {
      "text/plain": [
       "['16억회', '2년 전']"
      ]
     },
     "execution_count": 53,
     "metadata": {},
     "output_type": "execute_result"
    }
   ],
   "source": [
    "[view_numbers[0].get_text().split(\" \")[-1], upload_times[0].get_text()]"
   ]
  },
  {
   "attachments": {},
   "cell_type": "markdown",
   "metadata": {},
   "source": [
    "[7장: 330페이지]"
   ]
  },
  {
   "cell_type": "code",
   "execution_count": 54,
   "metadata": {},
   "outputs": [],
   "source": [
    "from selenium.webdriver import Chrome\n",
    "from bs4 import BeautifulSoup \n",
    "import pandas as pd\n",
    "import time\n",
    "\n",
    "def get_data_from_youtube(word, scroll=False):\n",
    "    #driver = Chrome()\n",
    "\n",
    "    base_url = \"https://www.youtube.com\"\n",
    "    search_word = '/results?search_query=' + word\n",
    "    search_option = \"&sp=CAMSAhAB\" # 조회수로 정렬\n",
    "\n",
    "    url = base_url +  search_word + search_option # 접속하고자 하는 웹 사이트\n",
    "    driver.get(url) # URL에 접속\n",
    "    time.sleep(3) # 웹 브라우저를 실행하고 URL에 접속할 때까지 기다림  \n",
    "    \n",
    "    if(scroll==True):\n",
    "        # 수직(Y축 방향)으로 스크롤 동작하기 \n",
    "        y = 0 # Y축 방향으로 스크롤 이동할 거리 초기화\n",
    "        y_step = 1000\n",
    "        for k in range(1, 5): # 반복 횟수 지정\n",
    "            y = y + y_step  # 반복할 때마다 Y축 방향으로 더해지는 거리를 지정\n",
    "            script = \"window.scrollTo({0},{1})\".format(0, y)\n",
    "            driver.execute_script(script) # Y축 방향으로 스크롤\n",
    "            time.sleep(3) # 결과를 받아올 때까지 잠시 기다림\n",
    "\n",
    "    html = driver.page_source # 접속 후에 해당 page의 HTML 코드를 가져옴\n",
    "    # driver.quit() # 웹 브라우저를 종료함\n",
    "    \n",
    "    soup = BeautifulSoup(html, 'lxml')\n",
    "    \n",
    "    # 동영상 제목과 URL 추출하기\n",
    "    title_hrefs = soup.select('a#video-title')\n",
    "    \n",
    "    titles = []\n",
    "    urls = []    \n",
    "    for title_href in title_hrefs:\n",
    "        title = title_href['title']         # 태그 안에서 title 속성의 값을 가져오기\n",
    "        url = base_url + title_href['href'] # href 속성의 값 가져와 기본 url과 합치기        \n",
    "        titles.append(title)\n",
    "        urls.append(url)\n",
    "\n",
    "    # 조회수와 업로드 시기 추출하기\n",
    "    view_uploads = soup.select('span.style-scope.ytd-video-meta-block')\n",
    "    \n",
    "    view_numbers = view_uploads[0::2] # 인덱스가 짝수인 요소 선택\n",
    "    upload_times = view_uploads[1::2] # 인덱스가 홀수인 요소 선택\n",
    "\n",
    "    views = []\n",
    "    uploads = [] \n",
    "    for view_number, upload_time in zip(view_numbers, upload_times):\n",
    "        view = view_number.get_text().split(\" \")[-1] # 조회수 추출\n",
    "        upload = upload_time.get_text()              # 업로드 시기 추출\n",
    "        views.append(view)\n",
    "        uploads.append(upload)\n",
    "        \n",
    "    # 추출된 정보를 모으기\n",
    "    search_results = []\n",
    "    for title, url, view, upload in zip(titles, urls, views, uploads):\n",
    "        search_result = [title, url, view, upload]\n",
    "        search_results.append(search_result)\n",
    "    \n",
    "    # 추출 결과를 판다스 DataFrame 데이터 형식으로 변환\n",
    "    df = pd.DataFrame(search_results, columns=[\"제목\", \"링크\", \"조회수\", \"업로드\"])\n",
    "    \n",
    "    return df"
   ]
  },
  {
   "attachments": {},
   "cell_type": "markdown",
   "metadata": {},
   "source": [
    "[7장: 331페이지]"
   ]
  },
  {
   "cell_type": "code",
   "execution_count": 55,
   "metadata": {},
   "outputs": [
    {
     "data": {
      "text/html": [
       "<div>\n",
       "<style scoped>\n",
       "    .dataframe tbody tr th:only-of-type {\n",
       "        vertical-align: middle;\n",
       "    }\n",
       "\n",
       "    .dataframe tbody tr th {\n",
       "        vertical-align: top;\n",
       "    }\n",
       "\n",
       "    .dataframe thead th {\n",
       "        text-align: right;\n",
       "    }\n",
       "</style>\n",
       "<table border=\"1\" class=\"dataframe\">\n",
       "  <thead>\n",
       "    <tr style=\"text-align: right;\">\n",
       "      <th></th>\n",
       "      <th>제목</th>\n",
       "      <th>링크</th>\n",
       "      <th>조회수</th>\n",
       "      <th>업로드</th>\n",
       "    </tr>\n",
       "  </thead>\n",
       "  <tbody>\n",
       "    <tr>\n",
       "      <th>15</th>\n",
       "      <td>BTS (방탄소년단) 'Life Goes On' Official MV</td>\n",
       "      <td>https://www.youtube.com/watch?v=-5q5mZbe3V8&amp;pp...</td>\n",
       "      <td>300만회</td>\n",
       "      <td>조회수 192만회</td>\n",
       "    </tr>\n",
       "    <tr>\n",
       "      <th>16</th>\n",
       "      <td>BTS (방탄소년단) 'Black Swan' Official MV</td>\n",
       "      <td>https://www.youtube.com/watch?v=0lapF4DQPKQ&amp;pp...</td>\n",
       "      <td>276만회</td>\n",
       "      <td>조회수 5.7억회</td>\n",
       "    </tr>\n",
       "    <tr>\n",
       "      <th>17</th>\n",
       "      <td>[MV] BTS(방탄소년단) _ Boy In Luv(상남자)</td>\n",
       "      <td>https://www.youtube.com/watch?v=m8MfJg68oCs&amp;pp...</td>\n",
       "      <td>전</td>\n",
       "      <td>조회수 5.5억회</td>\n",
       "    </tr>\n",
       "    <tr>\n",
       "      <th>18</th>\n",
       "      <td>Agust D '대취타' MV</td>\n",
       "      <td>https://www.youtube.com/watch?v=qGjAWJ2zWWI&amp;pp...</td>\n",
       "      <td>전</td>\n",
       "      <td>조회수 5억회</td>\n",
       "    </tr>\n",
       "    <tr>\n",
       "      <th>19</th>\n",
       "      <td>BTS (방탄소년단) '불타오르네 (FIRE)' Official MV</td>\n",
       "      <td>https://www.youtube.com/watch?v=4ujQOR2DMFM&amp;pp...</td>\n",
       "      <td>전</td>\n",
       "      <td>조회수 5억회</td>\n",
       "    </tr>\n",
       "  </tbody>\n",
       "</table>\n",
       "</div>"
      ],
      "text/plain": [
       "                                        제목  \\\n",
       "15  BTS (방탄소년단) 'Life Goes On' Official MV   \n",
       "16    BTS (방탄소년단) 'Black Swan' Official MV   \n",
       "17       [MV] BTS(방탄소년단) _ Boy In Luv(상남자)   \n",
       "18                        Agust D '대취타' MV   \n",
       "19  BTS (방탄소년단) '불타오르네 (FIRE)' Official MV   \n",
       "\n",
       "                                                   링크    조회수        업로드  \n",
       "15  https://www.youtube.com/watch?v=-5q5mZbe3V8&pp...  300만회  조회수 192만회  \n",
       "16  https://www.youtube.com/watch?v=0lapF4DQPKQ&pp...  276만회  조회수 5.7억회  \n",
       "17  https://www.youtube.com/watch?v=m8MfJg68oCs&pp...      전  조회수 5.5억회  \n",
       "18  https://www.youtube.com/watch?v=qGjAWJ2zWWI&pp...      전    조회수 5억회  \n",
       "19  https://www.youtube.com/watch?v=4ujQOR2DMFM&pp...      전    조회수 5억회  "
      ]
     },
     "execution_count": 55,
     "metadata": {},
     "output_type": "execute_result"
    }
   ],
   "source": [
    "df = get_data_from_youtube('방탄소년단') # get_data_from_youtube('방탄소년단', False) 도 가능\n",
    "df.tail()\n",
    "# df # 전체를 다 출력하려면 df.tail() 대신 df를 이용"
   ]
  },
  {
   "attachments": {},
   "cell_type": "markdown",
   "metadata": {},
   "source": [
    "[7장: 333페이지]"
   ]
  },
  {
   "cell_type": "code",
   "execution_count": 56,
   "metadata": {
    "scrolled": true
   },
   "outputs": [
    {
     "data": {
      "text/html": [
       "<div>\n",
       "<style scoped>\n",
       "    .dataframe tbody tr th:only-of-type {\n",
       "        vertical-align: middle;\n",
       "    }\n",
       "\n",
       "    .dataframe tbody tr th {\n",
       "        vertical-align: top;\n",
       "    }\n",
       "\n",
       "    .dataframe thead th {\n",
       "        text-align: right;\n",
       "    }\n",
       "</style>\n",
       "<table border=\"1\" class=\"dataframe\">\n",
       "  <thead>\n",
       "    <tr style=\"text-align: right;\">\n",
       "      <th></th>\n",
       "      <th>제목</th>\n",
       "      <th>링크</th>\n",
       "      <th>조회수</th>\n",
       "      <th>업로드</th>\n",
       "    </tr>\n",
       "  </thead>\n",
       "  <tbody>\n",
       "    <tr>\n",
       "      <th>15</th>\n",
       "      <td>BTS (방탄소년단) 'Life Goes On' Official MV</td>\n",
       "      <td>https://www.youtube.com/watch?v=-5q5mZbe3V8&amp;pp...</td>\n",
       "      <td>4068만회</td>\n",
       "      <td>조회수 2.7천회</td>\n",
       "    </tr>\n",
       "    <tr>\n",
       "      <th>16</th>\n",
       "      <td>BTS (방탄소년단) 'Black Swan' Official MV</td>\n",
       "      <td>https://www.youtube.com/watch?v=0lapF4DQPKQ&amp;pp...</td>\n",
       "      <td>498만회</td>\n",
       "      <td>조회수 300만회</td>\n",
       "    </tr>\n",
       "    <tr>\n",
       "      <th>17</th>\n",
       "      <td>[MV] BTS(방탄소년단) _ Boy In Luv(상남자)</td>\n",
       "      <td>https://www.youtube.com/watch?v=m8MfJg68oCs&amp;pp...</td>\n",
       "      <td>192만회</td>\n",
       "      <td>조회수 276만회</td>\n",
       "    </tr>\n",
       "    <tr>\n",
       "      <th>18</th>\n",
       "      <td>Agust D '대취타' MV</td>\n",
       "      <td>https://www.youtube.com/watch?v=qGjAWJ2zWWI&amp;pp...</td>\n",
       "      <td>5.7억회</td>\n",
       "      <td>6년 전</td>\n",
       "    </tr>\n",
       "    <tr>\n",
       "      <th>19</th>\n",
       "      <td>BTS (방탄소년단) '불타오르네 (FIRE)' Official MV</td>\n",
       "      <td>https://www.youtube.com/watch?v=4ujQOR2DMFM&amp;pp...</td>\n",
       "      <td>5.5억회</td>\n",
       "      <td>3년 전</td>\n",
       "    </tr>\n",
       "  </tbody>\n",
       "</table>\n",
       "</div>"
      ],
      "text/plain": [
       "                                        제목  \\\n",
       "15  BTS (방탄소년단) 'Life Goes On' Official MV   \n",
       "16    BTS (방탄소년단) 'Black Swan' Official MV   \n",
       "17       [MV] BTS(방탄소년단) _ Boy In Luv(상남자)   \n",
       "18                        Agust D '대취타' MV   \n",
       "19  BTS (방탄소년단) '불타오르네 (FIRE)' Official MV   \n",
       "\n",
       "                                                   링크     조회수        업로드  \n",
       "15  https://www.youtube.com/watch?v=-5q5mZbe3V8&pp...  4068만회  조회수 2.7천회  \n",
       "16  https://www.youtube.com/watch?v=0lapF4DQPKQ&pp...   498만회  조회수 300만회  \n",
       "17  https://www.youtube.com/watch?v=m8MfJg68oCs&pp...   192만회  조회수 276만회  \n",
       "18  https://www.youtube.com/watch?v=qGjAWJ2zWWI&pp...   5.7억회       6년 전  \n",
       "19  https://www.youtube.com/watch?v=4ujQOR2DMFM&pp...   5.5억회       3년 전  "
      ]
     },
     "execution_count": 56,
     "metadata": {},
     "output_type": "execute_result"
    }
   ],
   "source": [
    "df = get_data_from_youtube('방탄소년단', True)\n",
    "df.tail() # 전체 중 끝 부분만 확인\n",
    "# df # 전체를 다 출력하려면 df.tail() 대신 df를 이용"
   ]
  },
  {
   "attachments": {},
   "cell_type": "markdown",
   "metadata": {},
   "source": [
    "## 7.4 정리"
   ]
  }
 ],
 "metadata": {
  "anaconda-cloud": {},
  "kernelspec": {
   "display_name": "Python 3 (ipykernel)",
   "language": "python",
   "name": "python3"
  },
  "language_info": {
   "codemirror_mode": {
    "name": "ipython",
    "version": 3
   },
   "file_extension": ".py",
   "mimetype": "text/x-python",
   "name": "python",
   "nbconvert_exporter": "python",
   "pygments_lexer": "ipython3",
   "version": "3.9.12"
  },
  "latex_envs": {
   "LaTeX_envs_menu_present": true,
   "autoclose": false,
   "autocomplete": true,
   "bibliofile": "biblio.bib",
   "cite_by": "apalike",
   "current_citInitial": 1,
   "eqLabelWithNumbers": true,
   "eqNumInitial": 1,
   "hotkeys": {
    "equation": "Ctrl-E",
    "itemize": "Ctrl-I"
   },
   "labels_anchors": false,
   "latex_user_defs": false,
   "report_style_numbering": false,
   "user_envs_cfg": false
  },
  "nav_menu": {},
  "toc": {
   "base_numbering": "7",
   "nav_menu": {
    "height": "400px",
    "width": "252px"
   },
   "number_sections": false,
   "sideBar": true,
   "skip_h1_title": false,
   "title_cell": "Table of Contents",
   "title_sidebar": "Contents",
   "toc_cell": false,
   "toc_position": {
    "height": "545px",
    "left": "46px",
    "right": "1154px",
    "top": "142.133px",
    "width": "333px"
   },
   "toc_section_display": true,
   "toc_window_display": false
  },
  "toc_position": {
   "height": "503px",
   "left": "0px",
   "right": "952.167px",
   "top": "107px",
   "width": "300px"
  }
 },
 "nbformat": 4,
 "nbformat_minor": 2
}
