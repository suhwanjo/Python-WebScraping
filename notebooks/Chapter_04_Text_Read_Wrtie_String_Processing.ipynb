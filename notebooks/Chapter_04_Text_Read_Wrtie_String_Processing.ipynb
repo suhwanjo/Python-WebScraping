{
 "cells": [
  {
   "attachments": {},
   "cell_type": "markdown",
   "metadata": {},
   "source": [
    "# 4장 파일 읽고 쓰기와 문자열 처리"
   ]
  },
  {
   "attachments": {},
   "cell_type": "markdown",
   "metadata": {},
   "source": [
    "## 4.1 파일 읽고 쓰기"
   ]
  },
  {
   "attachments": {},
   "cell_type": "markdown",
   "metadata": {},
   "source": [
    "### 4.1.1 파일 읽고 쓰기 위한 기본 구조"
   ]
  },
  {
   "attachments": {},
   "cell_type": "markdown",
   "metadata": {},
   "source": [
    "### 4.1.2 파일 읽기"
   ]
  },
  {
   "attachments": {},
   "cell_type": "markdown",
   "metadata": {},
   "source": [
    "[4장: 130페이지]"
   ]
  },
  {
   "cell_type": "code",
   "execution_count": 2,
   "metadata": {},
   "outputs": [
    {
     "name": "stdout",
     "output_type": "stream",
     "text": [
      "Overwriting C:\\Users/shjo/Desktop/전공/Python-WebScraping-1\\data\\ch04\\read_test.txt\n"
     ]
    }
   ],
   "source": [
    "%%writefile C:\\Users/shjo/Desktop/전공/Python-WebScraping-1\\data\\ch04\\read_test.txt\n",
    "All grown-up\n",
    "were once children,\n",
    "although few of them\n",
    "remember it."
   ]
  },
  {
   "attachments": {},
   "cell_type": "markdown",
   "metadata": {},
   "source": [
    "[4장: 131페이지]"
   ]
  },
  {
   "cell_type": "code",
   "execution_count": 3,
   "metadata": {},
   "outputs": [
    {
     "name": "stdout",
     "output_type": "stream",
     "text": [
      "All grown-up\n",
      "were once children,\n",
      "although few of them\n",
      "remember it.\n",
      "\n"
     ]
    }
   ],
   "source": [
    "f = open('C:/Users/shjo/Desktop/전공/Python-WebScraping-1/data/ch04/read_test.txt', 'r') # 파일 열기(읽기 모드)\n",
    "data = f.read() # 파일의 내용 전체를 읽어서 변수에 할당\n",
    "f.close()       # 파일 닫기\n",
    "\n",
    "print(data)     # 읽어온 파일 내용 출력"
   ]
  },
  {
   "cell_type": "code",
   "execution_count": 4,
   "metadata": {},
   "outputs": [
    {
     "name": "stdout",
     "output_type": "stream",
     "text": [
      "대한민국 헌법(cp949로 인코딩)\n",
      "\n",
      "제1조\n",
      "①대한민국은 민주공화국이다.\n",
      "②대한민국의 주권은 국민에게 있고, 모든 권력은 국민으로부터 나온다.\n"
     ]
    }
   ],
   "source": [
    "# cp949로 인코딩된 한글 텍스트 파일 읽기 \n",
    "file_name='C:/Users/shjo/Desktop/전공/Python-WebScraping-1/data/ch04/헌법_cp949.txt' # 파일 경로를 변수에 할당\n",
    "\n",
    "f = open(file_name, 'r', encoding='cp949') # 파일 열기(읽기 모드)\n",
    "# f = open(file_name)\n",
    "data = f.read() # 파일의 내용 전체를 읽어서 변수에 할당\n",
    "f.close()       # 파일 닫기\n",
    "\n",
    "print(data)     # 읽어온 파일 내용 출력"
   ]
  },
  {
   "attachments": {},
   "cell_type": "markdown",
   "metadata": {},
   "source": [
    "[4장: 132페이지]"
   ]
  },
  {
   "cell_type": "code",
   "execution_count": 5,
   "metadata": {
    "scrolled": true
   },
   "outputs": [
    {
     "name": "stdout",
     "output_type": "stream",
     "text": [
      "대한민국 헌법(utf-8로 인코딩)\n",
      "\n",
      "제1조\n",
      "①대한민국은 민주공화국이다.\n",
      "②대한민국의 주권은 국민에게 있고, 모든 권력은 국민으로부터 나온다.\n"
     ]
    }
   ],
   "source": [
    "# utf-8로 인코딩된 한글 텍스트 파일 읽기 \n",
    "file_name = 'C:/Users/shjo/Desktop/전공/Python-WebScraping-1/data/ch04/헌법_utf8.txt' # 파일 경로를 변수에 할당\n",
    "\n",
    "f = open(file_name, 'r', encoding='utf-8') # 파일 열기(읽기 모드)\n",
    "data = f.read() # 파일의 내용 전체를 읽어서 변수에 할당\n",
    "f.close()       # 파일 닫기\n",
    "\n",
    "print(data)     # 읽어온 파일 내용 출력"
   ]
  },
  {
   "attachments": {},
   "cell_type": "markdown",
   "metadata": {},
   "source": [
    "### 4.1.3 파일을 한 줄씩 읽어 처리하기"
   ]
  },
  {
   "attachments": {},
   "cell_type": "markdown",
   "metadata": {},
   "source": [
    "#### 한 줄씩 읽어오기: `readline()`"
   ]
  },
  {
   "attachments": {},
   "cell_type": "markdown",
   "metadata": {},
   "source": [
    "[4장: 133페이지]"
   ]
  },
  {
   "cell_type": "code",
   "execution_count": 6,
   "metadata": {
    "scrolled": true
   },
   "outputs": [
    {
     "name": "stdout",
     "output_type": "stream",
     "text": [
      "All grown-up\n",
      "were once children,\n"
     ]
    }
   ],
   "source": [
    "file_name = 'C:/Users/shjo/Desktop/전공/Python-WebScraping-1/data/ch04/read_test.txt' # 파일 경로를 변수에 할당\n",
    "\n",
    "f = open(file_name, 'r') # 파일 열기(읽기 모드)\n",
    "\n",
    "line1 = f.readline() # 파일의 내용을 한 줄씩 읽어서 변수에 할당\n",
    "line2 = f.readline() # 파일의 내용을 한 줄씩 읽어서 변수에 할당\n",
    "f.close()  # 파일 닫기\n",
    "\n",
    "print(line1, end='') # print 자체의 개행문자는 출력하지 않고 내용 출력\n",
    "print(line2, end='')"
   ]
  },
  {
   "cell_type": "code",
   "execution_count": 7,
   "metadata": {},
   "outputs": [
    {
     "name": "stdout",
     "output_type": "stream",
     "text": [
      "1: All grown-up\n",
      "2: were once children,\n",
      "3: although few of them\n",
      "4: remember it.\n"
     ]
    }
   ],
   "source": [
    "file_name = 'C:/Users/shjo/Desktop/전공/Python-WebScraping-1/data/ch04/read_test.txt' # 파일 경로를 변수에 할당\n",
    "\n",
    "f = open(file_name, 'r')  # 파일 열기(읽기 모드)\n",
    "line_num = 0 # 줄 수 표시를 위한 변수 초기화\n",
    "\n",
    "while True:              \n",
    "    line = f.readline()      # 파일의 내용을 한 줄씩 읽어서 변수에 할당\n",
    "    if (line == ''):         # line이 빈 문자열인지 검사 \n",
    "        break                # 빈 문자열이면 while문을 빠져나감\n",
    "    line_num = line_num + 1  # line_num 을 1씩 증가 \n",
    "    print(\"{0}: {1}\".format(line_num, line), end='') # 줄 수와 읽은 문자열 출력\n",
    "    \n",
    "f.close() # 파일 닫기"
   ]
  },
  {
   "attachments": {},
   "cell_type": "markdown",
   "metadata": {},
   "source": [
    "#### 한 줄씩을 요소로 갖는 리스트로 읽어오기:  `readlines()`"
   ]
  },
  {
   "attachments": {},
   "cell_type": "markdown",
   "metadata": {},
   "source": [
    "[4장: 134페이지]"
   ]
  },
  {
   "cell_type": "code",
   "execution_count": 8,
   "metadata": {},
   "outputs": [
    {
     "name": "stdout",
     "output_type": "stream",
     "text": [
      "['All grown-up\\n', 'were once children,\\n', 'although few of them\\n', 'remember it.\\n']\n"
     ]
    }
   ],
   "source": [
    "file_name = 'C:/Users/shjo/Desktop/전공/Python-WebScraping-1/data/ch04/read_test.txt' # 파일 경로를 변수에 할당\n",
    "\n",
    "f = open(file_name, 'r') # 파일 열기(읽기 모드)\n",
    "lines = f.readlines()    # 파일 전체의 내용을 읽어서 변수에 할당\n",
    "f.close()                # 파일 닫기\n",
    "\n",
    "print(lines)"
   ]
  },
  {
   "cell_type": "code",
   "execution_count": 9,
   "metadata": {},
   "outputs": [
    {
     "name": "stdout",
     "output_type": "stream",
     "text": [
      "1: All grown-up\n",
      "2: were once children,\n",
      "3: although few of them\n",
      "4: remember it.\n"
     ]
    }
   ],
   "source": [
    "file_name = 'C:/Users/shjo/Desktop/전공/Python-WebScraping-1/data/ch04/read_test.txt' # 파일 경로를 변수에 할당\n",
    "\n",
    "f = open(file_name, 'r') # 파일 열기(읽기 모드)\n",
    "lines = f.readlines()    # 파일 전체의 내용을 읽어서 변수에 할당\n",
    "f.close() # 파일 닫기\n",
    "\n",
    "line_num = 0 # 줄 수 표시를 위한 변수 초기화\n",
    "for line in lines:\n",
    "    line_num = line_num + 1  # line_num 을 1씩 증가 \n",
    "    print(\"{0}: {1}\".format(line_num, line), end='') # 줄 수와 읽은 문자열 출력"
   ]
  },
  {
   "attachments": {},
   "cell_type": "markdown",
   "metadata": {},
   "source": [
    "### 4.1.4 파일 쓰기"
   ]
  },
  {
   "attachments": {},
   "cell_type": "markdown",
   "metadata": {},
   "source": [
    "[4장: 135페이지]"
   ]
  },
  {
   "cell_type": "code",
   "execution_count": 10,
   "metadata": {},
   "outputs": [
    {
     "name": "stdout",
     "output_type": "stream",
     "text": [
      "생성한 파일: C:/Users/shjo/Desktop/전공/Python-WebScraping-1/data/ch04/write_test.txt\n"
     ]
    }
   ],
   "source": [
    "file_name = 'C:/Users/shjo/Desktop/전공/Python-WebScraping-1/data/ch04/write_test.txt' # 파일 경로를 변수에 할당\n",
    "\n",
    "f = open(file_name, 'w') # 파일 열기(쓰기 모드)\n",
    "f.write(\"Python is powerful... and fast;\\n\") # 문자열을 파일에 쓰기\n",
    "f.write(\"plays well with others;\\n\")\n",
    "f.write(\"runs everywhere;\\n\")\n",
    "f.write(\"is friendly & easy to learn;\\n\")\n",
    "f.write(\"is Open.\\n\")\n",
    "f.close() # 파일 닫기\n",
    "\n",
    "print(\"생성한 파일:\", file_name) # 생성한 파일 이름 출력"
   ]
  },
  {
   "attachments": {},
   "cell_type": "markdown",
   "metadata": {},
   "source": [
    "[4장: 136페이지]"
   ]
  },
  {
   "cell_type": "code",
   "execution_count": 11,
   "metadata": {},
   "outputs": [
    {
     "name": "stderr",
     "output_type": "stream",
     "text": [
      "���� ������ �ùٸ��� �ʽ��ϴ�.\n"
     ]
    }
   ],
   "source": [
    "!type C:\\Users/shjo/Desktop/전공/Python-WebScraping-1\\data\\ch04\\write_test.txt"
   ]
  },
  {
   "cell_type": "code",
   "execution_count": 12,
   "metadata": {},
   "outputs": [
    {
     "name": "stdout",
     "output_type": "stream",
     "text": [
      "생성한 파일: C:/Users/shjo/Desktop/전공/Python-WebScraping-1/data/ch04/two_times.txt\n"
     ]
    }
   ],
   "source": [
    "file_name = 'C:/Users/shjo/Desktop/전공/Python-WebScraping-1/data/ch04/two_times.txt' # 파일 경로를 변수에 할당\n",
    "\n",
    "f = open(file_name, 'w') # 파일 열기(쓰기 모드)\n",
    "f.write(\"[구구단 2단의 일부]\\n\")\n",
    "for num in range(1, 6): # for문: num이 1~5까지 반복\n",
    "    format_string = \"2 x {0} = {1}\\n\".format(num, 2 * num) # 저장할 문자열 생성\n",
    "    f.write(format_string) # 파일에 문자열 쓰기\n",
    "f.close() # 파일 닫기\n",
    "\n",
    "print(\"생성한 파일:\", file_name) # 생성한 파일 이름 출력"
   ]
  },
  {
   "cell_type": "code",
   "execution_count": 13,
   "metadata": {},
   "outputs": [
    {
     "name": "stderr",
     "output_type": "stream",
     "text": [
      "���� ������ �ùٸ��� �ʽ��ϴ�.\n"
     ]
    }
   ],
   "source": [
    "!type C:\\Users/shjo/Desktop/전공/Python-WebScraping-1\\data\\ch04\\two_times.txt"
   ]
  },
  {
   "attachments": {},
   "cell_type": "markdown",
   "metadata": {},
   "source": [
    "### 4.1.5 with 문으로 파일 읽고 쓰기 "
   ]
  },
  {
   "attachments": {},
   "cell_type": "markdown",
   "metadata": {},
   "source": [
    "[4장: 137페이지]"
   ]
  },
  {
   "cell_type": "code",
   "execution_count": 14,
   "metadata": {},
   "outputs": [],
   "source": [
    "file_name = 'C:/Users/shjo/Desktop/전공/Python-WebScraping-1/data/ch04/three_times.txt' # 파일 경로를 변수에 할당\n",
    "\n",
    "with open(file_name, 'w') as f:       # 파일 열기(쓰기 모드)\n",
    "    f.write(\"[구구단 3단의 일부]\\n\")   \n",
    "    for num in range(1, 6):            # for문: num이 1~5까지 반복\n",
    "        format_string = \"3 x {0} = {1}\\n\".format(num, 3 * num) # 저장할 문자열 생성\n",
    "        f.write(format_string)        # 파일에 문자열 쓰기"
   ]
  },
  {
   "cell_type": "code",
   "execution_count": 15,
   "metadata": {},
   "outputs": [
    {
     "name": "stdout",
     "output_type": "stream",
     "text": [
      "[구구단 3단의 일부]\n",
      "3 x 1 = 3\n",
      "3 x 2 = 6\n",
      "3 x 3 = 9\n",
      "3 x 4 = 12\n",
      "3 x 5 = 15\n",
      "\n"
     ]
    }
   ],
   "source": [
    "with open(file_name, 'r') as f:  # 파일 열기(읽기 모드)\n",
    "    data = f.read()               # 파일에서 문자열 읽기\n",
    "    print(data)"
   ]
  },
  {
   "attachments": {},
   "cell_type": "markdown",
   "metadata": {},
   "source": [
    "## 4.2 문자열 처리"
   ]
  },
  {
   "attachments": {},
   "cell_type": "markdown",
   "metadata": {},
   "source": [
    "### 4.2.1 문자열 분리하기: `split()`"
   ]
  },
  {
   "attachments": {},
   "cell_type": "markdown",
   "metadata": {},
   "source": [
    "[4장: 138페이지]"
   ]
  },
  {
   "cell_type": "code",
   "execution_count": 16,
   "metadata": {},
   "outputs": [
    {
     "data": {
      "text/plain": [
       "['에스프레소', '아메리카노', '카페라테', '카푸치노']"
      ]
     },
     "execution_count": 16,
     "metadata": {},
     "output_type": "execute_result"
    }
   ],
   "source": [
    "\"에스프레소,아메리카노,카페라테,카푸치노\".split(',')"
   ]
  },
  {
   "cell_type": "code",
   "execution_count": 17,
   "metadata": {},
   "outputs": [
    {
     "data": {
      "text/plain": [
       "['에스프레소', '아메리카노', '카페라테', '카푸치노']"
      ]
     },
     "execution_count": 17,
     "metadata": {},
     "output_type": "execute_result"
    }
   ],
   "source": [
    "\"  에스프레소 아메리카노   카페라테      카푸치노\\n\".split()"
   ]
  },
  {
   "attachments": {},
   "cell_type": "markdown",
   "metadata": {},
   "source": [
    "### 4.2.2 불필요한 문자열 삭제하기: `strip()`"
   ]
  },
  {
   "attachments": {},
   "cell_type": "markdown",
   "metadata": {},
   "source": [
    "[4장: 139페이지]"
   ]
  },
  {
   "cell_type": "code",
   "execution_count": 18,
   "metadata": {},
   "outputs": [
    {
     "data": {
      "text/plain": [
       "'Python'"
      ]
     },
     "execution_count": 18,
     "metadata": {},
     "output_type": "execute_result"
    }
   ],
   "source": [
    "\"aaaaPythonaaa\".strip('a')"
   ]
  },
  {
   "cell_type": "code",
   "execution_count": 19,
   "metadata": {},
   "outputs": [
    {
     "data": {
      "text/plain": [
       "'Python'"
      ]
     },
     "execution_count": 19,
     "metadata": {},
     "output_type": "execute_result"
    }
   ],
   "source": [
    "\"\\n  Python  \\n\\n\".strip()"
   ]
  },
  {
   "attachments": {},
   "cell_type": "markdown",
   "metadata": {},
   "source": [
    "### 4.2.3 문자열 연결하기: `join()`"
   ]
  },
  {
   "attachments": {},
   "cell_type": "markdown",
   "metadata": {},
   "source": [
    "[4장: 140페이지]"
   ]
  },
  {
   "cell_type": "code",
   "execution_count": 20,
   "metadata": {},
   "outputs": [
    {
     "data": {
      "text/plain": [
       "'서울시 서초구 반포대로 201(반포동)'"
      ]
     },
     "execution_count": 20,
     "metadata": {},
     "output_type": "execute_result"
    }
   ],
   "source": [
    "\" \".join([\"서울시\",\"서초구\",\"반포대로\",\"201(반포동)\"])"
   ]
  },
  {
   "cell_type": "code",
   "execution_count": 21,
   "metadata": {},
   "outputs": [
    {
     "data": {
      "text/plain": [
       "'서울시****서초구****반포대로****201(반포동)'"
      ]
     },
     "execution_count": 21,
     "metadata": {},
     "output_type": "execute_result"
    }
   ],
   "source": [
    "\"****\".join([\"서울시\",\"서초구\",\"반포대로\",\"201(반포동)\"])"
   ]
  },
  {
   "cell_type": "code",
   "execution_count": 22,
   "metadata": {},
   "outputs": [
    {
     "data": {
      "text/plain": [
       "'서울시\\n서초구\\n반포대로\\n201(반포동)'"
      ]
     },
     "execution_count": 22,
     "metadata": {},
     "output_type": "execute_result"
    }
   ],
   "source": [
    "joined_str = \"\\n\".join([\"서울시\",\"서초구\",\"반포대로\",\"201(반포동)\"])\n",
    "joined_str"
   ]
  },
  {
   "cell_type": "code",
   "execution_count": 23,
   "metadata": {},
   "outputs": [
    {
     "name": "stdout",
     "output_type": "stream",
     "text": [
      "서울시\n",
      "서초구\n",
      "반포대로\n",
      "201(반포동)\n"
     ]
    }
   ],
   "source": [
    "print(joined_str)"
   ]
  },
  {
   "attachments": {},
   "cell_type": "markdown",
   "metadata": {},
   "source": [
    "### 4.2.4 문자열 찾기: `find()`, `count()`, `startswith()`, `endswith()`"
   ]
  },
  {
   "attachments": {},
   "cell_type": "markdown",
   "metadata": {},
   "source": [
    "[4장: 141페이지]"
   ]
  },
  {
   "cell_type": "code",
   "execution_count": 24,
   "metadata": {},
   "outputs": [
    {
     "name": "stdout",
     "output_type": "stream",
     "text": [
      "0\n",
      "20\n",
      "30\n",
      "-1\n",
      "-1\n"
     ]
    }
   ],
   "source": [
    "str_p = \"Python is powerful. Python is easy.\"\n",
    "\n",
    "print(str_p.find(\"Python\"))         # 전체 범위\n",
    "print(str_p.find(\"Python\", 10, 30)) # 시작과 끝 범위 지정\n",
    "print(str_p.find(\"easy\"))           # 전체 범위\n",
    "print(str_p.find(\"Python\", 21))     # 시작 범위 지정. 일치하는 문자열 없음\n",
    "print(str_p.find(\"Jupyter\"))        # 전체 범위. 일치하는 문자열 없음"
   ]
  },
  {
   "attachments": {},
   "cell_type": "markdown",
   "metadata": {},
   "source": [
    "[4장: 142페이지]"
   ]
  },
  {
   "cell_type": "code",
   "execution_count": 25,
   "metadata": {},
   "outputs": [
    {
     "name": "stdout",
     "output_type": "stream",
     "text": [
      "2\n",
      "1\n",
      "1\n",
      "0\n",
      "0\n"
     ]
    }
   ],
   "source": [
    "print(str_p.count(\"Python\"))         # 전체 범위\n",
    "print(str_p.count(\"Python\", 10, 30)) # 시작과 끝 범위 지정\n",
    "print(str_p.count(\"easy\"))           # 전체 범위\n",
    "print(str_p.count(\"Python\", 21))     # 시작 범위 지정. 일치하는 문자열 없음\n",
    "print(str_p.count(\"Jupyter\"))        # 전체 범위. 일치하는 문자열 없음"
   ]
  },
  {
   "attachments": {},
   "cell_type": "markdown",
   "metadata": {},
   "source": [
    "[4장: 143페이지]"
   ]
  },
  {
   "cell_type": "code",
   "execution_count": 26,
   "metadata": {
    "scrolled": true
   },
   "outputs": [
    {
     "name": "stdout",
     "output_type": "stream",
     "text": [
      "- 문자열이 'Python'으로 시작? True\n",
      "- 문자열이 'powerful'로 시작? False\n",
      "- 지정 범위에서 'powerful'로 시작? True\n",
      "- 문자열이 'easy.'으로 끝? True\n"
     ]
    }
   ],
   "source": [
    "print(\"- 문자열이 'Python'으로 시작?\", str_p.startswith(\"Python\"))\n",
    "print(\"- 문자열이 'powerful'로 시작?\", str_p.startswith(\"powerful\"))\n",
    "print(\"- 지정 범위에서 'powerful'로 시작?\", str_p.startswith(\"powerful\",10))\n",
    "print(\"- 문자열이 'easy.'으로 끝?\", str_p.endswith(\"easy.\"))"
   ]
  },
  {
   "attachments": {},
   "cell_type": "markdown",
   "metadata": {},
   "source": [
    "### 4.2.5 문자열 바꾸기: `replace()`"
   ]
  },
  {
   "attachments": {},
   "cell_type": "markdown",
   "metadata": {},
   "source": [
    "[4장: 143페이지]"
   ]
  },
  {
   "cell_type": "code",
   "execution_count": 27,
   "metadata": {},
   "outputs": [
    {
     "name": "stdout",
     "output_type": "stream",
     "text": [
      "IPython is powerful. IPython is easy. IPython is open.\n",
      "IPython is powerful. IPython is easy. Python is open.\n"
     ]
    }
   ],
   "source": [
    "str_o = \"Python is powerful. Python is easy. Python is open.\"\n",
    "print(str_o.replace(\"Python\", \"IPython\"))    # 전체 범위\n",
    "print(str_o.replace(\"Python\", \"IPython\", 2)) # 횟수 지정"
   ]
  },
  {
   "attachments": {},
   "cell_type": "markdown",
   "metadata": {},
   "source": [
    "### 4.2.6 대소문자 변경하기: `lower()`, `upper()`"
   ]
  },
  {
   "attachments": {},
   "cell_type": "markdown",
   "metadata": {},
   "source": [
    "[4장: 144페이지]"
   ]
  },
  {
   "cell_type": "code",
   "execution_count": 28,
   "metadata": {},
   "outputs": [
    {
     "name": "stdout",
     "output_type": "stream",
     "text": [
      "python is powerful. python is easy.\n",
      "PYTHON IS POWERFUL. PYTHON IS EASY.\n"
     ]
    }
   ],
   "source": [
    "str_lu = \"Python is powerful. PYTHON IS EASY.\"\n",
    "print(str_lu.lower()) # 문자열을 모두 소문자로 바꾸기\n",
    "print(str_lu.upper()) # 문자열을 모두 대문자로 바꾸기"
   ]
  },
  {
   "attachments": {},
   "cell_type": "markdown",
   "metadata": {},
   "source": [
    "## 4.3 정리"
   ]
  }
 ],
 "metadata": {
  "kernelspec": {
   "display_name": "Python 3 (ipykernel)",
   "language": "python",
   "name": "python3"
  },
  "language_info": {
   "codemirror_mode": {
    "name": "ipython",
    "version": 3
   },
   "file_extension": ".py",
   "mimetype": "text/x-python",
   "name": "python",
   "nbconvert_exporter": "python",
   "pygments_lexer": "ipython3",
   "version": "3.9.12"
  },
  "toc": {
   "base_numbering": "4",
   "nav_menu": {},
   "number_sections": false,
   "sideBar": true,
   "skip_h1_title": false,
   "title_cell": "Table of Contents",
   "title_sidebar": "Contents",
   "toc_cell": false,
   "toc_position": {
    "height": "calc(100% - 180px)",
    "left": "10px",
    "top": "150px",
    "width": "362px"
   },
   "toc_section_display": true,
   "toc_window_display": false
  }
 },
 "nbformat": 4,
 "nbformat_minor": 2
}
